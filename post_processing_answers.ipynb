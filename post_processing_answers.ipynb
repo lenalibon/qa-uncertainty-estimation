{
 "cells": [
  {
   "metadata": {},
   "cell_type": "markdown",
   "source": [
    "# Post-processing answers\n",
    "## Previous:\n",
    "**For multinomial sampling:**\n",
    "```python \n",
    "{ 1131: {\"question\": ..., \n",
    "         \"true_answer\": ..., \n",
    "         \"temperature_0.25\": {\"answers\": [...], \"probabilities\": [...], \"length_output\": [...]},\n",
    "         \"temperature_0.5\": {\"answers\": [...], \"probabilities\": [...], \"length_output\": [...]},\n",
    "         \"temperature_1\": {\"answers\": [...], \"probabilities\": [...], \"length_output\": [...]},\n",
    "         \"temperature_1.5\": {\"answers\": [...], \"probabilities\": [...], \"length_output\": [...]}\n",
    "        }, \n",
    "  4295: ...\n",
    "}\n",
    "```\n",
    "\n",
    "**For multinomial beam sampling:**\n",
    "```python \n",
    "{ 1131: {\"question\": ..., \n",
    "         \"true_answer\": ..., \n",
    "         \"beam_20\": {\"answers\": [...], \"probabilities\": [...], \"length_output\": [...]}\n",
    "        }, \n",
    "  4295: ...\n",
    "}\n",
    "```\n",
    "\n",
    "## New structure:\n",
    "Reason: Don't save ambiguous info\n",
    "```python \n",
    "{ 1131: {\"question\": ..., \n",
    "         \"true_answer\": ..., \n",
    "         \"temperature_0.25\": {\"answers\": [...], \"probabilities\": [...], \"length_output\": [...]},\n",
    "         \"temperature_0.5\": {\"answers\": [...], \"probabilities\": [...], \"length_output\": [...]},\n",
    "         \"temperature_1\": {\"answers\": [...], \"probabilities\": [...], \"length_output\": [...]},\n",
    "         \"temperature_1.5\": {\"answers\": [...], \"probabilities\": [...], \"length_output\": [...]},\n",
    "         \"beam_20\": {\"answers\": [...], \"probabilities\": [...], \"length_output\": [...]}\n",
    "        }, \n",
    "  4295: ...\n",
    "}\n",
    "```\n",
    "\n",
    "In addition, answers still contain EOS -> Remove it as it is not needed"
   ],
   "id": "db9dfd1e705a162b"
  },
  {
   "metadata": {
    "ExecuteTime": {
     "end_time": "2024-06-12T11:00:26.195461Z",
     "start_time": "2024-06-12T11:00:26.155468Z"
    }
   },
   "cell_type": "code",
   "source": [
    "import pickle\n",
    "import glob\n",
    "import yaml\n",
    "import os\n",
    "\n",
    "with open(\"config.yaml\", \"r\") as f:\n",
    "    config = yaml.safe_load(f)"
   ],
   "id": "f40a47ed346020b5",
   "outputs": [],
   "execution_count": 1
  },
  {
   "metadata": {
    "ExecuteTime": {
     "end_time": "2024-06-12T11:00:27.976029Z",
     "start_time": "2024-06-12T11:00:27.969030Z"
    }
   },
   "cell_type": "code",
   "source": [
    "def load_pickle_files(folder):\n",
    "    data_groups = []\n",
    "    pickle_files = glob.glob(f\"{folder}/*.pkl\")\n",
    "    for pickle_file in pickle_files:\n",
    "        with open(pickle_file, \"rb\") as f:\n",
    "            data_groups.append(pickle.load(f))\n",
    "\n",
    "    return data_groups"
   ],
   "id": "535787ded0d408d8",
   "outputs": [],
   "execution_count": 2
  },
  {
   "metadata": {
    "ExecuteTime": {
     "end_time": "2024-06-12T11:00:30.877546Z",
     "start_time": "2024-06-12T11:00:30.753787Z"
    }
   },
   "cell_type": "code",
   "source": [
    "# Load pickle files\n",
    "save_path = config[\"path_to_saved_generations\"]\n",
    "\n",
    "data_multinomial = load_pickle_files(os.path.join(save_path, \"multinomial_sampling\"))\n",
    "data_beam = load_pickle_files(os.path.join(save_path, \"multinomial_beam_sampling\"))"
   ],
   "id": "659fd06bf57aae21",
   "outputs": [],
   "execution_count": 3
  },
  {
   "cell_type": "code",
   "id": "initial_id",
   "metadata": {
    "collapsed": true,
    "ExecuteTime": {
     "end_time": "2024-06-12T11:00:32.807923Z",
     "start_time": "2024-06-12T11:00:32.786927Z"
    }
   },
   "source": [
    "def post_process(dict_multinomial, dict_beam):\n",
    "    # Merge dictionaries\n",
    "    assert dict_multinomial.keys() == dict_beam.keys()\n",
    "    merged_dict = dict_multinomial.copy()\n",
    "\n",
    "    for key in dict_beam.keys():\n",
    "        assert merged_dict[key][\"question\"] == dict_beam[key][\"question\"]\n",
    "        assert merged_dict[key][\"true_answer\"] == dict_beam[key][\"true_answer\"]\n",
    "        for beam_key in [k for k in dict_beam[key].keys() if \"beam_\" in k]:\n",
    "            merged_dict[key][beam_key] = dict_beam[key][beam_key].copy()\n",
    "\n",
    "        # Delete EOS\n",
    "        for config_key in merged_dict[key]:\n",
    "            if \"temperature\" in config_key or \"beam\" in config_key:\n",
    "                merged_dict[key][config_key][\"answers\"] = [answer.replace(\"\\n\", \"\") for answer in\n",
    "                                                           merged_dict[key][config_key][\"answers\"]]\n",
    "\n",
    "    return merged_dict"
   ],
   "outputs": [],
   "execution_count": 4
  },
  {
   "metadata": {
    "ExecuteTime": {
     "end_time": "2024-06-12T11:00:34.161602Z",
     "start_time": "2024-06-12T11:00:34.005281Z"
    }
   },
   "cell_type": "code",
   "source": [
    "for group_nr, dict_group in enumerate(zip(data_multinomial, data_beam)):\n",
    "    dict_multinomial, dict_beam = dict_group\n",
    "    post_processed_dict = post_process(dict_multinomial, dict_beam)\n",
    "\n",
    "    # Save as pickle file\n",
    "    with open(os.path.join(save_path, f\"group{group_nr}.pkl\"), \"wb\") as f:\n",
    "        pickle.dump(post_processed_dict, f)"
   ],
   "id": "6508fbe43c9acbd8",
   "outputs": [],
   "execution_count": 5
  },
  {
   "metadata": {},
   "cell_type": "markdown",
   "source": "## Check if correctly converted",
   "id": "31a075370a3513fa"
  },
  {
   "metadata": {
    "ExecuteTime": {
     "end_time": "2024-06-12T11:00:38.318233Z",
     "start_time": "2024-06-12T11:00:38.094582Z"
    }
   },
   "cell_type": "code",
   "source": [
    "expected_samples_group = 1000\n",
    "expected_generations = config[\"n_generations_per_answer\"]\n",
    "expected_keys = [f\"temperature_{t}\" for t in config[\"temperatures\"]] + [f\"beam_{b}\" for b in config[\"n_beams\"]]\n",
    "save_path = config[\"path_to_saved_generations\"]\n",
    "\n",
    "with open(os.path.join(save_path, \"group_indices.txt\"), \"r\") as f:\n",
    "    indices_groups = [[int(i) for i in line.strip().split(\",\")] for line in f]\n",
    "\n",
    "pickle_files = [f for f in os.listdir(save_path) if f.endswith(\".pkl\") and \"group\" in f]\n",
    "\n",
    "for file in pickle_files:\n",
    "    print(file)\n",
    "    path = os.path.join(save_path, file)\n",
    "    with open(path, \"rb\") as f:\n",
    "        content = pickle.load(f)\n",
    "\n",
    "    if len(content) != expected_samples_group:\n",
    "        raise Exception(f\"Only {len(content)} samples found.\")\n",
    "\n",
    "    if set(content.keys()) != set(indices_groups[int(file.replace(\"group\", \"\").replace(\".pkl\", \"\"))]):\n",
    "        raise Exception(\"Wrong questions.\")\n",
    "\n",
    "    for idx, info in content.items():\n",
    "        if \"question\" not in info or \"true_answer\" not in info:\n",
    "            raise Exception(\"Wrong keys in dict\")\n",
    "\n",
    "        for k in expected_keys:\n",
    "            if not (\"answers\" in info[k] and \"probabilities\" in info[k] and \"length_sequences\" in\n",
    "                    info[k]):\n",
    "                raise Exception(f\"Wrong keys in dict: {info[k].keys()}\")\n",
    "\n",
    "            if len(info[k][\"answers\"]) != len(info[k][\"probabilities\"]) != len(\n",
    "                    info[k][\"length_output\"]) != expected_generations:\n",
    "                raise Exception(\"Wrong number of generated answers\")\n",
    "\n",
    "    print(\"Done - All good\")"
   ],
   "id": "ccab1c182d3ec3cb",
   "outputs": [
    {
     "name": "stdout",
     "output_type": "stream",
     "text": [
      "group0.pkl\n",
      "Done - All good\n",
      "group1.pkl\n",
      "Done - All good\n",
      "group2.pkl\n",
      "Done - All good\n",
      "group3.pkl\n",
      "Done - All good\n",
      "group4.pkl\n",
      "Done - All good\n"
     ]
    }
   ],
   "execution_count": 6
  },
  {
   "metadata": {},
   "cell_type": "code",
   "outputs": [],
   "execution_count": null,
   "source": "",
   "id": "7bd887559d83ae7d"
  }
 ],
 "metadata": {
  "kernelspec": {
   "display_name": "Python 3",
   "language": "python",
   "name": "python3"
  },
  "language_info": {
   "codemirror_mode": {
    "name": "ipython",
    "version": 2
   },
   "file_extension": ".py",
   "mimetype": "text/x-python",
   "name": "python",
   "nbconvert_exporter": "python",
   "pygments_lexer": "ipython2",
   "version": "2.7.6"
  }
 },
 "nbformat": 4,
 "nbformat_minor": 5
}
