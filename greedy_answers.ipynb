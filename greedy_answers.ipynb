{
 "cells": [
  {
   "metadata": {},
   "cell_type": "markdown",
   "source": [
    "# Generate greedy answers\n",
    "The greedy answers are evaluated to determine whether they are correct or incorrect in order to later calculate the AUROC. To see if an answer is correct/incorrect, the paper proposes to take the fuzzy matching criterion $L(s, s') = \\mathbb{1}_{\\text{RougeL}(s, s') > 0.3}$ (page 7).\n",
    "\n",
    "\n",
    "Structure:\n",
    "\n",
    "```python \n",
    "{ 1131: {\"greedy_answer\": ..., \n",
    "         \"rouge_l_score\": ...\n",
    "        }, \n",
    "  4295: ...\n",
    "}\n",
    "```\n",
    "rouge_l_score stands for the Rouge-L score of the generated answer against the true answer. "
   ],
   "id": "88ffdcf85521522f"
  },
  {
   "metadata": {
    "ExecuteTime": {
     "end_time": "2024-06-29T00:24:18.535636Z",
     "start_time": "2024-06-29T00:24:11.449614Z"
    }
   },
   "cell_type": "code",
   "source": [
    "import torch\n",
    "from datasets import load_dataset\n",
    "from transformers import AutoTokenizer, OPTForCausalLM, AutoModelForSequenceClassification\n",
    "import yaml\n",
    "import os\n",
    "import pickle\n",
    "from rouge_score import rouge_scorer\n",
    "from tqdm import tqdm\n",
    "import pandas as pd\n",
    "import seaborn as sns\n",
    "import matplotlib.pyplot as plt\n",
    "import warnings\n",
    "from sklearn.metrics import confusion_matrix, ConfusionMatrixDisplay\n",
    "\n",
    "warnings.simplefilter(action='ignore', category=FutureWarning)\n",
    "\n",
    "with open(\"config.yaml\", \"r\") as f:\n",
    "    config = yaml.safe_load(f)"
   ],
   "id": "528b7f35a0370ddf",
   "outputs": [],
   "execution_count": 2
  },
  {
   "metadata": {
    "ExecuteTime": {
     "end_time": "2024-06-29T00:24:29.879578Z",
     "start_time": "2024-06-29T00:24:18.537634Z"
    }
   },
   "cell_type": "code",
   "source": [
    "# Load data\n",
    "model_dir = config[\"model_dir\"]\n",
    "data_trivia = load_dataset(\"trivia_qa\", \"rc.nocontext\")\n",
    "data_trivia = data_trivia.remove_columns([\"question_source\", \"entity_pages\", \"search_results\"])\n",
    "data_trivia_train = data_trivia[\"train\"]\n",
    "data_trivia_val = data_trivia[\"validation\"]"
   ],
   "id": "d89f95f85f45a310",
   "outputs": [
    {
     "data": {
      "text/plain": [
       "Resolving data files:   0%|          | 0/26 [00:00<?, ?it/s]"
      ],
      "application/vnd.jupyter.widget-view+json": {
       "version_major": 2,
       "version_minor": 0,
       "model_id": "df83098a54944390b3c5be6c7a8ce4f0"
      }
     },
     "metadata": {},
     "output_type": "display_data"
    }
   ],
   "execution_count": 3
  },
  {
   "metadata": {
    "ExecuteTime": {
     "end_time": "2024-06-13T18:37:43.096209Z",
     "start_time": "2024-06-13T18:37:43.005152Z"
    }
   },
   "cell_type": "code",
   "source": [
    "device = torch.device(\"cuda\" if torch.cuda.is_available() else \"cpu\")\n",
    "device"
   ],
   "id": "cc9f5071c6b141dc",
   "outputs": [
    {
     "data": {
      "text/plain": [
       "device(type='cuda')"
      ]
     },
     "execution_count": 4,
     "metadata": {},
     "output_type": "execute_result"
    }
   ],
   "execution_count": 4
  },
  {
   "metadata": {
    "ExecuteTime": {
     "end_time": "2024-06-10T15:59:04.552478Z",
     "start_time": "2024-06-10T15:57:26.118018Z"
    }
   },
   "cell_type": "code",
   "source": [
    "checkpoint = config[\"checkpoint\"]\n",
    "tokenizer = AutoTokenizer.from_pretrained(f\"facebook/{checkpoint}\", cache_dir=model_dir)\n",
    "model = OPTForCausalLM.from_pretrained(f\"facebook/{checkpoint}\", cache_dir=model_dir)\n",
    "model = model.to(device)"
   ],
   "id": "88fe8bed8ecbc705",
   "outputs": [],
   "execution_count": 4
  },
  {
   "metadata": {
    "ExecuteTime": {
     "end_time": "2024-06-10T15:59:04.598563Z",
     "start_time": "2024-06-10T15:59:04.554447Z"
    }
   },
   "cell_type": "code",
   "source": [
    "selected_training_data = data_trivia_train.select(range(0, 10))\n",
    "ten_shot_prompt = \"\"\n",
    "for data in selected_training_data:\n",
    "    ten_shot_prompt += \"QUESTION:\" + data[\"question\"] + \"ANSWER:\" + data[\"answer\"][\"value\"] + \"\\n\"\n",
    "\n",
    "# Define stop tokens, use token on position 1 bc position 0 is special token\n",
    "stop_tokens = [\"Q:\", \"Question:\", \"QUESTION:\", \"questions:\", \" Q:\", \" Question:\", \" QUESTION:\", \" questions:\",\n",
    "               \"A:\", \"Answer:\", \"ANSWER:\", \"answers:\", \" A:\", \" Answer:\", \" ANSWER:\", \" answers:\", \"Answers:\",\n",
    "               \" Answers:\",\n",
    "               \"Topic:\", \" Topic:\", \"TOPIC:\", \" TOPIC:\", \".\", \" .\", \"...\", \" ...\", \"?\", \" ?\", \":\", \" :\", \"!\", \" !\"]\n",
    "stop_tokens = [[tokenizer(stop_token)[\"input_ids\"][1]] for stop_token in stop_tokens]\n",
    "\n",
    "# Define eos token\n",
    "eos_token = tokenizer(\"\\n\")[\"input_ids\"][1]\n",
    "tokenizer.pad_token_id = eos_token\n",
    "tokenizer.eos_token_id = eos_token\n",
    "\n",
    "# Maximum token length that generated answer can have\n",
    "max_new_tokens = config[\"max_output_length\"]"
   ],
   "id": "2333f03de136327d",
   "outputs": [],
   "execution_count": 5
  },
  {
   "metadata": {
    "ExecuteTime": {
     "end_time": "2024-06-29T00:24:42.299544Z",
     "start_time": "2024-06-29T00:24:42.263327Z"
    }
   },
   "cell_type": "code",
   "source": [
    "save_path = config[\"path_to_saved_generations\"]\n",
    "with open(os.path.join(save_path, \"group_indices.txt\"), \"r\") as f:\n",
    "    indices_questions = {int(i) for line in f for i in line.strip().split(\",\")}"
   ],
   "id": "dd96cf3fe6bb5de6",
   "outputs": [],
   "execution_count": 5
  },
  {
   "metadata": {
    "ExecuteTime": {
     "end_time": "2024-06-10T15:59:04.846258Z",
     "start_time": "2024-06-10T15:59:04.836269Z"
    }
   },
   "cell_type": "code",
   "source": [
    "# https://thepythoncode.com/article/calculate-rouge-score-in-python#rouge-l\n",
    "scorer = rouge_scorer.RougeScorer([\"rougeL\"], use_stemmer=True)"
   ],
   "id": "1b01b8c4324e92e1",
   "outputs": [],
   "execution_count": 7
  },
  {
   "cell_type": "code",
   "id": "initial_id",
   "metadata": {
    "collapsed": true,
    "ExecuteTime": {
     "end_time": "2024-06-10T13:12:45.020493Z",
     "start_time": "2024-06-10T12:58:19.075167Z"
    }
   },
   "source": [
    "if os.path.exists(os.path.join(save_path, \"greedy_answers.pkl\")):\n",
    "    with open(os.path.join(save_path, \"greedy_answers.pkl\"), \"rb\") as f:\n",
    "        result = pickle.load(f)\n",
    "else:\n",
    "    result = dict()\n",
    "\n",
    "for idx in tqdm(indices_questions):\n",
    "    if idx in result:\n",
    "        print(f\"Question {idx} already exists. Skipping...\")\n",
    "\n",
    "    result_question = dict()\n",
    "    question = ten_shot_prompt + \"QUESTION:\" + data_trivia_val[idx][\"question\"] + \"ANSWER:\"\n",
    "    answer = data_trivia_val[idx][\"answer\"][\"value\"]\n",
    "\n",
    "    inputs = tokenizer(question, padding=False, truncation=False, return_tensors=\"pt\").to(device)\n",
    "    length_input = inputs[\"input_ids\"].shape[1]\n",
    "\n",
    "    # Generate sequence by always taking token with max probability (greedy)\n",
    "    output_generate = model.generate(inputs.input_ids,\n",
    "                                     max_new_tokens=max_new_tokens,\n",
    "                                     eos_token_id=eos_token,\n",
    "                                     bad_words_ids=stop_tokens)\n",
    "\n",
    "    output = tokenizer.batch_decode(output_generate[0][length_input:], skip_special_tokens=True)\n",
    "    output = \"\".join(output).replace(\"\\n\", \"\")\n",
    "    result_question[\"greedy_answer\"] = output\n",
    "    rouge_l_score = scorer.score(answer, output)[\"rougeL\"].fmeasure\n",
    "    result_question[\"rouge_l_score\"] = rouge_l_score\n",
    "    result[idx] = result_question\n",
    "\n",
    "    # Save new dictionary\n",
    "    with open(os.path.join(save_path, \"greedy_answers.pkl\"), \"wb\") as f:\n",
    "        pickle.dump(result, f)"
   ],
   "outputs": [
    {
     "name": "stderr",
     "output_type": "stream",
     "text": [
      "100%|██████████| 4484/4484 [14:25<00:00,  5.18it/s]\n"
     ]
    }
   ],
   "execution_count": 25
  },
  {
   "metadata": {},
   "cell_type": "markdown",
   "source": "## Analyze Rouge-L-Score",
   "id": "332b17069d6d3330"
  },
  {
   "metadata": {
    "ExecuteTime": {
     "end_time": "2024-06-29T00:24:51.951736Z",
     "start_time": "2024-06-29T00:24:50.673206Z"
    }
   },
   "cell_type": "code",
   "source": [
    "with open(os.path.join(save_path, \"greedy_answers.pkl\"), \"rb\") as f:\n",
    "    greedy_answers = pickle.load(f)\n",
    "\n",
    "greedy_answers = pd.DataFrame.from_dict(greedy_answers, orient=\"index\")\n",
    "greedy_answers.index.name = \"question_id\"\n",
    "greedy_answers.reset_index(inplace=True)\n",
    "\n",
    "# Add question and true answers to df\n",
    "greedy_answers[\"question\"] = greedy_answers[\"question_id\"].apply(lambda idx: data_trivia_val[idx][\"question\"])\n",
    "greedy_answers[\"true_answer\"] = greedy_answers[\"question_id\"].apply(lambda idx: data_trivia_val[idx][\"answer\"][\"value\"])"
   ],
   "id": "d0bba5de48398a04",
   "outputs": [],
   "execution_count": 6
  },
  {
   "metadata": {},
   "cell_type": "markdown",
   "source": "The distribution of ROUGE-L scores across the generated answers, can be seen in this plot:",
   "id": "cec2943f7c5ca3bc"
  },
  {
   "metadata": {
    "ExecuteTime": {
     "end_time": "2024-06-29T00:25:48.953388Z",
     "start_time": "2024-06-29T00:25:48.663816Z"
    }
   },
   "cell_type": "code",
   "source": [
    "# Plot distribution\n",
    "# sns.set(font_scale=1.2)\n",
    "sns.histplot(greedy_answers[\"rouge_l_score\"], bins=10, kde=False)\n",
    "plt.title(\"ROUGE-L Scores for generated answers\")\n",
    "plt.xlabel(\"ROUGE-L Score\")\n",
    "plt.ylabel(\"Frequency\")\n",
    "plt.show()"
   ],
   "id": "d01fba59d0c2f0ef",
   "outputs": [
    {
     "data": {
      "text/plain": [
       "<Figure size 640x480 with 1 Axes>"
      ],
      "image/png": "[encoded data removed]"
     },
     "metadata": {},
     "output_type": "display_data"
    }
   ],
   "execution_count": 7
  },
  {
   "metadata": {},
   "cell_type": "markdown",
   "source": [
    "ROUGE-L Score is based on the length of the longest common subsequence\n",
    "- If score is 1 --> Perfect score --> One can be sure that answer is correct\n",
    "- In the paper, it is stated that if the ROUGE-L Score is > 0.3 an answer is seen as correct. "
   ],
   "id": "860c35e0bf70c9bc"
  },
  {
   "metadata": {
    "ExecuteTime": {
     "end_time": "2024-06-10T15:59:42.375042Z",
     "start_time": "2024-06-10T15:59:42.347625Z"
    }
   },
   "cell_type": "code",
   "source": [
    "answers_exact_match = greedy_answers[greedy_answers[\"rouge_l_score\"] == 1]\n",
    "print(f\"There are {len(answers_exact_match)} answers that are the exact same as the reference answer. Examples:\")\n",
    "answers_exact_match.head(3)"
   ],
   "id": "54767705512bd341",
   "outputs": [
    {
     "name": "stdout",
     "output_type": "stream",
     "text": [
      "There are 462 answers that are the exact same as the reference answer. Examples:\n"
     ]
    },
    {
     "data": {
      "text/plain": [
       "    question_id  greedy_answer  rouge_l_score  \\\n",
       "4          8196          Magma            1.0   \n",
       "17         8216  Dar es Salaam            1.0   \n",
       "20        16413     Family Guy            1.0   \n",
       "\n",
       "                                             question    true_answer  \n",
       "4   What name is given to the hot, molten rock fou...          MAGMA  \n",
       "17  What was the capital city of Tanzania until 1974?  DAR-ES-SALAAM  \n",
       "20  The father of three 'Peter Griffin' is the tit...   'FAMILY GUY'  "
      ],
      "text/html": [
       "<div>\n",
       "<style scoped>\n",
       "    .dataframe tbody tr th:only-of-type {\n",
       "        vertical-align: middle;\n",
       "    }\n",
       "\n",
       "    .dataframe tbody tr th {\n",
       "        vertical-align: top;\n",
       "    }\n",
       "\n",
       "    .dataframe thead th {\n",
       "        text-align: right;\n",
       "    }\n",
       "</style>\n",
       "<table border=\"1\" class=\"dataframe\">\n",
       "  <thead>\n",
       "    <tr style=\"text-align: right;\">\n",
       "      <th></th>\n",
       "      <th>question_id</th>\n",
       "      <th>greedy_answer</th>\n",
       "      <th>rouge_l_score</th>\n",
       "      <th>question</th>\n",
       "      <th>true_answer</th>\n",
       "    </tr>\n",
       "  </thead>\n",
       "  <tbody>\n",
       "    <tr>\n",
       "      <th>4</th>\n",
       "      <td>8196</td>\n",
       "      <td>Magma</td>\n",
       "      <td>1.0</td>\n",
       "      <td>What name is given to the hot, molten rock fou...</td>\n",
       "      <td>MAGMA</td>\n",
       "    </tr>\n",
       "    <tr>\n",
       "      <th>17</th>\n",
       "      <td>8216</td>\n",
       "      <td>Dar es Salaam</td>\n",
       "      <td>1.0</td>\n",
       "      <td>What was the capital city of Tanzania until 1974?</td>\n",
       "      <td>DAR-ES-SALAAM</td>\n",
       "    </tr>\n",
       "    <tr>\n",
       "      <th>20</th>\n",
       "      <td>16413</td>\n",
       "      <td>Family Guy</td>\n",
       "      <td>1.0</td>\n",
       "      <td>The father of three 'Peter Griffin' is the tit...</td>\n",
       "      <td>'FAMILY GUY'</td>\n",
       "    </tr>\n",
       "  </tbody>\n",
       "</table>\n",
       "</div>"
      ]
     },
     "execution_count": 10,
     "metadata": {},
     "output_type": "execute_result"
    }
   ],
   "execution_count": 10
  },
  {
   "metadata": {},
   "cell_type": "markdown",
   "source": [
    "When evaluating the samples with a ROUGE-L score < 1, saying that the answer is correct if the ROUGE-L score is > 0.3 seems to be a good measure for the majority of samples, there are however cases that would get misclassified.\n",
    "\n",
    "**Examples of False negatives:**\n",
    "\n",
    "--> Spelling mistakes in the reference answer; longer answer that is semantically equivalent; answer that includes more information than reference answer"
   ],
   "id": "f2dea5680eec7de5"
  },
  {
   "metadata": {
    "ExecuteTime": {
     "end_time": "2024-06-10T15:59:46.363482Z",
     "start_time": "2024-06-10T15:59:46.346961Z"
    }
   },
   "cell_type": "code",
   "source": "greedy_answers.loc[greedy_answers[\"question_id\"].isin([129, 16742, 4482, 7061])]",
   "id": "f54c3348fb64aa45",
   "outputs": [
    {
     "data": {
      "text/plain": [
       "      question_id                                      greedy_answer  \\\n",
       "100           129                                         basketball   \n",
       "257         16742          The olfactory bulb is located in the nose   \n",
       "2670         4482                          On the bottom of the foot   \n",
       "3933         7061  Jimmi Hendrix was 27, Janis Joplin was 27 and ...   \n",
       "\n",
       "      rouge_l_score                                           question  \\\n",
       "100        0.000000    The Naismith Award is presented in which sport?   \n",
       "257        0.222222  Where in the human body can you find the 'Olfa...   \n",
       "2670       0.285714          Where would you find the metatarsal bone?   \n",
       "3933       0.142857  How old were Jimmi Hendrix, Janis Joplin and J...   \n",
       "\n",
       "      true_answer  \n",
       "100   Basket ball  \n",
       "257          NOSE  \n",
       "2670         Foot  \n",
       "3933           27  "
      ],
      "text/html": [
       "<div>\n",
       "<style scoped>\n",
       "    .dataframe tbody tr th:only-of-type {\n",
       "        vertical-align: middle;\n",
       "    }\n",
       "\n",
       "    .dataframe tbody tr th {\n",
       "        vertical-align: top;\n",
       "    }\n",
       "\n",
       "    .dataframe thead th {\n",
       "        text-align: right;\n",
       "    }\n",
       "</style>\n",
       "<table border=\"1\" class=\"dataframe\">\n",
       "  <thead>\n",
       "    <tr style=\"text-align: right;\">\n",
       "      <th></th>\n",
       "      <th>question_id</th>\n",
       "      <th>greedy_answer</th>\n",
       "      <th>rouge_l_score</th>\n",
       "      <th>question</th>\n",
       "      <th>true_answer</th>\n",
       "    </tr>\n",
       "  </thead>\n",
       "  <tbody>\n",
       "    <tr>\n",
       "      <th>100</th>\n",
       "      <td>129</td>\n",
       "      <td>basketball</td>\n",
       "      <td>0.000000</td>\n",
       "      <td>The Naismith Award is presented in which sport?</td>\n",
       "      <td>Basket ball</td>\n",
       "    </tr>\n",
       "    <tr>\n",
       "      <th>257</th>\n",
       "      <td>16742</td>\n",
       "      <td>The olfactory bulb is located in the nose</td>\n",
       "      <td>0.222222</td>\n",
       "      <td>Where in the human body can you find the 'Olfa...</td>\n",
       "      <td>NOSE</td>\n",
       "    </tr>\n",
       "    <tr>\n",
       "      <th>2670</th>\n",
       "      <td>4482</td>\n",
       "      <td>On the bottom of the foot</td>\n",
       "      <td>0.285714</td>\n",
       "      <td>Where would you find the metatarsal bone?</td>\n",
       "      <td>Foot</td>\n",
       "    </tr>\n",
       "    <tr>\n",
       "      <th>3933</th>\n",
       "      <td>7061</td>\n",
       "      <td>Jimmi Hendrix was 27, Janis Joplin was 27 and ...</td>\n",
       "      <td>0.142857</td>\n",
       "      <td>How old were Jimmi Hendrix, Janis Joplin and J...</td>\n",
       "      <td>27</td>\n",
       "    </tr>\n",
       "  </tbody>\n",
       "</table>\n",
       "</div>"
      ]
     },
     "execution_count": 11,
     "metadata": {},
     "output_type": "execute_result"
    }
   ],
   "execution_count": 11
  },
  {
   "metadata": {},
   "cell_type": "markdown",
   "source": [
    "**Examples of False positives:**\n",
    "\n",
    "There are more false positives, often due to an overlap of stop words like \"and\" or other words that do not contribute to the answer's correctness (e.g. common first names). The reason for this is that the reference answers of TriviaQA are relatively short."
   ],
   "id": "67b37ee3be925c85"
  },
  {
   "metadata": {
    "ExecuteTime": {
     "end_time": "2024-06-10T15:59:52.219363Z",
     "start_time": "2024-06-10T15:59:52.209362Z"
    }
   },
   "cell_type": "code",
   "source": "greedy_answers.loc[greedy_answers[\"question_id\"].isin([16458, 132, 321, 8585, 8630, 4421])]\n",
   "id": "c77e4785b3b58961",
   "outputs": [
    {
     "data": {
      "text/plain": [
       "      question_id        greedy_answer  rouge_l_score  \\\n",
       "57          16458          Paul Gallen       0.500000   \n",
       "106           132         The Graduate       0.333333   \n",
       "235           321           The Grapes       0.400000   \n",
       "290          8585           St Thomas'       0.400000   \n",
       "329          8630         The Graduate       0.500000   \n",
       "2640         4421  The Australian Open       0.666667   \n",
       "\n",
       "                                               question            true_answer  \n",
       "57    Who is the only Rugby League player to win two...           Paul Wellens  \n",
       "106               What was Warren Beatty's first movie?  Splendor in the Grass  \n",
       "235         What is the most common pub name in the UK?           The Red Lion  \n",
       "290   Rahere, an Anglo-Norman monk, founded which Lo...       St Bartholomew's  \n",
       "329   For which 1960 film did Billy Wilder become th...          The Apartment  \n",
       "2640  What is the last Grand Slam tennis tournament ...            The US Open  "
      ],
      "text/html": [
       "<div>\n",
       "<style scoped>\n",
       "    .dataframe tbody tr th:only-of-type {\n",
       "        vertical-align: middle;\n",
       "    }\n",
       "\n",
       "    .dataframe tbody tr th {\n",
       "        vertical-align: top;\n",
       "    }\n",
       "\n",
       "    .dataframe thead th {\n",
       "        text-align: right;\n",
       "    }\n",
       "</style>\n",
       "<table border=\"1\" class=\"dataframe\">\n",
       "  <thead>\n",
       "    <tr style=\"text-align: right;\">\n",
       "      <th></th>\n",
       "      <th>question_id</th>\n",
       "      <th>greedy_answer</th>\n",
       "      <th>rouge_l_score</th>\n",
       "      <th>question</th>\n",
       "      <th>true_answer</th>\n",
       "    </tr>\n",
       "  </thead>\n",
       "  <tbody>\n",
       "    <tr>\n",
       "      <th>57</th>\n",
       "      <td>16458</td>\n",
       "      <td>Paul Gallen</td>\n",
       "      <td>0.500000</td>\n",
       "      <td>Who is the only Rugby League player to win two...</td>\n",
       "      <td>Paul Wellens</td>\n",
       "    </tr>\n",
       "    <tr>\n",
       "      <th>106</th>\n",
       "      <td>132</td>\n",
       "      <td>The Graduate</td>\n",
       "      <td>0.333333</td>\n",
       "      <td>What was Warren Beatty's first movie?</td>\n",
       "      <td>Splendor in the Grass</td>\n",
       "    </tr>\n",
       "    <tr>\n",
       "      <th>235</th>\n",
       "      <td>321</td>\n",
       "      <td>The Grapes</td>\n",
       "      <td>0.400000</td>\n",
       "      <td>What is the most common pub name in the UK?</td>\n",
       "      <td>The Red Lion</td>\n",
       "    </tr>\n",
       "    <tr>\n",
       "      <th>290</th>\n",
       "      <td>8585</td>\n",
       "      <td>St Thomas'</td>\n",
       "      <td>0.400000</td>\n",
       "      <td>Rahere, an Anglo-Norman monk, founded which Lo...</td>\n",
       "      <td>St Bartholomew's</td>\n",
       "    </tr>\n",
       "    <tr>\n",
       "      <th>329</th>\n",
       "      <td>8630</td>\n",
       "      <td>The Graduate</td>\n",
       "      <td>0.500000</td>\n",
       "      <td>For which 1960 film did Billy Wilder become th...</td>\n",
       "      <td>The Apartment</td>\n",
       "    </tr>\n",
       "    <tr>\n",
       "      <th>2640</th>\n",
       "      <td>4421</td>\n",
       "      <td>The Australian Open</td>\n",
       "      <td>0.666667</td>\n",
       "      <td>What is the last Grand Slam tennis tournament ...</td>\n",
       "      <td>The US Open</td>\n",
       "    </tr>\n",
       "  </tbody>\n",
       "</table>\n",
       "</div>"
      ]
     },
     "execution_count": 12,
     "metadata": {},
     "output_type": "execute_result"
    }
   ],
   "execution_count": 12
  },
  {
   "metadata": {},
   "cell_type": "markdown",
   "source": "On page 17, they show that the choice of accuracy metric has almost no effect on the AUROC of the uncertainty estimation when using TriviaQA. To reproduce this results, I also calculate the Rouge-1 measure (the actual reproduction of tha observation can be found in the notebook `evaluate_uncertainty.ipynb`):",
   "id": "186afd809f3ec324"
  },
  {
   "metadata": {
    "ExecuteTime": {
     "end_time": "2024-06-11T12:08:54.408219Z",
     "start_time": "2024-06-11T12:08:54.393982Z"
    }
   },
   "cell_type": "code",
   "source": [
    "with open(os.path.join(save_path, \"greedy_answers.pkl\"), \"rb\") as f:\n",
    "    greedy_answers_infer = pickle.load(f)"
   ],
   "id": "645a4ce4406fe444",
   "outputs": [],
   "execution_count": 70
  },
  {
   "metadata": {
    "ExecuteTime": {
     "end_time": "2024-06-11T12:08:55.418403Z",
     "start_time": "2024-06-11T12:08:55.406174Z"
    }
   },
   "cell_type": "code",
   "source": "scorer = rouge_scorer.RougeScorer([\"rouge1\"], use_stemmer=True)",
   "id": "6e8d96065f2758f6",
   "outputs": [],
   "execution_count": 71
  },
  {
   "metadata": {
    "ExecuteTime": {
     "end_time": "2024-06-11T12:09:05.630020Z",
     "start_time": "2024-06-11T12:08:56.359481Z"
    }
   },
   "cell_type": "code",
   "source": [
    "for idx in greedy_answers_infer.keys():\n",
    "    answer = data_trivia_val[idx][\"answer\"][\"value\"]\n",
    "    generated_answer = greedy_answers_infer[idx][\"greedy_answer\"]\n",
    "    rouge_1_score = scorer.score(answer, generated_answer)[\"rouge1\"].fmeasure\n",
    "    greedy_answers_infer[idx][\"rouge_1_score\"] = rouge_1_score\n",
    "\n",
    "    # Save new dictionary\n",
    "    with open(os.path.join(save_path, \"greedy_answers.pkl\"), \"wb\") as f:\n",
    "        pickle.dump(greedy_answers_infer, f)"
   ],
   "id": "e33019f4343b389a",
   "outputs": [],
   "execution_count": 72
  },
  {
   "metadata": {},
   "cell_type": "markdown",
   "source": "However, note that there are only a few cases where ROUGE-1 != ROUGE-L:",
   "id": "6f44291360cd5a54"
  },
  {
   "metadata": {
    "ExecuteTime": {
     "end_time": "2024-06-10T16:59:58.564668Z",
     "start_time": "2024-06-10T16:59:58.546668Z"
    }
   },
   "cell_type": "code",
   "source": [
    "with open(os.path.join(save_path, \"greedy_answers.pkl\"), \"rb\") as f:\n",
    "    greedy_answers_infer = pickle.load(f)\n",
    "\n",
    "n_cases = 0\n",
    "for i in greedy_answers_infer:\n",
    "    if greedy_answers_infer[i][\"rouge_l_score\"] != greedy_answers_infer[i][\"rouge_1_score\"]:\n",
    "        n_cases += 1\n",
    "print(f\"Number of cases: {n_cases}\")"
   ],
   "id": "6f1b5e02ec5a3543",
   "outputs": [
    {
     "name": "stdout",
     "output_type": "stream",
     "text": [
      "Number of cases: 9\n"
     ]
    }
   ],
   "execution_count": 37
  },
  {
   "metadata": {},
   "cell_type": "markdown",
   "source": [
    "## Try out bidirectional entailment\n",
    "The advantage of this approach is that also semantically equivalent answers with a different lexical form are recognized as being correct. For more info on entailment, see `infer_answers.ipynb`."
   ],
   "id": "6025bcf59fad311"
  },
  {
   "metadata": {
    "ExecuteTime": {
     "end_time": "2024-06-13T18:37:59.783128Z",
     "start_time": "2024-06-13T18:37:43.991795Z"
    }
   },
   "cell_type": "code",
   "source": [
    "model_name = \"sileod/deberta-v3-large-tasksource-nli\"\n",
    "tokenizer = AutoTokenizer.from_pretrained(model_name)\n",
    "model = AutoModelForSequenceClassification.from_pretrained(model_name).to(device)"
   ],
   "id": "6fb77a49d4c73748",
   "outputs": [],
   "execution_count": 6
  },
  {
   "metadata": {
    "ExecuteTime": {
     "end_time": "2024-06-13T18:38:25.115759Z",
     "start_time": "2024-06-13T18:38:25.056273Z"
    }
   },
   "cell_type": "code",
   "source": [
    "with open(os.path.join(save_path, \"greedy_answers.pkl\"), \"rb\") as f:\n",
    "    greedy_answers = pickle.load(f)"
   ],
   "id": "1d180400407ace37",
   "outputs": [],
   "execution_count": 7
  },
  {
   "metadata": {
    "ExecuteTime": {
     "end_time": "2024-06-13T19:33:12.474100Z",
     "start_time": "2024-06-13T18:38:27.302046Z"
    }
   },
   "cell_type": "code",
   "source": [
    "for question_idx in tqdm(greedy_answers.keys()):\n",
    "    true_answer = \"Answer: \" + data_trivia_val[question_idx][\"answer\"][\"value\"]\n",
    "    question = \"Question: \" + data_trivia_val[question_idx][\"question\"]\n",
    "    generated_answer = \"Answer: \" + greedy_answers[question_idx][\"greedy_answer\"]\n",
    "\n",
    "    entail = False\n",
    "\n",
    "    # First direction\n",
    "    premise = question + \" \" + generated_answer\n",
    "    hypothesis = question + \" \" + true_answer\n",
    "    input = tokenizer(premise, hypothesis, return_tensors=\"pt\")\n",
    "    output = model(input[\"input_ids\"].to(device))\n",
    "    prediction = torch.argmax(output[\"logits\"][0], dim=-1).item()  # 0: entail, 1: neutral, 2: contradiction\n",
    "\n",
    "    # Only if first direction entailment: look at second direction\n",
    "    if prediction == 0:\n",
    "        input = tokenizer(hypothesis, premise, return_tensors=\"pt\")\n",
    "        output = model(input[\"input_ids\"].to(device))\n",
    "        prediction = torch.argmax(output[\"logits\"][0], dim=-1).item()\n",
    "        if prediction == 0:\n",
    "            entail = True\n",
    "\n",
    "    greedy_answers[question_idx][\"result_entail\"] = entail\n",
    "\n",
    "    # Save \n",
    "    with open(os.path.join(save_path, \"greedy_answers.pkl\"), \"wb\") as f:\n",
    "        pickle.dump(greedy_answers, f)"
   ],
   "id": "f4c8d73b8cf853ae",
   "outputs": [
    {
     "name": "stderr",
     "output_type": "stream",
     "text": [
      "100%|██████████| 4484/4484 [54:44<00:00,  1.37it/s]  \n"
     ]
    }
   ],
   "execution_count": 8
  },
  {
   "metadata": {},
   "cell_type": "markdown",
   "source": [
    "## Manually label by hand\n",
    "To account for FP and FN, I also label the generated questions by hand to be able to then compare the results to the ROUGE metrics and the entailment result:"
   ],
   "id": "cf79677ee0a2f439"
  },
  {
   "metadata": {
    "ExecuteTime": {
     "end_time": "2024-06-13T09:15:15.662885Z",
     "start_time": "2024-06-13T09:15:15.608055Z"
    }
   },
   "cell_type": "code",
   "source": [
    "with open(os.path.join(save_path, \"greedy_answers.pkl\"), \"rb\") as f:\n",
    "    greedy_answers_infer = pickle.load(f)"
   ],
   "id": "b397eaad7750f21d",
   "outputs": [],
   "execution_count": 43
  },
  {
   "metadata": {
    "ExecuteTime": {
     "end_time": "2024-06-13T09:15:18.971440Z",
     "start_time": "2024-06-13T09:15:18.957441Z"
    }
   },
   "cell_type": "code",
   "source": [
    "# variable input used\n",
    "if \"input\" in globals():\n",
    "    del input\n",
    "\n",
    "for idx in greedy_answers_infer.keys():\n",
    "    if \"label_by_hand\" in greedy_answers_infer[idx]:\n",
    "        # print(f\"{idx} already exists. Skipping...\")\n",
    "        continue\n",
    "\n",
    "    question = data_trivia_val[idx][\"question\"]\n",
    "    answer = data_trivia_val[idx][\"answer\"][\"value\"]\n",
    "    generated_answer = greedy_answers_infer[idx][\"greedy_answer\"]\n",
    "    so_far = greedy_answers_infer[idx][\"rouge_l_score\"] > 0.5\n",
    "\n",
    "    # Print the question, answer, and generated answer\n",
    "    print(f\"Question: {question}\")\n",
    "    print(f\"Answer: {answer}\")\n",
    "    print(f\"Generated Answer: {generated_answer}\")\n",
    "\n",
    "    # Prompt the user for input\n",
    "    user_input = False\n",
    "    while user_input not in [\"\", \"1\", \"0\"]:\n",
    "        user_input = input(\n",
    "            f\"{idx}) {question}\\n{answer}\\n{generated_answer}\\nSo far: {so_far}\\nCorrect? (then input nothing), otherwise 1 for true, 0 for false: \")\n",
    "\n",
    "    # Save the input as 1 (true) or 0 (false)\n",
    "    label_by_hand = so_far if user_input == \"\" else int(user_input)\n",
    "    greedy_answers_infer[idx][\"label_by_hand\"] = label_by_hand\n",
    "\n",
    "    print()\n",
    "    # Save new dictionary\n",
    "    with open(os.path.join(save_path, \"greedy_answers.pkl\"), \"wb\") as f:\n",
    "        pickle.dump(greedy_answers_infer, f)"
   ],
   "id": "26ae779c424da779",
   "outputs": [],
   "execution_count": 44
  },
  {
   "metadata": {},
   "cell_type": "markdown",
   "source": [
    "## Evaluate correctness scores\n",
    "In the notebook `diversity_answers.ipynb` the correctness of an answer also needs to be evaluated. As doing this by hand is too cumbersome, but I already have them in this case, the approximations\n",
    "- Rouge-L(s, s') > 0.3\n",
    "- Rouge-L(s, s') > 0.5\n",
    "- Rouge-1(s, s') > 0.5\n",
    "- Bidirectional Entailment\n",
    "\n",
    "are evaluated and the best one is picked."
   ],
   "id": "4bd8a455d3a9bda1"
  },
  {
   "metadata": {
    "ExecuteTime": {
     "end_time": "2024-06-29T01:03:44.269706Z",
     "start_time": "2024-06-29T01:03:44.252674Z"
    }
   },
   "cell_type": "code",
   "source": [
    "with open(os.path.join(save_path, \"greedy_answers.pkl\"), \"rb\") as f:\n",
    "    greedy_answers = pickle.load(f)"
   ],
   "id": "1d1e169c23f86a09",
   "outputs": [],
   "execution_count": 29
  },
  {
   "metadata": {
    "ExecuteTime": {
     "end_time": "2024-06-29T01:03:44.736611Z",
     "start_time": "2024-06-29T01:03:44.706096Z"
    }
   },
   "cell_type": "code",
   "source": [
    "y_true = []\n",
    "y_rouge_l_03 = []\n",
    "y_rouge_l_05 = []\n",
    "y_rouge_1_05 = []\n",
    "y_entailment = []\n",
    "for value in greedy_answers.values():\n",
    "    y_true.append(value[\"label_by_hand\"])\n",
    "    y_rouge_l_03.append(value[\"rouge_l_score\"] > 0.3)\n",
    "    y_rouge_l_05.append(value[\"rouge_l_score\"] > 0.5)\n",
    "    y_rouge_1_05.append(value[\"rouge_1_score\"] > 0.5)\n",
    "    y_entailment.append(value[\"result_entail\"])\n",
    "\n",
    "confusion_matrix_rouge_l_03 = confusion_matrix(y_true, y_rouge_l_03)\n",
    "confusion_matrix_rouge_l_05 = confusion_matrix(y_true, y_rouge_l_05)\n",
    "confusion_matrix_rouge_1_05 = confusion_matrix(y_true, y_rouge_1_05)\n",
    "confusion_matrix_entailment = confusion_matrix(y_true, y_entailment)"
   ],
   "id": "57cfefc5a1d94e07",
   "outputs": [],
   "execution_count": 30
  },
  {
   "metadata": {
    "ExecuteTime": {
     "end_time": "2024-06-13T19:35:03.691050Z",
     "start_time": "2024-06-13T19:35:00.219749Z"
    }
   },
   "cell_type": "code",
   "source": [
    "fig, axes = plt.subplots(2, 2, figsize=(10, 10))\n",
    "\n",
    "\n",
    "def plot_confusion_matrix(ax, confusion_matrix, title):\n",
    "    disp = ConfusionMatrixDisplay(confusion_matrix=confusion_matrix)\n",
    "    disp.plot(ax=ax, cmap=\"Blues\", colorbar=False)\n",
    "    ax.set_title(title, fontsize=18)\n",
    "    ax.grid(False)\n",
    "    ax.tick_params(axis=\"both\", which=\"major\", labelsize=13)\n",
    "    for t in disp.text_.ravel():\n",
    "        t.set_fontsize(18)\n",
    "    ax.set_xlabel(\"Predicted label\", fontsize=13)\n",
    "    ax.set_ylabel(\"True label\", fontsize=13)\n",
    "\n",
    "\n",
    "plot_confusion_matrix(axes[0][0], confusion_matrix_rouge_l_03, \"ROUGE-L > 0.3\")\n",
    "plot_confusion_matrix(axes[0][1], confusion_matrix_rouge_l_05, \"ROUGE-L > 0.5\")\n",
    "plot_confusion_matrix(axes[1][0], confusion_matrix_rouge_1_05, \"ROUGE-1 > 0.5\")\n",
    "plot_confusion_matrix(axes[1][1], confusion_matrix_entailment, \"Entailment\")\n",
    "\n",
    "plt.tight_layout()\n",
    "plt.show()"
   ],
   "id": "226b000d512b3000",
   "outputs": [
    {
     "data": {
      "text/plain": [
       "<Figure size 1000x1000 with 4 Axes>"
      ],
      "image/png": "[encoded data removed]"
     },
     "metadata": {},
     "output_type": "display_data"
    }
   ],
   "execution_count": 11
  },
  {
   "metadata": {},
   "cell_type": "markdown",
   "source": [
    "ROUGE-L > 0.5 and ROUGE-1 > 0.5 have the same accuracy, which is similar to the accuracy when using entailment as accuracy metric. ROUGE-L > 0.3 results in a high number of false positives.\n",
    "\n",
    "Therefore, I will choose ROUGE-1 > 0.5 as the measure to evaluate the correctness of answers in the notebook `diversity_answers.ipynb`. To also do exactly the same as the paper, I also do the same for ROUGE-L > 0.3 (however, in my setting it is not a good measure).\n",
    "\n",
    "The entailment is tedious to compute for $5 \\cdot 1000 \\cdot 10 = 50,000$ generated answers. As a result, I will not use it to plot the correctness (ROUGE-1 > 0.5 approximate it quite well). However, it is used in the notebook `evaluate_uncertainty.ipynb` to compute the semantic equivalence classes. "
   ],
   "id": "1d9da83a6f786a38"
  },
  {
   "metadata": {},
   "cell_type": "markdown",
   "source": [
    "One issue with bidirectional entailment, which often leads to false negatives, is answers containing additional but irrelevant information. For instance, if the question is \"In what year ...?\" and the true answer is \"2000\", the greedy answer giving the exact date is not recognized as bidirectional entailment. One can argue if too precise answers are correct or not. I have labeled them as being correct, however if being strict, they don't answer the question to 100% correct (in the sense of, the question only asks for the year/first name/... and not more information).\n",
    "\n",
    "The most common reason for false positives when using bidirectional entailment occurs when the generated answer is part of the question itself."
   ],
   "id": "f20cc9e1a9d35945"
  },
  {
   "metadata": {
    "ExecuteTime": {
     "end_time": "2024-06-29T00:50:29.940933Z",
     "start_time": "2024-06-29T00:50:29.919931Z"
    }
   },
   "cell_type": "code",
   "source": [
    "print(\"Examples of false negatives for bidirectional entailment\")\n",
    "greedy_answers[greedy_answers[\"label_by_hand\"] & ~greedy_answers[\"result_entail\"]][\n",
    "    [\"greedy_answer\", \"question\", \"true_answer\"]].head(2)"
   ],
   "id": "7600d9b042d22df8",
   "outputs": [
    {
     "name": "stdout",
     "output_type": "stream",
     "text": [
      "Examples of false negatives for bidirectional entailment\n"
     ]
    },
    {
     "data": {
      "text/plain": [
       "        greedy_answer                                           question  \\\n",
       "26  December 26, 2004  In which year was the 'Boxing Day Tsunami' in ...   \n",
       "94  Swiss watchmakers  With what area of manufacturing are the names ...   \n",
       "\n",
       "    true_answer  \n",
       "26         2004  \n",
       "94  WATCHMAKING  "
      ],
      "text/html": [
       "<div>\n",
       "<style scoped>\n",
       "    .dataframe tbody tr th:only-of-type {\n",
       "        vertical-align: middle;\n",
       "    }\n",
       "\n",
       "    .dataframe tbody tr th {\n",
       "        vertical-align: top;\n",
       "    }\n",
       "\n",
       "    .dataframe thead th {\n",
       "        text-align: right;\n",
       "    }\n",
       "</style>\n",
       "<table border=\"1\" class=\"dataframe\">\n",
       "  <thead>\n",
       "    <tr style=\"text-align: right;\">\n",
       "      <th></th>\n",
       "      <th>greedy_answer</th>\n",
       "      <th>question</th>\n",
       "      <th>true_answer</th>\n",
       "    </tr>\n",
       "  </thead>\n",
       "  <tbody>\n",
       "    <tr>\n",
       "      <th>26</th>\n",
       "      <td>December 26, 2004</td>\n",
       "      <td>In which year was the 'Boxing Day Tsunami' in ...</td>\n",
       "      <td>2004</td>\n",
       "    </tr>\n",
       "    <tr>\n",
       "      <th>94</th>\n",
       "      <td>Swiss watchmakers</td>\n",
       "      <td>With what area of manufacturing are the names ...</td>\n",
       "      <td>WATCHMAKING</td>\n",
       "    </tr>\n",
       "  </tbody>\n",
       "</table>\n",
       "</div>"
      ]
     },
     "execution_count": 19,
     "metadata": {},
     "output_type": "execute_result"
    }
   ],
   "execution_count": 19
  },
  {
   "metadata": {
    "ExecuteTime": {
     "end_time": "2024-06-29T00:56:35.020127Z",
     "start_time": "2024-06-29T00:56:34.998129Z"
    }
   },
   "cell_type": "code",
   "source": [
    "print(\"Examples of false positives for bidirectional entailment\")\n",
    "greedy_answers[~greedy_answers[\"label_by_hand\"] & greedy_answers[\"result_entail\"] & greedy_answers[\"question_id\"].isin(\n",
    "    [17043, 17437, 1939])][[\"greedy_answer\", \"question\", \"true_answer\"]].head(10)"
   ],
   "id": "94fea0bc672595a5",
   "outputs": [
    {
     "name": "stdout",
     "output_type": "stream",
     "text": [
      "Examples of false positives for bidirectional entailment\n"
     ]
    },
    {
     "data": {
      "text/plain": [
       "     greedy_answer                                           question  \\\n",
       "484     Vinni Pukh  Which character is known as Ursinho Puff in Po...   \n",
       "764             14    How is the number 14 written in Roman numerals?   \n",
       "1308           MVP  In American football and other sports, who or ...   \n",
       "\n",
       "               true_answer  \n",
       "484        WINNIE THE POOH  \n",
       "764                    XIV  \n",
       "1308  MOST VALUABLE PLAYER  "
      ],
      "text/html": [
       "<div>\n",
       "<style scoped>\n",
       "    .dataframe tbody tr th:only-of-type {\n",
       "        vertical-align: middle;\n",
       "    }\n",
       "\n",
       "    .dataframe tbody tr th {\n",
       "        vertical-align: top;\n",
       "    }\n",
       "\n",
       "    .dataframe thead th {\n",
       "        text-align: right;\n",
       "    }\n",
       "</style>\n",
       "<table border=\"1\" class=\"dataframe\">\n",
       "  <thead>\n",
       "    <tr style=\"text-align: right;\">\n",
       "      <th></th>\n",
       "      <th>greedy_answer</th>\n",
       "      <th>question</th>\n",
       "      <th>true_answer</th>\n",
       "    </tr>\n",
       "  </thead>\n",
       "  <tbody>\n",
       "    <tr>\n",
       "      <th>484</th>\n",
       "      <td>Vinni Pukh</td>\n",
       "      <td>Which character is known as Ursinho Puff in Po...</td>\n",
       "      <td>WINNIE THE POOH</td>\n",
       "    </tr>\n",
       "    <tr>\n",
       "      <th>764</th>\n",
       "      <td>14</td>\n",
       "      <td>How is the number 14 written in Roman numerals?</td>\n",
       "      <td>XIV</td>\n",
       "    </tr>\n",
       "    <tr>\n",
       "      <th>1308</th>\n",
       "      <td>MVP</td>\n",
       "      <td>In American football and other sports, who or ...</td>\n",
       "      <td>MOST VALUABLE PLAYER</td>\n",
       "    </tr>\n",
       "  </tbody>\n",
       "</table>\n",
       "</div>"
      ]
     },
     "execution_count": 28,
     "metadata": {},
     "output_type": "execute_result"
    }
   ],
   "execution_count": 28
  },
  {
   "metadata": {},
   "cell_type": "code",
   "outputs": [],
   "execution_count": null,
   "source": "",
   "id": "ea7168512255371e"
  }
 ],
 "metadata": {
  "kernelspec": {
   "display_name": "Python 3",
   "language": "python",
   "name": "python3"
  },
  "language_info": {
   "codemirror_mode": {
    "name": "ipython",
    "version": 2
   },
   "file_extension": ".py",
   "mimetype": "text/x-python",
   "name": "python",
   "nbconvert_exporter": "python",
   "pygments_lexer": "ipython2",
   "version": "2.7.6"
  }
 },
 "nbformat": 4,
 "nbformat_minor": 5
}
