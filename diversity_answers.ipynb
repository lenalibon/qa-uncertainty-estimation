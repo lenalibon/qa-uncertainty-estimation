{
 "cells": [
  {
   "metadata": {},
   "cell_type": "markdown",
   "source": [
    "# Calculate diversity of generations\n",
    "From paper, page 9:\n",
    "\n",
    "The diversity is measured using the average overlap of the longest sub-sequence (LCS) among sampled answers:\n",
    "\n",
    "\\begin{equation}\n",
    "1 - \\frac{1}{\\binom{M}{2}} \\sum_{s \\neq s' \\in C} \\text{ROUGE-L}(s, s') \n",
    "\\end{equation}\n",
    "\n",
    "$\\binom{M}{2}$ is the number of possible pairs of $s \\neq s'$ (order doesn't matter)\n"
   ],
   "id": "b4a90eaf24ece958"
  },
  {
   "cell_type": "code",
   "id": "initial_id",
   "metadata": {
    "collapsed": true,
    "ExecuteTime": {
     "end_time": "2024-06-07T16:39:06.429340Z",
     "start_time": "2024-06-07T16:39:06.202070Z"
    }
   },
   "source": [
    "from itertools import combinations\n",
    "from rouge_score import rouge_scorer\n",
    "# https://thepythoncode.com/article/calculate-rouge-score-in-python#rouge-l\n",
    "scorer = rouge_scorer.RougeScorer([\"rougeL\"], use_stemmer=True)\n",
    "\n",
    "def calculate_diversity(strings):\n",
    "    if len(strings) < 2:\n",
    "        return 0\n",
    "    \n",
    "    rouge_l_sum = 0\n",
    "    n_pairs = 0\n",
    "    \n",
    "    for s, s_prime in combinations(strings, 2):\n",
    "        rouge_l_sum += scorer.score(s, s_prime)[\"rougeL\"].fmeasure\n",
    "        n_pairs += 1\n",
    "    \n",
    "    return 1 - rouge_l_sum / n_pairs\n",
    "    \n",
    "# Example usage\n",
    "strings = [\"Nikkei 225\", \"The Nikkei\", \"Nikkei 225\", \"Nikkei\", \"Nikkei\", \"Nikkei 225\", \"The Nikkei\", \n",
    "           \"The Nikkei\", \"Nikkei 225\", \"The Nikkei\"]\n",
    "\n",
    "diversity = calculate_diversity(strings)\n",
    "diversity"
   ],
   "outputs": [
    {
     "data": {
      "text/plain": [
       "0.29629629629629606"
      ]
     },
     "execution_count": 16,
     "metadata": {},
     "output_type": "execute_result"
    }
   ],
   "execution_count": 16
  },
  {
   "metadata": {},
   "cell_type": "code",
   "outputs": [],
   "execution_count": null,
   "source": "",
   "id": "8dc39f14bb2a3e9c"
  }
 ],
 "metadata": {
  "kernelspec": {
   "display_name": "Python 3",
   "language": "python",
   "name": "python3"
  },
  "language_info": {
   "codemirror_mode": {
    "name": "ipython",
    "version": 2
   },
   "file_extension": ".py",
   "mimetype": "text/x-python",
   "name": "python",
   "nbconvert_exporter": "python",
   "pygments_lexer": "ipython2",
   "version": "2.7.6"
  }
 },
 "nbformat": 4,
 "nbformat_minor": 5
}
