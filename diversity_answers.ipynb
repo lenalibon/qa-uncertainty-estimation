{
 "cells": [
  {
   "metadata": {},
   "cell_type": "markdown",
   "source": [
    "# Calculate diversity of generations\n",
    "From paper, page 9:\n",
    "\n",
    "The diversity is measured using the average overlap of the longest sub-sequence (LCS) among sampled answers:\n",
    "\n",
    "\\begin{equation}\n",
    "1 - \\frac{1}{\\binom{M}{2}} \\sum_{s \\neq s' \\in C} \\text{ROUGE-L}(s, s') \n",
    "\\end{equation}\n",
    "\n",
    "$\\binom{M}{2}$ is the number of possible pairs of $s \\neq s'$ (order doesn't matter)\n"
   ],
   "id": "b4a90eaf24ece958"
  },
  {
   "metadata": {},
   "cell_type": "markdown",
   "source": [
    "1) Calculate diversity of 5 groups \n",
    "2) For multinomial sampling and multinomial beam sampling"
   ],
   "id": "cf7d04890ae6af91"
  },
  {
   "metadata": {
    "ExecuteTime": {
     "end_time": "2024-06-12T14:08:59.714117Z",
     "start_time": "2024-06-12T14:08:59.705063Z"
    }
   },
   "cell_type": "code",
   "source": [
    "import glob\n",
    "import pickle\n",
    "from itertools import combinations\n",
    "from rouge_score import rouge_scorer\n",
    "import yaml\n",
    "import pandas as pd\n",
    "import numpy as np\n",
    "import seaborn as sns\n",
    "import matplotlib.pyplot as plt\n",
    "import warnings\n",
    "\n",
    "warnings.simplefilter(action='ignore', category=FutureWarning)\n",
    "\n",
    "with open(\"config.yaml\", \"r\") as f:\n",
    "    config = yaml.safe_load(f)"
   ],
   "id": "63b9b3ef9e8eeda",
   "outputs": [],
   "execution_count": 30
  },
  {
   "metadata": {
    "ExecuteTime": {
     "end_time": "2024-06-12T12:26:22.592186Z",
     "start_time": "2024-06-12T12:26:22.577218Z"
    }
   },
   "cell_type": "code",
   "source": [
    "def diversity(string_list):\n",
    "    rouge_l_sum = 0\n",
    "    n_pairs = 0\n",
    "\n",
    "    for s, s_prime in combinations(string_list, 2):\n",
    "        rouge_l_sum += scorer.score(s, s_prime)[\"rougeL\"].fmeasure\n",
    "        n_pairs += 1\n",
    "\n",
    "    return 1 - rouge_l_sum / n_pairs"
   ],
   "id": "de67ff10953268d5",
   "outputs": [],
   "execution_count": 2
  },
  {
   "metadata": {
    "ExecuteTime": {
     "end_time": "2024-06-12T12:26:22.608201Z",
     "start_time": "2024-06-12T12:26:22.593189Z"
    }
   },
   "cell_type": "code",
   "source": [
    "def load_pickle_files(folder):\n",
    "    data_groups = []\n",
    "    pickle_files = glob.glob(f\"{folder}/group*.pkl\")\n",
    "    for pickle_file in pickle_files:\n",
    "        with open(pickle_file, \"rb\") as f:\n",
    "            data_groups.append(pickle.load(f))\n",
    "\n",
    "    return data_groups"
   ],
   "id": "9488714f25094e83",
   "outputs": [],
   "execution_count": 3
  },
  {
   "metadata": {
    "ExecuteTime": {
     "end_time": "2024-06-12T12:26:22.750265Z",
     "start_time": "2024-06-12T12:26:22.610205Z"
    }
   },
   "cell_type": "code",
   "source": [
    "# https://thepythoncode.com/article/calculate-rouge-score-in-python#rouge-l\n",
    "scorer = rouge_scorer.RougeScorer([\"rougeL\"], use_stemmer=True)\n",
    "\n",
    "save_path = config[\"path_to_saved_generations\"]\n",
    "data_groups = load_pickle_files(save_path)\n",
    "\n",
    "keys_data = [f\"temperature_{temp}\" for temp in config[\"temperatures\"]] + [f\"beam_{beam}\" for beam in config[\"n_beams\"]]\n",
    "diversity_scores = {k: [] for k in keys_data}"
   ],
   "id": "6e5fb996dcbbc99e",
   "outputs": [],
   "execution_count": 4
  },
  {
   "metadata": {
    "ExecuteTime": {
     "end_time": "2024-06-12T12:28:28.037486Z",
     "start_time": "2024-06-12T12:26:22.751238Z"
    }
   },
   "cell_type": "code",
   "source": [
    "for data in data_groups:\n",
    "    group_diversity_scores = {k: [] for k in keys_data}\n",
    "    for question_idx in data.keys():\n",
    "        for k in keys_data:\n",
    "            answers = data[question_idx][k][\"answers\"]\n",
    "            group_diversity_scores[k].append(diversity(answers))\n",
    "\n",
    "    # Add mean diversity of group to diversity_scores\n",
    "    diversity_scores = {k: diversity_scores[k] + [np.mean(group_diversity_scores[k])] for k in keys_data}"
   ],
   "id": "2271d6d55d5f58fb",
   "outputs": [],
   "execution_count": 5
  },
  {
   "metadata": {
    "ExecuteTime": {
     "end_time": "2024-06-12T13:53:16.606682Z",
     "start_time": "2024-06-12T13:53:16.585685Z"
    }
   },
   "cell_type": "code",
   "source": [
    "# Convert to pandas df\n",
    "diversity = pd.DataFrame(diversity_scores,\n",
    "                         index=pd.Index([f\"group_{i}\" for i in range(len(data_groups))]))\n",
    "diversity.index.name = \"group\"\n",
    "diversity.reset_index(inplace=True)\n",
    "print(\"Diversity scores of sampled answers\")\n",
    "diversity"
   ],
   "id": "61b935b225f271f",
   "outputs": [
    {
     "name": "stdout",
     "output_type": "stream",
     "text": [
      "Diversity scores of sampled answers\n"
     ]
    },
    {
     "data": {
      "text/plain": [
       "     group  temperature_0.25  temperature_0.5  temperature_1  temperature_1.5  \\\n",
       "0  group_0          0.369426         0.637823       0.886433         0.956363   \n",
       "1  group_1          0.347955         0.618786       0.883092         0.958035   \n",
       "2  group_2          0.353941         0.625156       0.885565         0.959431   \n",
       "3  group_3          0.356296         0.622342       0.888287         0.961473   \n",
       "4  group_4          0.350981         0.605766       0.877252         0.955160   \n",
       "\n",
       "    beam_20  \n",
       "0  0.599882  \n",
       "1  0.611705  \n",
       "2  0.609484  \n",
       "3  0.617475  \n",
       "4  0.611195  "
      ],
      "text/html": [
       "<div>\n",
       "<style scoped>\n",
       "    .dataframe tbody tr th:only-of-type {\n",
       "        vertical-align: middle;\n",
       "    }\n",
       "\n",
       "    .dataframe tbody tr th {\n",
       "        vertical-align: top;\n",
       "    }\n",
       "\n",
       "    .dataframe thead th {\n",
       "        text-align: right;\n",
       "    }\n",
       "</style>\n",
       "<table border=\"1\" class=\"dataframe\">\n",
       "  <thead>\n",
       "    <tr style=\"text-align: right;\">\n",
       "      <th></th>\n",
       "      <th>group</th>\n",
       "      <th>temperature_0.25</th>\n",
       "      <th>temperature_0.5</th>\n",
       "      <th>temperature_1</th>\n",
       "      <th>temperature_1.5</th>\n",
       "      <th>beam_20</th>\n",
       "    </tr>\n",
       "  </thead>\n",
       "  <tbody>\n",
       "    <tr>\n",
       "      <th>0</th>\n",
       "      <td>group_0</td>\n",
       "      <td>0.369426</td>\n",
       "      <td>0.637823</td>\n",
       "      <td>0.886433</td>\n",
       "      <td>0.956363</td>\n",
       "      <td>0.599882</td>\n",
       "    </tr>\n",
       "    <tr>\n",
       "      <th>1</th>\n",
       "      <td>group_1</td>\n",
       "      <td>0.347955</td>\n",
       "      <td>0.618786</td>\n",
       "      <td>0.883092</td>\n",
       "      <td>0.958035</td>\n",
       "      <td>0.611705</td>\n",
       "    </tr>\n",
       "    <tr>\n",
       "      <th>2</th>\n",
       "      <td>group_2</td>\n",
       "      <td>0.353941</td>\n",
       "      <td>0.625156</td>\n",
       "      <td>0.885565</td>\n",
       "      <td>0.959431</td>\n",
       "      <td>0.609484</td>\n",
       "    </tr>\n",
       "    <tr>\n",
       "      <th>3</th>\n",
       "      <td>group_3</td>\n",
       "      <td>0.356296</td>\n",
       "      <td>0.622342</td>\n",
       "      <td>0.888287</td>\n",
       "      <td>0.961473</td>\n",
       "      <td>0.617475</td>\n",
       "    </tr>\n",
       "    <tr>\n",
       "      <th>4</th>\n",
       "      <td>group_4</td>\n",
       "      <td>0.350981</td>\n",
       "      <td>0.605766</td>\n",
       "      <td>0.877252</td>\n",
       "      <td>0.955160</td>\n",
       "      <td>0.611195</td>\n",
       "    </tr>\n",
       "  </tbody>\n",
       "</table>\n",
       "</div>"
      ]
     },
     "execution_count": 15,
     "metadata": {},
     "output_type": "execute_result"
    }
   ],
   "execution_count": 15
  },
  {
   "metadata": {},
   "cell_type": "markdown",
   "source": [
    "**Diversity Scores for multinomial beam sampling:**\n",
    "\n",
    "Results from the paper:\n",
    "- Page 15: \"Beam search also generates much less diverse samples. We conjecture that multinomial beam search sampling focuses too much on the most likely sequences. The diversity of this beam search corresponds to the lowest temperature result.\"\n",
    "- Page 16, Table 4: Multinomial beam search sampling leads to a diversity of answers of $0.258$\n",
    "\n",
    "This is different to the results to the results I obtain. For me, it is approx. 0.61 (see below). This is more than twice as big. One reason for this could be that I am using 20 beams and take the 10 beams with the highest probability. In the paper they use 5 beams for each answer."
   ],
   "id": "12580eaf796496f4"
  },
  {
   "metadata": {
    "ExecuteTime": {
     "end_time": "2024-06-12T15:37:05.165711Z",
     "start_time": "2024-06-12T15:37:05.158714Z"
    }
   },
   "cell_type": "code",
   "source": "np.mean(diversity[\"beam_20\"])",
   "id": "59442a4edef4e0ff",
   "outputs": [
    {
     "data": {
      "text/plain": [
       "0.6099479605148326"
      ]
     },
     "execution_count": 76,
     "metadata": {},
     "output_type": "execute_result"
    }
   ],
   "execution_count": 76
  },
  {
   "metadata": {},
   "cell_type": "markdown",
   "source": [
    "## Visualize results\n",
    "### Diversity increases with increasing temperature"
   ],
   "id": "58e13e3183cf99f6"
  },
  {
   "metadata": {
    "ExecuteTime": {
     "end_time": "2024-06-12T15:22:47.752999Z",
     "start_time": "2024-06-12T15:22:47.564032Z"
    }
   },
   "cell_type": "code",
   "source": [
    "# Preprocessing\n",
    "diversity_temperatures = diversity.drop(columns=diversity.filter(like=\"beam_\").columns)\n",
    "diversity_temperatures = pd.melt(diversity_temperatures, id_vars=[\"group\"], value_name=\"diversity\", var_name=\"temperature\")\n",
    "diversity_temperatures[\"group\"] = diversity_temperatures[\"group\"].str.replace(\"group_\", \"\").astype(int)\n",
    "diversity_temperatures[\"temperature\"] = diversity_temperatures[\"temperature\"].str.replace(\"temperature_\", \"\").astype(float)\n",
    "\n",
    "# Plot\n",
    "plt.figure()\n",
    "sns.lineplot(data=diversity_temperatures, x=\"temperature\", y=\"diversity\", errorbar=\"pi\", estimator=\"mean\", marker=\"o\", err_style=\"bars\", err_kws={\"capsize\": 4}, linewidth=1.5)\n",
    "plt.xlabel(\"Temperature\")\n",
    "plt.ylabel(\"Diversity\")\n",
    "plt.xticks(config[\"temperatures\"])\n",
    "plt.tight_layout()\n",
    "plt.show()"
   ],
   "id": "96ebcf1aa21b56eb",
   "outputs": [
    {
     "data": {
      "text/plain": [
       "<Figure size 640x480 with 1 Axes>"
      ],
      "image/png": "[encoded data removed]"
     },
     "metadata": {},
     "output_type": "display_data"
    }
   ],
   "execution_count": 73
  },
  {
   "metadata": {},
   "cell_type": "markdown",
   "source": "The results are similar to the ones in the paper (see Figure 3). In general, one can see that higher temperatures result in more diversity. In this plot, the diversity scores for the temperatures $0.25$ and $0.5$ are lower than in the paper. The reason for this could be the smaller model size. ",
   "id": "c72c9fd6668aa4ad"
  },
  {
   "metadata": {},
   "cell_type": "markdown",
   "source": [
    "### Average correctness of sampled answers\n",
    "Include the average correctness of sampled answers (also done in the paper, see page 9)"
   ],
   "id": "51b712582cffbc77"
  },
  {
   "metadata": {},
   "cell_type": "code",
   "outputs": [],
   "execution_count": null,
   "source": "",
   "id": "60f386729473e63b"
  },
  {
   "metadata": {},
   "cell_type": "markdown",
   "source": [
    "Similar results as in paper:\n",
    "- Page 15: \"Beam search also generates much less diverse samples. We conjecture that multinomial beam search sampling focuses too much on the most likely sequences. The diversity of this beam search corresponds to the lowest temperature result.\"\n",
    "- Page 16, Table 4: Multinomial beam search sampling leads to a diversity of answers of $0.258$\n",
    "- Page 9, Figure 3: \"Higher temperatures result in more diversity but less accurate generations.\"\n",
    "- Page 9: \"Reducing the temperature improves the average correctness of the answer\"\n"
   ],
   "id": "43c7c3af7e8d34c7"
  },
  {
   "metadata": {},
   "cell_type": "code",
   "outputs": [],
   "execution_count": null,
   "source": "",
   "id": "65ca98b745c07e8c"
  }
 ],
 "metadata": {
  "kernelspec": {
   "display_name": "Python 3",
   "language": "python",
   "name": "python3"
  },
  "language_info": {
   "codemirror_mode": {
    "name": "ipython",
    "version": 2
   },
   "file_extension": ".py",
   "mimetype": "text/x-python",
   "name": "python",
   "nbconvert_exporter": "python",
   "pygments_lexer": "ipython2",
   "version": "2.7.6"
  }
 },
 "nbformat": 4,
 "nbformat_minor": 5
}
