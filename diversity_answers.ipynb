{
 "cells": [
  {
   "metadata": {},
   "cell_type": "markdown",
   "source": [
    "# Calculate diversity of generations\n",
    "Paper, page 9:\n",
    "\n",
    "The diversity is measured using the average overlap of the longest sub-sequence (LCS) among sampled answers:\n",
    "\n",
    "\\begin{equation}\n",
    "1 - \\frac{1}{\\binom{M}{2}} \\sum_{s \\neq s' \\in C} \\text{ROUGE-L}(s, s') \n",
    "\\end{equation}\n",
    "\n",
    "$\\binom{M}{2}$ is the number of possible pairs of $s \\neq s'$ (order doesn't matter)\n"
   ],
   "id": "b4a90eaf24ece958"
  },
  {
   "metadata": {
    "ExecuteTime": {
     "end_time": "2024-06-29T00:13:55.993755Z",
     "start_time": "2024-06-29T00:13:54.987652Z"
    }
   },
   "cell_type": "code",
   "source": [
    "import glob\n",
    "import pickle\n",
    "from itertools import combinations\n",
    "from rouge_score import rouge_scorer\n",
    "import yaml\n",
    "import pandas as pd\n",
    "import numpy as np\n",
    "import seaborn as sns\n",
    "import matplotlib.pyplot as plt\n",
    "import warnings\n",
    "from tqdm import tqdm\n",
    "\n",
    "warnings.simplefilter(action='ignore', category=FutureWarning)\n",
    "\n",
    "with open(\"config.yaml\", \"r\") as f:\n",
    "    config = yaml.safe_load(f)"
   ],
   "id": "63b9b3ef9e8eeda",
   "outputs": [],
   "execution_count": 1
  },
  {
   "metadata": {
    "ExecuteTime": {
     "end_time": "2024-06-29T00:14:01.170829Z",
     "start_time": "2024-06-29T00:14:01.156840Z"
    }
   },
   "cell_type": "code",
   "source": [
    "def diversity(string_list):\n",
    "    rouge_l_sum = 0\n",
    "    n_pairs = 0\n",
    "\n",
    "    for s, s_prime in combinations(string_list, 2):\n",
    "        rouge_l_sum += scorer.score(s, s_prime)[\"rougeL\"].fmeasure\n",
    "        n_pairs += 1\n",
    "\n",
    "    return 1 - rouge_l_sum / n_pairs"
   ],
   "id": "de67ff10953268d5",
   "outputs": [],
   "execution_count": 2
  },
  {
   "metadata": {
    "ExecuteTime": {
     "end_time": "2024-06-29T00:14:02.065114Z",
     "start_time": "2024-06-29T00:14:02.052124Z"
    }
   },
   "cell_type": "code",
   "source": [
    "def load_pickle_files(folder):\n",
    "    data_groups = []\n",
    "    pickle_files = glob.glob(f\"{folder}/group*.pkl\")\n",
    "    for pickle_file in pickle_files:\n",
    "        with open(pickle_file, \"rb\") as f:\n",
    "            data_groups.append(pickle.load(f))\n",
    "\n",
    "    return data_groups"
   ],
   "id": "9488714f25094e83",
   "outputs": [],
   "execution_count": 3
  },
  {
   "metadata": {
    "ExecuteTime": {
     "end_time": "2024-06-29T00:14:03.570802Z",
     "start_time": "2024-06-29T00:14:03.300248Z"
    }
   },
   "cell_type": "code",
   "source": [
    "# https://thepythoncode.com/article/calculate-rouge-score-in-python#rouge-l\n",
    "scorer = rouge_scorer.RougeScorer([\"rougeL\"], use_stemmer=True)\n",
    "\n",
    "save_path = config[\"path_to_saved_generations\"]\n",
    "data_groups = load_pickle_files(save_path)\n",
    "\n",
    "keys_data = [f\"temperature_{temp}\" for temp in config[\"temperatures\"]] + [f\"beam_{beam}\" for beam in config[\"n_beams\"]]\n",
    "diversity_scores = {k: [] for k in keys_data}"
   ],
   "id": "6e5fb996dcbbc99e",
   "outputs": [],
   "execution_count": 4
  },
  {
   "metadata": {
    "ExecuteTime": {
     "end_time": "2024-06-29T00:16:07.586165Z",
     "start_time": "2024-06-29T00:14:06.230948Z"
    }
   },
   "cell_type": "code",
   "source": [
    "for data in data_groups:\n",
    "    group_diversity_scores = {k: [] for k in keys_data}\n",
    "    for question_idx in data.keys():\n",
    "        for k in keys_data:\n",
    "            answers = data[question_idx][k][\"answers\"]\n",
    "            group_diversity_scores[k].append(diversity(answers))\n",
    "\n",
    "    # Add mean diversity of group to diversity_scores\n",
    "    diversity_scores = {k: diversity_scores[k] + [np.mean(group_diversity_scores[k])] for k in keys_data}"
   ],
   "id": "2271d6d55d5f58fb",
   "outputs": [],
   "execution_count": 5
  },
  {
   "metadata": {
    "ExecuteTime": {
     "end_time": "2024-06-29T00:16:07.618255Z",
     "start_time": "2024-06-29T00:16:07.588212Z"
    }
   },
   "cell_type": "code",
   "source": [
    "# Convert to pandas df\n",
    "diversity = pd.DataFrame(diversity_scores,\n",
    "                         index=pd.Index([f\"group_{i}\" for i in range(len(data_groups))]))\n",
    "diversity.index.name = \"group\"\n",
    "diversity.reset_index(inplace=True)\n",
    "print(\"Diversity scores of sampled answers\")\n",
    "diversity"
   ],
   "id": "61b935b225f271f",
   "outputs": [
    {
     "name": "stdout",
     "output_type": "stream",
     "text": [
      "Diversity scores of sampled answers\n"
     ]
    },
    {
     "data": {
      "text/plain": [
       "     group  temperature_0.25  temperature_0.5  temperature_1  temperature_1.5  \\\n",
       "0  group_0          0.369426         0.637823       0.886433         0.956363   \n",
       "1  group_1          0.347955         0.618786       0.883092         0.958035   \n",
       "2  group_2          0.353941         0.625156       0.885565         0.959431   \n",
       "3  group_3          0.356296         0.622342       0.888287         0.961473   \n",
       "4  group_4          0.350981         0.605766       0.877252         0.955160   \n",
       "\n",
       "    beam_20  \n",
       "0  0.599882  \n",
       "1  0.611705  \n",
       "2  0.609484  \n",
       "3  0.617475  \n",
       "4  0.611195  "
      ],
      "text/html": [
       "<div>\n",
       "<style scoped>\n",
       "    .dataframe tbody tr th:only-of-type {\n",
       "        vertical-align: middle;\n",
       "    }\n",
       "\n",
       "    .dataframe tbody tr th {\n",
       "        vertical-align: top;\n",
       "    }\n",
       "\n",
       "    .dataframe thead th {\n",
       "        text-align: right;\n",
       "    }\n",
       "</style>\n",
       "<table border=\"1\" class=\"dataframe\">\n",
       "  <thead>\n",
       "    <tr style=\"text-align: right;\">\n",
       "      <th></th>\n",
       "      <th>group</th>\n",
       "      <th>temperature_0.25</th>\n",
       "      <th>temperature_0.5</th>\n",
       "      <th>temperature_1</th>\n",
       "      <th>temperature_1.5</th>\n",
       "      <th>beam_20</th>\n",
       "    </tr>\n",
       "  </thead>\n",
       "  <tbody>\n",
       "    <tr>\n",
       "      <th>0</th>\n",
       "      <td>group_0</td>\n",
       "      <td>0.369426</td>\n",
       "      <td>0.637823</td>\n",
       "      <td>0.886433</td>\n",
       "      <td>0.956363</td>\n",
       "      <td>0.599882</td>\n",
       "    </tr>\n",
       "    <tr>\n",
       "      <th>1</th>\n",
       "      <td>group_1</td>\n",
       "      <td>0.347955</td>\n",
       "      <td>0.618786</td>\n",
       "      <td>0.883092</td>\n",
       "      <td>0.958035</td>\n",
       "      <td>0.611705</td>\n",
       "    </tr>\n",
       "    <tr>\n",
       "      <th>2</th>\n",
       "      <td>group_2</td>\n",
       "      <td>0.353941</td>\n",
       "      <td>0.625156</td>\n",
       "      <td>0.885565</td>\n",
       "      <td>0.959431</td>\n",
       "      <td>0.609484</td>\n",
       "    </tr>\n",
       "    <tr>\n",
       "      <th>3</th>\n",
       "      <td>group_3</td>\n",
       "      <td>0.356296</td>\n",
       "      <td>0.622342</td>\n",
       "      <td>0.888287</td>\n",
       "      <td>0.961473</td>\n",
       "      <td>0.617475</td>\n",
       "    </tr>\n",
       "    <tr>\n",
       "      <th>4</th>\n",
       "      <td>group_4</td>\n",
       "      <td>0.350981</td>\n",
       "      <td>0.605766</td>\n",
       "      <td>0.877252</td>\n",
       "      <td>0.955160</td>\n",
       "      <td>0.611195</td>\n",
       "    </tr>\n",
       "  </tbody>\n",
       "</table>\n",
       "</div>"
      ]
     },
     "execution_count": 6,
     "metadata": {},
     "output_type": "execute_result"
    }
   ],
   "execution_count": 6
  },
  {
   "metadata": {},
   "cell_type": "markdown",
   "source": [
    "**Diversity Scores for multinomial beam sampling:**\n",
    "\n",
    "Results from the paper:\n",
    "- Page 15: \"Beam search also generates much less diverse samples. We conjecture that multinomial beam search sampling focuses too much on the most likely sequences. The diversity of this beam search corresponds to the lowest temperature result.\"\n",
    "- Page 16, Table 4: Multinomial beam search sampling leads to a diversity of answers of $0.258$\n",
    "\n",
    "The results I have obtained differ from those presented in the paper. The mean diversity for multinomial beam sampling is approximately $0.61$ (see below), which is more than twice as big as in the paper. The reason for this discrepancy is that I am using $20$ beams and selecting the $10$ beams with the highest probability. In the paper, they use $5$ beams for each answer. In my case, the diversity score of multinomial beam sampling is approximately the same diversity score when using a temperature value of $0.5$ in multinomial sampling. "
   ],
   "id": "12580eaf796496f4"
  },
  {
   "metadata": {
    "ExecuteTime": {
     "end_time": "2024-06-29T00:16:16.609227Z",
     "start_time": "2024-06-29T00:16:16.602244Z"
    }
   },
   "cell_type": "code",
   "source": "np.mean(diversity[\"beam_20\"])",
   "id": "59442a4edef4e0ff",
   "outputs": [
    {
     "data": {
      "text/plain": [
       "0.6099479605148326"
      ]
     },
     "execution_count": 7,
     "metadata": {},
     "output_type": "execute_result"
    }
   ],
   "execution_count": 7
  },
  {
   "metadata": {},
   "cell_type": "markdown",
   "source": [
    "## Visualize results\n",
    "### Diversity increases with increasing temperature"
   ],
   "id": "58e13e3183cf99f6"
  },
  {
   "metadata": {
    "ExecuteTime": {
     "end_time": "2024-06-29T01:23:33.423826Z",
     "start_time": "2024-06-29T01:23:33.030539Z"
    }
   },
   "cell_type": "code",
   "source": [
    "# Preprocessing\n",
    "diversity_temperatures = diversity.drop(columns=diversity.filter(like=\"beam_\").columns)\n",
    "diversity_temperatures = pd.melt(diversity_temperatures, id_vars=[\"group\"], value_name=\"diversity\",\n",
    "                                 var_name=\"temperature\")\n",
    "diversity_temperatures[\"group\"] = diversity_temperatures[\"group\"].str.replace(\"group_\", \"\").astype(int)\n",
    "diversity_temperatures[\"temperature\"] = diversity_temperatures[\"temperature\"].str.replace(\"temperature_\", \"\").astype(\n",
    "    float)\n",
    "\n",
    "# Plot\n",
    "# sns.set(font_scale = 1.4)\n",
    "plt.figure()\n",
    "sns.lineplot(data=diversity_temperatures, x=\"temperature\", y=\"diversity\", errorbar=\"pi\", estimator=\"mean\", marker=\"o\",\n",
    "             err_style=\"bars\", err_kws={\"capsize\": 4}, linewidth=1.5)\n",
    "plt.xlabel(\"Temperature\")\n",
    "plt.ylabel(\"Diversity\")\n",
    "plt.xticks(config[\"temperatures\"])\n",
    "plt.tight_layout()\n",
    "plt.show()"
   ],
   "id": "96ebcf1aa21b56eb",
   "outputs": [
    {
     "data": {
      "text/plain": [
       "<Figure size 640x480 with 1 Axes>"
      ],
      "image/png": "[encoded data removed]"
     },
     "metadata": {},
     "output_type": "display_data"
    }
   ],
   "execution_count": 8
  },
  {
   "metadata": {},
   "cell_type": "markdown",
   "source": "The results are similar to the ones in the paper (see Figure 3). In general, one can see that higher temperatures result in more diverse outcomes. In this plot, the diversity scores for the temperatures $0.25$ and $0.5$ are lower than the scores in the paper. The reason for this could be the smaller model size. ",
   "id": "c72c9fd6668aa4ad"
  },
  {
   "metadata": {},
   "cell_type": "markdown",
   "source": [
    "### Average correctness of sampled answers\n",
    "Include the average correctness of sampled answers (also done in the paper, see page 9). I compare the results for ROUGE-L > 0.3 and ROUGE-1 > 0.5 (Reason: see notebook `greedy_answers.ipynb`)"
   ],
   "id": "51b712582cffbc77"
  },
  {
   "metadata": {
    "ExecuteTime": {
     "end_time": "2024-06-29T01:27:33.420651Z",
     "start_time": "2024-06-29T01:27:33.413681Z"
    }
   },
   "cell_type": "code",
   "source": [
    "scorer = rouge_scorer.RougeScorer([\"rougeL\", \"rouge1\"], use_stemmer=True)\n",
    "correctness_scores_rouge_1 = {k: [] for k in keys_data}\n",
    "correctness_scores_rouge_l = {k: [] for k in keys_data}"
   ],
   "id": "208d654f460924b6",
   "outputs": [],
   "execution_count": 13
  },
  {
   "metadata": {
    "ExecuteTime": {
     "end_time": "2024-06-29T01:28:22.748411Z",
     "start_time": "2024-06-29T01:27:34.050052Z"
    }
   },
   "cell_type": "code",
   "source": [
    "for data in data_groups:\n",
    "    group_correctness_scores_rouge_1 = {k: [] for k in keys_data}\n",
    "    group_correctness_scores_rouge_l = {k: [] for k in keys_data}\n",
    "\n",
    "    for question_idx in tqdm(data.keys()):\n",
    "        true_answer = data[question_idx][\"true_answer\"]\n",
    "\n",
    "        # Iterate over different temperatures, beam sizes\n",
    "        for k in keys_data:\n",
    "            answers = data[question_idx][k][\"answers\"]\n",
    "            n_correct_rouge_l = 0\n",
    "            n_correct_rouge_1 = 0\n",
    "\n",
    "            for a in answers:\n",
    "                if scorer.score(a, true_answer)[\"rougeL\"].fmeasure > 0.3:\n",
    "                    n_correct_rouge_l += 1\n",
    "                if scorer.score(a, true_answer)[\"rouge1\"].fmeasure > 0.5:\n",
    "                    n_correct_rouge_1 += 1\n",
    "\n",
    "            group_correctness_scores_rouge_l[k].append(n_correct_rouge_l / len(answers))\n",
    "            group_correctness_scores_rouge_1[k].append(n_correct_rouge_1 / len(answers))\n",
    "\n",
    "    # Add mean diversity of group to diversity_scores\n",
    "    correctness_scores_rouge_l = {k: correctness_scores_rouge_l[k] + [np.mean(group_correctness_scores_rouge_l[k])] for\n",
    "                                  k in\n",
    "                                  keys_data}\n",
    "    correctness_scores_rouge_1 = {k: correctness_scores_rouge_1[k] + [np.mean(group_correctness_scores_rouge_1[k])] for\n",
    "                                  k\n",
    "                                  in\n",
    "                                  keys_data}"
   ],
   "id": "51f05699acb918cd",
   "outputs": [
    {
     "name": "stderr",
     "output_type": "stream",
     "text": [
      "100%|██████████| 1000/1000 [00:09<00:00, 104.17it/s]\n",
      "100%|██████████| 1000/1000 [00:09<00:00, 103.55it/s]\n",
      "100%|██████████| 1000/1000 [00:10<00:00, 99.80it/s]\n",
      "100%|██████████| 1000/1000 [00:09<00:00, 104.34it/s]\n",
      "100%|██████████| 1000/1000 [00:09<00:00, 102.03it/s]\n"
     ]
    }
   ],
   "execution_count": 14
  },
  {
   "metadata": {
    "ExecuteTime": {
     "end_time": "2024-06-29T01:28:22.764412Z",
     "start_time": "2024-06-29T01:28:22.750412Z"
    }
   },
   "cell_type": "code",
   "source": [
    "# Convert to pandas df\n",
    "correctness_rouge_l = pd.DataFrame(correctness_scores_rouge_l,\n",
    "                                   index=pd.Index([f\"group_{i}\" for i in range(len(data_groups))]))\n",
    "correctness_rouge_l.index.name = \"group\"\n",
    "correctness_rouge_l.reset_index(inplace=True)\n",
    "print(\"Average correctness of sampled answers using ROUGE-L > 0.3\")\n",
    "correctness_rouge_l"
   ],
   "id": "d6728f914de14169",
   "outputs": [
    {
     "name": "stdout",
     "output_type": "stream",
     "text": [
      "Average correctness of sampled answers using ROUGE-L > 0.3\n"
     ]
    },
    {
     "data": {
      "text/plain": [
       "     group  temperature_0.25  temperature_0.5  temperature_1  temperature_1.5  \\\n",
       "0  group_0            0.1720           0.1633         0.1098           0.0684   \n",
       "1  group_1            0.1928           0.1729         0.1109           0.0652   \n",
       "2  group_2            0.1825           0.1610         0.1107           0.0602   \n",
       "3  group_3            0.1855           0.1716         0.1079           0.0620   \n",
       "4  group_4            0.1823           0.1715         0.1186           0.0689   \n",
       "\n",
       "   beam_20  \n",
       "0   0.1019  \n",
       "1   0.0863  \n",
       "2   0.0906  \n",
       "3   0.0921  \n",
       "4   0.0889  "
      ],
      "text/html": [
       "<div>\n",
       "<style scoped>\n",
       "    .dataframe tbody tr th:only-of-type {\n",
       "        vertical-align: middle;\n",
       "    }\n",
       "\n",
       "    .dataframe tbody tr th {\n",
       "        vertical-align: top;\n",
       "    }\n",
       "\n",
       "    .dataframe thead th {\n",
       "        text-align: right;\n",
       "    }\n",
       "</style>\n",
       "<table border=\"1\" class=\"dataframe\">\n",
       "  <thead>\n",
       "    <tr style=\"text-align: right;\">\n",
       "      <th></th>\n",
       "      <th>group</th>\n",
       "      <th>temperature_0.25</th>\n",
       "      <th>temperature_0.5</th>\n",
       "      <th>temperature_1</th>\n",
       "      <th>temperature_1.5</th>\n",
       "      <th>beam_20</th>\n",
       "    </tr>\n",
       "  </thead>\n",
       "  <tbody>\n",
       "    <tr>\n",
       "      <th>0</th>\n",
       "      <td>group_0</td>\n",
       "      <td>0.1720</td>\n",
       "      <td>0.1633</td>\n",
       "      <td>0.1098</td>\n",
       "      <td>0.0684</td>\n",
       "      <td>0.1019</td>\n",
       "    </tr>\n",
       "    <tr>\n",
       "      <th>1</th>\n",
       "      <td>group_1</td>\n",
       "      <td>0.1928</td>\n",
       "      <td>0.1729</td>\n",
       "      <td>0.1109</td>\n",
       "      <td>0.0652</td>\n",
       "      <td>0.0863</td>\n",
       "    </tr>\n",
       "    <tr>\n",
       "      <th>2</th>\n",
       "      <td>group_2</td>\n",
       "      <td>0.1825</td>\n",
       "      <td>0.1610</td>\n",
       "      <td>0.1107</td>\n",
       "      <td>0.0602</td>\n",
       "      <td>0.0906</td>\n",
       "    </tr>\n",
       "    <tr>\n",
       "      <th>3</th>\n",
       "      <td>group_3</td>\n",
       "      <td>0.1855</td>\n",
       "      <td>0.1716</td>\n",
       "      <td>0.1079</td>\n",
       "      <td>0.0620</td>\n",
       "      <td>0.0921</td>\n",
       "    </tr>\n",
       "    <tr>\n",
       "      <th>4</th>\n",
       "      <td>group_4</td>\n",
       "      <td>0.1823</td>\n",
       "      <td>0.1715</td>\n",
       "      <td>0.1186</td>\n",
       "      <td>0.0689</td>\n",
       "      <td>0.0889</td>\n",
       "    </tr>\n",
       "  </tbody>\n",
       "</table>\n",
       "</div>"
      ]
     },
     "execution_count": 15,
     "metadata": {},
     "output_type": "execute_result"
    }
   ],
   "execution_count": 15
  },
  {
   "metadata": {
    "ExecuteTime": {
     "end_time": "2024-06-29T01:28:22.780412Z",
     "start_time": "2024-06-29T01:28:22.765415Z"
    }
   },
   "cell_type": "code",
   "source": [
    "# Convert to pandas df\n",
    "correctness_rouge_1 = pd.DataFrame(correctness_scores_rouge_1,\n",
    "                                   index=pd.Index([f\"group_{i}\" for i in range(len(data_groups))]))\n",
    "correctness_rouge_1.index.name = \"group\"\n",
    "correctness_rouge_1.reset_index(inplace=True)\n",
    "print(\"Average correctness of sampled answers using ROUGE-1 > 0.5\")\n",
    "correctness_rouge_1"
   ],
   "id": "c5291828ec3b2c76",
   "outputs": [
    {
     "name": "stdout",
     "output_type": "stream",
     "text": [
      "Average correctness of sampled answers using ROUGE-1 > 0.5\n"
     ]
    },
    {
     "data": {
      "text/plain": [
       "     group  temperature_0.25  temperature_0.5  temperature_1  temperature_1.5  \\\n",
       "0  group_0            0.1294           0.1211         0.0801           0.0415   \n",
       "1  group_1            0.1401           0.1260         0.0773           0.0408   \n",
       "2  group_2            0.1350           0.1164         0.0771           0.0358   \n",
       "3  group_3            0.1291           0.1199         0.0730           0.0362   \n",
       "4  group_4            0.1290           0.1204         0.0820           0.0426   \n",
       "\n",
       "   beam_20  \n",
       "0   0.0602  \n",
       "1   0.0410  \n",
       "2   0.0494  \n",
       "3   0.0485  \n",
       "4   0.0449  "
      ],
      "text/html": [
       "<div>\n",
       "<style scoped>\n",
       "    .dataframe tbody tr th:only-of-type {\n",
       "        vertical-align: middle;\n",
       "    }\n",
       "\n",
       "    .dataframe tbody tr th {\n",
       "        vertical-align: top;\n",
       "    }\n",
       "\n",
       "    .dataframe thead th {\n",
       "        text-align: right;\n",
       "    }\n",
       "</style>\n",
       "<table border=\"1\" class=\"dataframe\">\n",
       "  <thead>\n",
       "    <tr style=\"text-align: right;\">\n",
       "      <th></th>\n",
       "      <th>group</th>\n",
       "      <th>temperature_0.25</th>\n",
       "      <th>temperature_0.5</th>\n",
       "      <th>temperature_1</th>\n",
       "      <th>temperature_1.5</th>\n",
       "      <th>beam_20</th>\n",
       "    </tr>\n",
       "  </thead>\n",
       "  <tbody>\n",
       "    <tr>\n",
       "      <th>0</th>\n",
       "      <td>group_0</td>\n",
       "      <td>0.1294</td>\n",
       "      <td>0.1211</td>\n",
       "      <td>0.0801</td>\n",
       "      <td>0.0415</td>\n",
       "      <td>0.0602</td>\n",
       "    </tr>\n",
       "    <tr>\n",
       "      <th>1</th>\n",
       "      <td>group_1</td>\n",
       "      <td>0.1401</td>\n",
       "      <td>0.1260</td>\n",
       "      <td>0.0773</td>\n",
       "      <td>0.0408</td>\n",
       "      <td>0.0410</td>\n",
       "    </tr>\n",
       "    <tr>\n",
       "      <th>2</th>\n",
       "      <td>group_2</td>\n",
       "      <td>0.1350</td>\n",
       "      <td>0.1164</td>\n",
       "      <td>0.0771</td>\n",
       "      <td>0.0358</td>\n",
       "      <td>0.0494</td>\n",
       "    </tr>\n",
       "    <tr>\n",
       "      <th>3</th>\n",
       "      <td>group_3</td>\n",
       "      <td>0.1291</td>\n",
       "      <td>0.1199</td>\n",
       "      <td>0.0730</td>\n",
       "      <td>0.0362</td>\n",
       "      <td>0.0485</td>\n",
       "    </tr>\n",
       "    <tr>\n",
       "      <th>4</th>\n",
       "      <td>group_4</td>\n",
       "      <td>0.1290</td>\n",
       "      <td>0.1204</td>\n",
       "      <td>0.0820</td>\n",
       "      <td>0.0426</td>\n",
       "      <td>0.0449</td>\n",
       "    </tr>\n",
       "  </tbody>\n",
       "</table>\n",
       "</div>"
      ]
     },
     "execution_count": 16,
     "metadata": {},
     "output_type": "execute_result"
    }
   ],
   "execution_count": 16
  },
  {
   "metadata": {},
   "cell_type": "markdown",
   "source": [
    "1. Accuracy when using ROUGE-1 > 0.5 is significantly lower than with ROUGE-L > 0.3. The reasons for this (also see `greedy_answers.ipynb`) is that ROUGE-L > 0.3 leads to a high number of false positives. The answers in TriviaQA are quite short and if the generated answer and the true answer share a stop word, the ROUGE-L score is often already greater than 0.3. ROUGE-1 > 0.5 seems to be much more accurate than ROUGE-L > 0.3. As a result, in the plot with diversity and accuracy plotted together (see below), I only plot ROUGE-1 > 0.5.\n",
    "2. The average correctness scores are lower than the ones in the paper (Figure 3). This may be due to the use of the OPT model with 1.3B parameters, instead of  30B parameters.\n",
    "\n",
    "For beam sampling one can see that the average correctness is approx. 0.049 when using ROUGE-1 > 0.5, which is lower than the average correctness for the temperature values 0.25, 0.5 and 1. "
   ],
   "id": "7ef477523e8adfa7"
  },
  {
   "metadata": {
    "ExecuteTime": {
     "end_time": "2024-06-29T01:29:48.499963Z",
     "start_time": "2024-06-29T01:29:48.487192Z"
    }
   },
   "cell_type": "code",
   "source": "np.mean(correctness_rouge_l[\"beam_20\"]), np.mean(correctness_rouge_1[\"beam_20\"])",
   "id": "674c256bb595040d",
   "outputs": [
    {
     "data": {
      "text/plain": [
       "(0.09196, 0.048799999999999996)"
      ]
     },
     "execution_count": 17,
     "metadata": {},
     "output_type": "execute_result"
    }
   ],
   "execution_count": 17
  },
  {
   "metadata": {},
   "cell_type": "markdown",
   "source": "### Higher temperatures result in less accurate generations",
   "id": "af82436b0579ef33"
  },
  {
   "metadata": {
    "ExecuteTime": {
     "end_time": "2024-06-29T01:29:52.777873Z",
     "start_time": "2024-06-29T01:29:52.559561Z"
    }
   },
   "cell_type": "code",
   "source": [
    "# Preprocessing\n",
    "correctness_rouge_1_temperatures = correctness_rouge_1.drop(columns=correctness_rouge_1.filter(like=\"beam_\").columns)\n",
    "correctness_rouge_1_temperatures = pd.melt(correctness_rouge_1_temperatures, id_vars=[\"group\"], value_name=\"accuracy\",\n",
    "                                           var_name=\"temperature\")\n",
    "correctness_rouge_1_temperatures[\"group\"] = correctness_rouge_1_temperatures[\"group\"].str.replace(\"group_\", \"\").astype(\n",
    "    int)\n",
    "correctness_rouge_1_temperatures[\"temperature\"] = correctness_rouge_1_temperatures[\"temperature\"].str.replace(\n",
    "    \"temperature_\",\n",
    "    \"\").astype(\n",
    "    float)\n",
    "\n",
    "correctness_rouge_l_temperatures = correctness_rouge_l.drop(columns=correctness_rouge_1.filter(like=\"beam_\").columns)\n",
    "correctness_rouge_l_temperatures = pd.melt(correctness_rouge_l_temperatures, id_vars=[\"group\"], value_name=\"accuracy\",\n",
    "                                           var_name=\"temperature\")\n",
    "correctness_rouge_l_temperatures[\"group\"] = correctness_rouge_l_temperatures[\"group\"].str.replace(\"group_\", \"\").astype(\n",
    "    int)\n",
    "correctness_rouge_l_temperatures[\"temperature\"] = correctness_rouge_l_temperatures[\"temperature\"].str.replace(\n",
    "    \"temperature_\",\n",
    "    \"\").astype(\n",
    "    float)\n",
    "\n",
    "# Plot\n",
    "# sns.set(font_scale = 1.4)\n",
    "plt.figure()\n",
    "sns.lineplot(data=correctness_rouge_1_temperatures, x=\"temperature\", y=\"accuracy\", errorbar=\"pi\", estimator=\"mean\",\n",
    "             marker=\"o\",\n",
    "             err_style=\"bars\", err_kws={\"capsize\": 4}, linewidth=1.5, label=\"ROUGE-1 > 0.5\")\n",
    "sns.lineplot(data=correctness_rouge_l_temperatures, x=\"temperature\", y=\"accuracy\", errorbar=\"pi\", estimator=\"mean\",\n",
    "             marker=\"v\",\n",
    "             err_style=\"bars\", err_kws={\"capsize\": 4}, linewidth=1.5, label=\"ROUGE-L > 0.3\")\n",
    "plt.xlabel(\"Temperature\")\n",
    "plt.ylabel(\"Accuracy\")\n",
    "plt.xticks(config[\"temperatures\"])\n",
    "plt.tight_layout()\n",
    "plt.show()"
   ],
   "id": "2797e1d7de547b7",
   "outputs": [
    {
     "data": {
      "text/plain": [
       "<Figure size 640x480 with 1 Axes>"
      ],
      "image/png": "[encoded data removed]"
     },
     "metadata": {},
     "output_type": "display_data"
    }
   ],
   "execution_count": 18
  },
  {
   "metadata": {},
   "cell_type": "markdown",
   "source": [
    "This fits to the observations in the paper:\n",
    "\n",
    "- Page 9, Figure 3: \"Higher temperatures result in more diversity but less accurate generations.\"\n",
    "- Page 9: \"Reducing the temperature improves the average correctness of the answer\""
   ],
   "id": "43c7c3af7e8d34c7"
  },
  {
   "metadata": {},
   "cell_type": "markdown",
   "source": "Add the plots to one plot:",
   "id": "4216c624c555dbad"
  },
  {
   "metadata": {
    "ExecuteTime": {
     "end_time": "2024-06-18T21:02:50.794238Z",
     "start_time": "2024-06-18T21:02:50.421144Z"
    }
   },
   "cell_type": "code",
   "source": [
    "fig = plt.figure()\n",
    "ax1 = fig.add_subplot(111)\n",
    "\n",
    "# Accuracy on left y-axis\n",
    "sns.lineplot(data=correctness_rouge_l_temperatures, x=\"temperature\", y=\"accuracy\", errorbar=\"pi\", estimator=\"mean\",\n",
    "             marker=\"o\",\n",
    "             err_style=\"bars\", err_kws={\"capsize\": 4}, linewidth=1.5, ax=ax1, color='#1f77b4',\n",
    "             label=\"Average correctness of sampled answers (using ROUGE-1 > 0.5)\")\n",
    "ax1.set_xlabel(\"Temperature\")\n",
    "ax1.set_ylabel(\"Accuracy\")\n",
    "ax1.set_xticks(config[\"temperatures\"])\n",
    "\n",
    "# Diversity on right y-axis\n",
    "ax2 = ax1.twinx()\n",
    "sns.lineplot(data=diversity_temperatures, x=\"temperature\", y=\"diversity\", errorbar=\"pi\", estimator=\"mean\", marker=\"v\",\n",
    "             err_style=\"bars\", err_kws={\"capsize\": 4}, linewidth=1.5, ax=ax2, color=\"#ff7f0e\",\n",
    "             label=\"Diversity of sampled answers\")\n",
    "ax2.set_ylabel(\"Diversity\")\n",
    "\n",
    "lines, labels = ax1.get_legend_handles_labels()\n",
    "lines2, labels2 = ax2.get_legend_handles_labels()\n",
    "ax2.legend(lines + lines2, labels + labels2)\n",
    "\n",
    "# Remove other legend \n",
    "ax1.get_legend().remove()\n",
    "\n",
    "plt.tight_layout()\n",
    "plt.show()"
   ],
   "id": "5862fa278a7a6cff",
   "outputs": [
    {
     "data": {
      "text/plain": [
       "<Figure size 640x480 with 2 Axes>"
      ],
      "image/png": "[encoded data removed]"
     },
     "metadata": {},
     "output_type": "display_data"
    }
   ],
   "execution_count": 21
  },
  {
   "metadata": {},
   "cell_type": "code",
   "outputs": [],
   "execution_count": null,
   "source": "",
   "id": "83d15ff47f4bb732"
  }
 ],
 "metadata": {
  "kernelspec": {
   "display_name": "Python 3",
   "language": "python",
   "name": "python3"
  },
  "language_info": {
   "codemirror_mode": {
    "name": "ipython",
    "version": 2
   },
   "file_extension": ".py",
   "mimetype": "text/x-python",
   "name": "python",
   "nbconvert_exporter": "python",
   "pygments_lexer": "ipython2",
   "version": "2.7.6"
  }
 },
 "nbformat": 4,
 "nbformat_minor": 5
}
