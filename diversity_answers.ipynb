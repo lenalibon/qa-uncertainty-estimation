{
 "cells": [
  {
   "metadata": {},
   "cell_type": "markdown",
   "source": [
    "# Calculate diversity of generations\n",
    "From paper, page 9:\n",
    "\n",
    "The diversity is measured using the average overlap of the longest sub-sequence (LCS) among sampled answers:\n",
    "\n",
    "\\begin{equation}\n",
    "1 - \\frac{1}{\\binom{M}{2}} \\sum_{s \\neq s' \\in C} \\text{ROUGE-L}(s, s') \n",
    "\\end{equation}\n",
    "\n",
    "$\\binom{M}{2}$ is the number of possible pairs of $s \\neq s'$ (order doesn't matter)\n"
   ],
   "id": "b4a90eaf24ece958"
  },
  {
   "metadata": {},
   "cell_type": "markdown",
   "source": [
    "1) Calculate diversity of 5 groups \n",
    "2) For multinomial sampling and multinomial beam sampling"
   ],
   "id": "cf7d04890ae6af91"
  },
  {
   "metadata": {
    "ExecuteTime": {
     "end_time": "2024-06-12T12:26:22.576219Z",
     "start_time": "2024-06-12T12:26:22.296535Z"
    }
   },
   "cell_type": "code",
   "source": [
    "import glob\n",
    "import pickle\n",
    "from itertools import combinations\n",
    "from rouge_score import rouge_scorer\n",
    "import yaml\n",
    "import pandas as pd\n",
    "import numpy as np\n",
    "import seaborn as sns\n",
    "import matplotlib.pyplot as plt\n",
    "\n",
    "with open(\"config.yaml\", \"r\") as f:\n",
    "    config = yaml.safe_load(f)"
   ],
   "id": "63b9b3ef9e8eeda",
   "outputs": [],
   "execution_count": 1
  },
  {
   "metadata": {
    "ExecuteTime": {
     "end_time": "2024-06-12T12:26:22.592186Z",
     "start_time": "2024-06-12T12:26:22.577218Z"
    }
   },
   "cell_type": "code",
   "source": [
    "def diversity(string_list):\n",
    "    rouge_l_sum = 0\n",
    "    n_pairs = 0\n",
    "\n",
    "    for s, s_prime in combinations(string_list, 2):\n",
    "        rouge_l_sum += scorer.score(s, s_prime)[\"rougeL\"].fmeasure\n",
    "        n_pairs += 1\n",
    "\n",
    "    return 1 - rouge_l_sum / n_pairs"
   ],
   "id": "de67ff10953268d5",
   "outputs": [],
   "execution_count": 2
  },
  {
   "metadata": {
    "ExecuteTime": {
     "end_time": "2024-06-12T12:26:22.608201Z",
     "start_time": "2024-06-12T12:26:22.593189Z"
    }
   },
   "cell_type": "code",
   "source": [
    "def load_pickle_files(folder):\n",
    "    data_groups = []\n",
    "    pickle_files = glob.glob(f\"{folder}/group*.pkl\")\n",
    "    for pickle_file in pickle_files:\n",
    "        with open(pickle_file, \"rb\") as f:\n",
    "            data_groups.append(pickle.load(f))\n",
    "\n",
    "    return data_groups"
   ],
   "id": "9488714f25094e83",
   "outputs": [],
   "execution_count": 3
  },
  {
   "metadata": {
    "ExecuteTime": {
     "end_time": "2024-06-12T12:26:22.750265Z",
     "start_time": "2024-06-12T12:26:22.610205Z"
    }
   },
   "cell_type": "code",
   "source": [
    "# https://thepythoncode.com/article/calculate-rouge-score-in-python#rouge-l\n",
    "scorer = rouge_scorer.RougeScorer([\"rougeL\"], use_stemmer=True)\n",
    "\n",
    "save_path = config[\"path_to_saved_generations\"]\n",
    "data_groups = load_pickle_files(save_path)\n",
    "\n",
    "keys_data = [f\"temperature_{temp}\" for temp in config[\"temperatures\"]] + [f\"beam_{beam}\" for beam in config[\"n_beams\"]]\n",
    "diversity_scores = {k: [] for k in keys_data}"
   ],
   "id": "6e5fb996dcbbc99e",
   "outputs": [],
   "execution_count": 4
  },
  {
   "metadata": {
    "ExecuteTime": {
     "end_time": "2024-06-12T12:28:28.037486Z",
     "start_time": "2024-06-12T12:26:22.751238Z"
    }
   },
   "cell_type": "code",
   "source": [
    "for data in data_groups:\n",
    "    group_diversity_scores = {k: [] for k in keys_data}\n",
    "    for question_idx in data.keys():\n",
    "        for k in keys_data:\n",
    "            answers = data[question_idx][k][\"answers\"]\n",
    "            group_diversity_scores[k].append(diversity(answers))\n",
    "\n",
    "    # Add mean diversity of group to diversity_scores\n",
    "    diversity_scores = {k: diversity_scores[k] + [np.mean(group_diversity_scores[k])] for k in keys_data}"
   ],
   "id": "2271d6d55d5f58fb",
   "outputs": [],
   "execution_count": 5
  },
  {
   "metadata": {
    "ExecuteTime": {
     "end_time": "2024-06-12T12:28:28.069Z",
     "start_time": "2024-06-12T12:28:28.038456Z"
    }
   },
   "cell_type": "code",
   "source": [
    "# Convert to pandas df\n",
    "diversity = pd.DataFrame(diversity_scores,\n",
    "                         index=pd.Index([f\"group_{i}\" for i in range(len(data_groups))]))\n",
    "diversity.index.name = \"group\"\n",
    "print(\"Diversity scores of sampled answers\")\n",
    "diversity"
   ],
   "id": "61b935b225f271f",
   "outputs": [
    {
     "name": "stdout",
     "output_type": "stream",
     "text": [
      "Diversity scores of sampled answers\n"
     ]
    },
    {
     "data": {
      "text/plain": [
       "         temperature_0.25  temperature_0.5  temperature_1  temperature_1.5  \\\n",
       "group                                                                        \n",
       "group_0          0.369426         0.637823       0.886433         0.956363   \n",
       "group_1          0.347955         0.618786       0.883092         0.958035   \n",
       "group_2          0.353941         0.625156       0.885565         0.959431   \n",
       "group_3          0.356296         0.622342       0.888287         0.961473   \n",
       "group_4          0.350981         0.605766       0.877252         0.955160   \n",
       "\n",
       "          beam_20  \n",
       "group              \n",
       "group_0  0.599882  \n",
       "group_1  0.611705  \n",
       "group_2  0.609484  \n",
       "group_3  0.617475  \n",
       "group_4  0.611195  "
      ],
      "text/html": [
       "<div>\n",
       "<style scoped>\n",
       "    .dataframe tbody tr th:only-of-type {\n",
       "        vertical-align: middle;\n",
       "    }\n",
       "\n",
       "    .dataframe tbody tr th {\n",
       "        vertical-align: top;\n",
       "    }\n",
       "\n",
       "    .dataframe thead th {\n",
       "        text-align: right;\n",
       "    }\n",
       "</style>\n",
       "<table border=\"1\" class=\"dataframe\">\n",
       "  <thead>\n",
       "    <tr style=\"text-align: right;\">\n",
       "      <th></th>\n",
       "      <th>temperature_0.25</th>\n",
       "      <th>temperature_0.5</th>\n",
       "      <th>temperature_1</th>\n",
       "      <th>temperature_1.5</th>\n",
       "      <th>beam_20</th>\n",
       "    </tr>\n",
       "    <tr>\n",
       "      <th>group</th>\n",
       "      <th></th>\n",
       "      <th></th>\n",
       "      <th></th>\n",
       "      <th></th>\n",
       "      <th></th>\n",
       "    </tr>\n",
       "  </thead>\n",
       "  <tbody>\n",
       "    <tr>\n",
       "      <th>group_0</th>\n",
       "      <td>0.369426</td>\n",
       "      <td>0.637823</td>\n",
       "      <td>0.886433</td>\n",
       "      <td>0.956363</td>\n",
       "      <td>0.599882</td>\n",
       "    </tr>\n",
       "    <tr>\n",
       "      <th>group_1</th>\n",
       "      <td>0.347955</td>\n",
       "      <td>0.618786</td>\n",
       "      <td>0.883092</td>\n",
       "      <td>0.958035</td>\n",
       "      <td>0.611705</td>\n",
       "    </tr>\n",
       "    <tr>\n",
       "      <th>group_2</th>\n",
       "      <td>0.353941</td>\n",
       "      <td>0.625156</td>\n",
       "      <td>0.885565</td>\n",
       "      <td>0.959431</td>\n",
       "      <td>0.609484</td>\n",
       "    </tr>\n",
       "    <tr>\n",
       "      <th>group_3</th>\n",
       "      <td>0.356296</td>\n",
       "      <td>0.622342</td>\n",
       "      <td>0.888287</td>\n",
       "      <td>0.961473</td>\n",
       "      <td>0.617475</td>\n",
       "    </tr>\n",
       "    <tr>\n",
       "      <th>group_4</th>\n",
       "      <td>0.350981</td>\n",
       "      <td>0.605766</td>\n",
       "      <td>0.877252</td>\n",
       "      <td>0.955160</td>\n",
       "      <td>0.611195</td>\n",
       "    </tr>\n",
       "  </tbody>\n",
       "</table>\n",
       "</div>"
      ]
     },
     "execution_count": 6,
     "metadata": {},
     "output_type": "execute_result"
    }
   ],
   "execution_count": 6
  },
  {
   "metadata": {},
   "cell_type": "code",
   "outputs": [],
   "execution_count": null,
   "source": "",
   "id": "22580fdc8b0db9cd"
  }
 ],
 "metadata": {
  "kernelspec": {
   "display_name": "Python 3",
   "language": "python",
   "name": "python3"
  },
  "language_info": {
   "codemirror_mode": {
    "name": "ipython",
    "version": 2
   },
   "file_extension": ".py",
   "mimetype": "text/x-python",
   "name": "python",
   "nbconvert_exporter": "python",
   "pygments_lexer": "ipython2",
   "version": "2.7.6"
  }
 },
 "nbformat": 4,
 "nbformat_minor": 5
}
