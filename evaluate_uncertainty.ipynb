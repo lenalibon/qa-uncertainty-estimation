{
 "cells": [
  {
   "metadata": {},
   "cell_type": "markdown",
   "source": [
    "# Evaulate uncertainty measure\n",
    "- To evaluate different uncertainty measure, use AUROC. \n",
    "- Uncertainty measure expected to be higher for incorrect answers and lower for correct answers. As we want to show the relationship incorrect answer -> High uncertainty, incorrect answers are encoded with label 1, correct answers with label 0 \n",
    "- Compute AUROC score for each uncertainty measure with sklearn.metrics.roc_auc_score([0, 0, 0, 1, 1, 0, ...], [semantic entropy scores of the answers])\n",
    "\n"
   ],
   "id": "29c486761075e36e"
  },
  {
   "metadata": {
    "ExecuteTime": {
     "end_time": "2024-06-18T16:44:07.905300Z",
     "start_time": "2024-06-18T16:44:07.853233Z"
    }
   },
   "cell_type": "code",
   "source": [
    "import numpy as np\n",
    "import yaml\n",
    "import glob\n",
    "import pickle\n",
    "import pandas as pd\n",
    "import os\n",
    "from sklearn.metrics import roc_auc_score\n",
    "import seaborn as sns\n",
    "import matplotlib.pyplot as plt\n",
    "import warnings\n",
    "from tqdm import tqdm\n",
    "\n",
    "warnings.simplefilter(action='ignore', category=FutureWarning)\n",
    "\n",
    "with open(\"config.yaml\", \"r\") as f:\n",
    "    config = yaml.safe_load(f)"
   ],
   "id": "98f78f76fad19b6a",
   "outputs": [],
   "execution_count": 171
  },
  {
   "metadata": {
    "ExecuteTime": {
     "end_time": "2024-06-15T17:16:37.773457Z",
     "start_time": "2024-06-15T17:16:37.758443Z"
    }
   },
   "cell_type": "code",
   "source": [
    "def load_pickle_files(folder):\n",
    "    data_groups = []\n",
    "    pickle_files = glob.glob(f\"{folder}/group*.pkl\")\n",
    "    for pickle_file in pickle_files:\n",
    "        with open(pickle_file, \"rb\") as f:\n",
    "            data_groups.append(pickle.load(f))\n",
    "\n",
    "    return data_groups"
   ],
   "id": "875b17d3b889fcb1",
   "outputs": [],
   "execution_count": 2
  },
  {
   "metadata": {
    "ExecuteTime": {
     "end_time": "2024-06-15T17:16:38.661334Z",
     "start_time": "2024-06-15T17:16:38.490743Z"
    }
   },
   "cell_type": "code",
   "source": [
    "save_path = config[\"path_to_saved_generations\"]\n",
    "data_groups = load_pickle_files(save_path)\n",
    "keys_data = [f\"temperature_{temp}\" for temp in config[\"temperatures\"]] + [f\"beam_{beam}\" for beam in config[\"n_beams\"]]"
   ],
   "id": "cafc0a497c6212d2",
   "outputs": [],
   "execution_count": 3
  },
  {
   "metadata": {},
   "cell_type": "markdown",
   "source": "## Save results",
   "id": "8aaa263579425297"
  },
  {
   "metadata": {
    "ExecuteTime": {
     "end_time": "2024-06-15T17:16:39.879139Z",
     "start_time": "2024-06-15T17:16:39.862155Z"
    }
   },
   "cell_type": "code",
   "source": [
    "general_columns = [\"question_id\", \"group\"]\n",
    "correct_columns = [\"rougel_0.3\", \"rougel_0.5\", \"rouge1_0.5\", \"entailment\", \"label_by_hand\"]\n",
    "predictive_entropy_columns = [f\"pred_entropy_temperature_{s}\" for s in config[\"temperatures\"]] + [\n",
    "    f\"pred_entropy_beam_{s}\" for s in config[\"n_beams\"]]\n",
    "length_normalized_entropy_columns = [f\"length_normalized_pred_entropy_temperature_{s}\" for s in\n",
    "                                     config[\"temperatures\"]] + [\n",
    "                                        f\"length_normalized_pred_entropy_beam_{s}\" for s in config[\"n_beams\"]]\n",
    "n_semantically_distinct_columns = [f\"n_semantically_distinct_temperature_{s}\" for s in config[\"temperatures\"]] + [\n",
    "    f\"n_semantically_distinct_beam_{s}\" for s in config[\"n_beams\"]]\n",
    "semantic_entropy_columns = [f\"sem_entropy_temperature_{s}\" for s in config[\"temperatures\"]] + [\n",
    "    f\"sem_entropy_beam_{s}\" for s in config[\"n_beams\"]]\n",
    "\n",
    "results = pd.DataFrame(\n",
    "    columns=general_columns + correct_columns + predictive_entropy_columns + length_normalized_entropy_columns + n_semantically_distinct_columns + semantic_entropy_columns)"
   ],
   "id": "1401ba857af09627",
   "outputs": [],
   "execution_count": 4
  },
  {
   "metadata": {
    "ExecuteTime": {
     "end_time": "2024-06-15T17:20:45.368059Z",
     "start_time": "2024-06-15T17:16:45.402602Z"
    }
   },
   "cell_type": "code",
   "source": [
    "data_groups = load_pickle_files(save_path)\n",
    "\n",
    "for group_nr, group_info in enumerate(data_groups):\n",
    "    for question_idx in group_info.keys():\n",
    "        new_row = {\"question_id\": question_idx, \"group\": group_nr}\n",
    "        results = pd.concat([results, pd.DataFrame([new_row])], ignore_index=True)"
   ],
   "id": "6032d4dfde013a05",
   "outputs": [],
   "execution_count": 5
  },
  {
   "metadata": {
    "ExecuteTime": {
     "end_time": "2024-06-15T17:22:31.310066Z",
     "start_time": "2024-06-15T17:22:31.265940Z"
    }
   },
   "cell_type": "code",
   "source": [
    "# Store it for now\n",
    "results.to_csv(os.path.join(save_path, \"results.csv\"), index=False)"
   ],
   "id": "102c405292699b5b",
   "outputs": [],
   "execution_count": 8
  },
  {
   "metadata": {
    "ExecuteTime": {
     "end_time": "2024-06-15T17:44:43.173595Z",
     "start_time": "2024-06-15T17:44:29.788542Z"
    }
   },
   "cell_type": "code",
   "source": [
    "# Fill in correct_columns\n",
    "with open(os.path.join(save_path, \"greedy_answers.pkl\"), \"rb\") as f:\n",
    "    greedy_answers = pickle.load(f)\n",
    "\n",
    "for question_idx, info in greedy_answers.items():\n",
    "    results.loc[results[\"question_id\"] == question_idx, \"rougel_0.3\"] = info[\"rouge_l_score\"] > 0.3\n",
    "    results.loc[results[\"question_id\"] == question_idx, \"rougel_0.5\"] = info[\"rouge_l_score\"] > 0.5\n",
    "    results.loc[results[\"question_id\"] == question_idx, \"rouge1_0.5\"] = info[\"rouge_1_score\"] > 0.5\n",
    "    results.loc[results[\"question_id\"] == question_idx, \"entailment\"] = info[\"result_entail\"]\n",
    "    results.loc[results[\"question_id\"] == question_idx, \"label_by_hand\"] = info[\"label_by_hand\"]"
   ],
   "id": "e96cf617c1b67dca",
   "outputs": [],
   "execution_count": 14
  },
  {
   "metadata": {
    "ExecuteTime": {
     "end_time": "2024-06-15T17:44:50.850353Z",
     "start_time": "2024-06-15T17:44:50.818359Z"
    }
   },
   "cell_type": "code",
   "source": [
    "# Store it for now\n",
    "results.to_csv(os.path.join(save_path, \"results.csv\"), index=False)"
   ],
   "id": "cd95cdcd232dfe4d",
   "outputs": [],
   "execution_count": 15
  },
  {
   "metadata": {},
   "cell_type": "markdown",
   "source": [
    "## Predictive Entropy\n",
    "\n",
    "The predictive entropy is defined as:\n",
    "$$PE(x) = H[p(s \\mid x)] = - \\sum_{s} p(s \\mid x) \\ln p(s \\mid x)$$\n",
    "\n",
    "Since this is the expected value of $\\ln p(s \\mid x)$, Monte Carlo sampling approximates it by averaging log-probabilities from sampled outcomes. Thus, the Monte Carlo estimator is:\n",
    "$$PE(x) \\approx - \\frac{1}{n}  \\sum_{i = 1}^{n} \\ln p(s_i \\mid x)$$ where $n$ is the number of sampled answers for the question $x$."
   ],
   "id": "9ba879e09bf27a93"
  },
  {
   "cell_type": "code",
   "id": "initial_id",
   "metadata": {
    "collapsed": true,
    "ExecuteTime": {
     "end_time": "2024-06-15T20:53:11.068927Z",
     "start_time": "2024-06-15T20:53:11.049926Z"
    }
   },
   "source": [
    "def predictive_entropy(probabilities):\n",
    "    return -1 / len(probabilities) * np.sum(np.log(probabilities))"
   ],
   "outputs": [],
   "execution_count": 27
  },
  {
   "metadata": {
    "ExecuteTime": {
     "end_time": "2024-06-15T20:53:35.917619Z",
     "start_time": "2024-06-15T20:53:11.882295Z"
    }
   },
   "cell_type": "code",
   "source": [
    "data_groups = load_pickle_files(save_path)\n",
    "for group_nr, group_info in enumerate(data_groups):\n",
    "    for question_idx in group_info.keys():\n",
    "        for key in keys_data:\n",
    "            key_string = f\"pred_entropy_{key}\"\n",
    "            probabilities = group_info[question_idx][key][\"probabilities\"]\n",
    "            results.loc[\n",
    "                (results[\"question_id\"] == question_idx) & (\n",
    "                        results[\"group\"] == group_nr), key_string] = predictive_entropy(\n",
    "                probabilities)"
   ],
   "id": "5cfaa1845b0d6a2d",
   "outputs": [],
   "execution_count": 28
  },
  {
   "metadata": {
    "ExecuteTime": {
     "end_time": "2024-06-15T20:55:31.396885Z",
     "start_time": "2024-06-15T20:55:31.343327Z"
    }
   },
   "cell_type": "code",
   "source": "results.to_csv(os.path.join(save_path, \"results.csv\"), index=False)",
   "id": "4b7731c49f1de79a",
   "outputs": [],
   "execution_count": 32
  },
  {
   "metadata": {},
   "cell_type": "markdown",
   "source": [
    "## Length-normalized predictive entropy\n",
    "Paper (page 8): \"Length-normalised predictive entropy divides the joint log-probability of each sequence by the length of the sequence\""
   ],
   "id": "73b6ff75d925ac5f"
  },
  {
   "metadata": {
    "ExecuteTime": {
     "end_time": "2024-06-16T09:32:28.456581Z",
     "start_time": "2024-06-16T09:32:28.441561Z"
    }
   },
   "cell_type": "code",
   "source": [
    "def length_normalized_predictive_entropy(probabilities, sequence_length):\n",
    "    return -1 / len(probabilities) * np.sum(np.log(probabilities) / sequence_length)"
   ],
   "id": "2f881f2f180676",
   "outputs": [],
   "execution_count": 53
  },
  {
   "metadata": {
    "ExecuteTime": {
     "end_time": "2024-06-16T09:33:02.582603Z",
     "start_time": "2024-06-16T09:32:38.576462Z"
    }
   },
   "cell_type": "code",
   "source": [
    "data_groups = load_pickle_files(save_path)\n",
    "for group_nr, group_info in enumerate(data_groups):\n",
    "    for question_idx in group_info.keys():\n",
    "        for key in keys_data:\n",
    "            key_string = f\"length_normalized_pred_entropy_{key}\"\n",
    "            probabilities = group_info[question_idx][key][\"probabilities\"]\n",
    "            length_sequences = group_info[question_idx][key][\"length_sequences\"]\n",
    "            results.loc[\n",
    "                (results[\"question_id\"] == question_idx) & (\n",
    "                        results[\"group\"] == group_nr), key_string] = length_normalized_predictive_entropy(\n",
    "                probabilities, length_sequences)"
   ],
   "id": "442b412f03a79e42",
   "outputs": [],
   "execution_count": 54
  },
  {
   "metadata": {
    "ExecuteTime": {
     "end_time": "2024-06-16T09:34:49.601381Z",
     "start_time": "2024-06-16T09:34:49.525732Z"
    }
   },
   "cell_type": "code",
   "source": "results.to_csv(os.path.join(save_path, \"results.csv\"), index=False)",
   "id": "253374903535562a",
   "outputs": [],
   "execution_count": 56
  },
  {
   "metadata": {},
   "cell_type": "markdown",
   "source": "## Number of semantically distinct answers",
   "id": "755ebd5ab90b8e04"
  },
  {
   "metadata": {
    "ExecuteTime": {
     "end_time": "2024-06-16T11:33:05.913406Z",
     "start_time": "2024-06-16T11:32:41.168132Z"
    }
   },
   "cell_type": "code",
   "source": [
    "data_groups = load_pickle_files(save_path)\n",
    "for group_nr, group_info in enumerate(data_groups):\n",
    "    for question_idx in group_info.keys():\n",
    "        for key in keys_data:\n",
    "            key_string = f\"n_semantically_distinct_{key}\"\n",
    "            sem_eq_groups = group_info[question_idx][key][\"semantic_eq_groups\"]\n",
    "            results.loc[\n",
    "                (results[\"question_id\"] == question_idx) & (\n",
    "                        results[\"group\"] == group_nr), key_string] = len(set(sem_eq_groups))"
   ],
   "id": "e3d189ea8bff3ee0",
   "outputs": [],
   "execution_count": 58
  },
  {
   "metadata": {
    "ExecuteTime": {
     "end_time": "2024-06-16T11:36:50.323846Z",
     "start_time": "2024-06-16T11:36:50.201661Z"
    }
   },
   "cell_type": "code",
   "source": "results.to_csv(os.path.join(save_path, \"results.csv\"), index=False)",
   "id": "9518f629a483f5c",
   "outputs": [],
   "execution_count": 60
  },
  {
   "metadata": {},
   "cell_type": "markdown",
   "source": [
    "## Semantic Entropy\n",
    "\n",
    "The semantic entropy is defined as (see equation 3):\n",
    "$$SE(x) = - \\sum_{c} p(c \\mid x) \\ln p(c \\mid x) = -\\sum_{c} \\left( \\left( \\sum_{s \\in c} p(s \\mid x) \\right) \\log \\left( \\sum_{s \\in c} p(s \\mid x) \\right) \\right)$$\n",
    "\n",
    "where c stand for the semantic equivalence classes. By sampling from the possible semantic equivalence classes, the Monte Carlo estimator is given by:\n",
    "$$SE(x) \\approx - \\frac{1}{n}  \\sum_{i = 1}^{n} \\ln p(c_i \\mid x)$$ where $n$ is the number of sampled semantic equivalence classes for the question $x$."
   ],
   "id": "3c829e3fa022a789"
  },
  {
   "metadata": {
    "ExecuteTime": {
     "end_time": "2024-06-16T13:10:12.905863Z",
     "start_time": "2024-06-16T13:10:12.893864Z"
    }
   },
   "cell_type": "code",
   "source": [
    "def semantic_entropy(probabilities, lexical_eq_classes, semantic_eq_classes):\n",
    "    prob_sem_class = np.zeros(len(set(semantic_eq_classes)))\n",
    "    lexical_contained = {sem_class: set() for sem_class in set(semantic_eq_classes)}\n",
    "\n",
    "    for i in range(len(probabilities)):\n",
    "        sem_class = semantic_eq_classes[i]\n",
    "        lex_class = lexical_eq_classes[i]\n",
    "        if lex_class not in lexical_contained[sem_class]:\n",
    "            prob_sem_class[sem_class] += probabilities[i]\n",
    "            lexical_contained[sem_class].add(lex_class)\n",
    "\n",
    "    return -1 / len(prob_sem_class) * np.sum(np.log(prob_sem_class))"
   ],
   "id": "1011b74181cbb023",
   "outputs": [],
   "execution_count": 63
  },
  {
   "metadata": {
    "ExecuteTime": {
     "end_time": "2024-06-16T13:15:03.488608Z",
     "start_time": "2024-06-16T13:14:40.431807Z"
    }
   },
   "cell_type": "code",
   "source": [
    "data_groups = load_pickle_files(save_path)\n",
    "for group_nr, group_info in enumerate(data_groups):\n",
    "    for question_idx in group_info.keys():\n",
    "        for key in keys_data:\n",
    "            key_string = f\"sem_entropy_{key}\"\n",
    "            probabilities = group_info[question_idx][key][\"probabilities\"]\n",
    "            lexical_eq_classes = group_info[question_idx][key][\"lexical_eq_groups\"]\n",
    "            sem_eq_classes = group_info[question_idx][key][\"semantic_eq_groups\"]\n",
    "            results.loc[\n",
    "                (results[\"question_id\"] == question_idx) & (\n",
    "                        results[\"group\"] == group_nr), key_string] = semantic_entropy(probabilities, lexical_eq_classes,\n",
    "                                                                                      sem_eq_classes)"
   ],
   "id": "5c1a62ea906946e5",
   "outputs": [],
   "execution_count": 65
  },
  {
   "metadata": {
    "ExecuteTime": {
     "end_time": "2024-06-16T13:20:17.756782Z",
     "start_time": "2024-06-16T13:20:17.659883Z"
    }
   },
   "cell_type": "code",
   "source": "results.to_csv(os.path.join(save_path, \"results.csv\"), index=False)",
   "id": "e1ec6464c5393d8e",
   "outputs": [],
   "execution_count": 67
  },
  {
   "metadata": {},
   "cell_type": "markdown",
   "source": [
    "## Compute AUROC\n",
    "### Compare AUROC value for different temperature scores and uncertainty measures\n",
    "Paper: Figure 3 (b); Use label_by_hand to label answers as correct/false."
   ],
   "id": "3414dca290c63cf8"
  },
  {
   "metadata": {
    "ExecuteTime": {
     "end_time": "2024-06-16T15:52:33.551081Z",
     "start_time": "2024-06-16T15:52:33.476188Z"
    }
   },
   "cell_type": "code",
   "source": [
    "auroc_pred_entropy = {k: [] for k in keys_data}\n",
    "auroc_length_normalized_entropy = {k: [] for k in keys_data}\n",
    "auroc_n_semantically_distrinct = {k: [] for k in keys_data}\n",
    "auroc_semantically_entropy = {k: [] for k in keys_data}"
   ],
   "id": "4b0515836958e3be",
   "outputs": [],
   "execution_count": 68
  },
  {
   "metadata": {
    "ExecuteTime": {
     "end_time": "2024-06-16T17:41:03.288221Z",
     "start_time": "2024-06-16T17:41:03.036666Z"
    }
   },
   "cell_type": "code",
   "source": [
    "for group_nr in range(len(data_groups)):\n",
    "    label_correct = results.loc[results[\"group\"] == group_nr, \"label_by_hand\"].astype(bool)\n",
    "    for k in keys_data:\n",
    "        pred_entropy = results.loc[results[\"group\"] == group_nr, f\"pred_entropy_{k}\"]\n",
    "        length_normalized_pred_entropy = results.loc[\n",
    "            results[\"group\"] == group_nr, f\"length_normalized_pred_entropy_{k}\"]\n",
    "        n_semantically_distinct = results.loc[results[\"group\"] == group_nr, f\"n_semantically_distinct_{k}\"]\n",
    "        sem_entropy = results.loc[results[\"group\"] == group_nr, f\"sem_entropy_{k}\"]\n",
    "\n",
    "        auroc_pred_entropy[k].append(roc_auc_score(~label_correct, pred_entropy))\n",
    "        auroc_length_normalized_entropy[k].append(roc_auc_score(~label_correct, length_normalized_pred_entropy))\n",
    "        auroc_n_semantically_distrinct[k].append(roc_auc_score(~label_correct, n_semantically_distinct))\n",
    "        auroc_semantically_entropy[k].append(roc_auc_score(~label_correct, sem_entropy))"
   ],
   "id": "924f739c1f7c7720",
   "outputs": [],
   "execution_count": 72
  },
  {
   "metadata": {
    "ExecuteTime": {
     "end_time": "2024-06-16T18:23:35.386105Z",
     "start_time": "2024-06-16T18:23:35.373593Z"
    }
   },
   "cell_type": "code",
   "source": [
    "# Preprocessing\n",
    "def convert_to_df(dictionary_auroc):\n",
    "    temp = pd.DataFrame(dictionary_auroc, index=pd.Index([f\"group_{i}\" for i in range(len(data_groups))], name=\"group\"))\n",
    "    temp.reset_index(inplace=True)\n",
    "    return temp\n",
    "\n",
    "\n",
    "auroc_pred_entropy = convert_to_df(auroc_pred_entropy)\n",
    "auroc_length_normalized_entropy = convert_to_df(auroc_length_normalized_entropy)\n",
    "auroc_n_semantically_distrinct = convert_to_df(auroc_n_semantically_distrinct)\n",
    "auroc_semantically_entropy = convert_to_df(auroc_semantically_entropy)"
   ],
   "id": "1e09f2992ba88c98",
   "outputs": [],
   "execution_count": 79
  },
  {
   "metadata": {
    "ExecuteTime": {
     "end_time": "2024-06-16T19:31:27.362666Z",
     "start_time": "2024-06-16T19:31:27.332667Z"
    }
   },
   "cell_type": "code",
   "source": [
    "# Plot temperature\n",
    "def preprocess_df_temperature(df):\n",
    "    df_new = df.drop(columns=df.filter(like=\"beam_\").columns)\n",
    "    df_new = pd.melt(df_new, id_vars=[\"group\"], value_name=\"auroc\", var_name=\"temperature\")\n",
    "    df_new[\"group\"] = df_new[\"group\"].str.replace(\"group_\", \"\").astype(int)\n",
    "    df_new[\"temperature\"] = df_new[\"temperature\"].str.replace(\"temperature_\", \"\").astype(float)\n",
    "    return df_new\n",
    "\n",
    "\n",
    "auroc_pred_entropy_temp = preprocess_df_temperature(auroc_pred_entropy)\n",
    "auroc_length_normalized_entropy_temp = preprocess_df_temperature(auroc_length_normalized_entropy)\n",
    "auroc_n_semantically_distrinct_temp = preprocess_df_temperature(auroc_n_semantically_distrinct)\n",
    "auroc_semantically_entropy_temp = preprocess_df_temperature(auroc_semantically_entropy)"
   ],
   "id": "37c0b8af1b6107d0",
   "outputs": [],
   "execution_count": 81
  },
  {
   "metadata": {
    "ExecuteTime": {
     "end_time": "2024-06-16T19:37:34.088050Z",
     "start_time": "2024-06-16T19:37:33.799658Z"
    }
   },
   "cell_type": "code",
   "source": [
    "plt.figure()\n",
    "sns.lineplot(data=auroc_pred_entropy_temp, x=\"temperature\", y=\"auroc\", errorbar=\"pi\", estimator=\"mean\", marker=\"o\",\n",
    "             err_style=\"bars\", err_kws={\"capsize\": 4}, linewidth=1.5, label=\"Predictive Entropy\")\n",
    "sns.lineplot(data=auroc_length_normalized_entropy_temp, x=\"temperature\", y=\"auroc\", errorbar=\"pi\", estimator=\"mean\",\n",
    "             marker=\"o\", err_style=\"bars\", err_kws={\"capsize\": 4}, linewidth=1.5,\n",
    "             label=\"Length-normalized predictive entropy\")\n",
    "sns.lineplot(data=auroc_n_semantically_distrinct_temp, x=\"temperature\", y=\"auroc\", errorbar=\"pi\", estimator=\"mean\",\n",
    "             marker=\"o\", err_style=\"bars\", err_kws={\"capsize\": 4}, linewidth=1.5,\n",
    "             label=\"Average # of semantically distinct answers\")\n",
    "sns.lineplot(data=auroc_semantically_entropy_temp, x=\"temperature\", y=\"auroc\", errorbar=\"pi\", estimator=\"mean\",\n",
    "             marker=\"o\", err_style=\"bars\", err_kws={\"capsize\": 4}, linewidth=1.5, label=\"Semantic Entropy\")\n",
    "\n",
    "plt.xlabel(\"Temperature\")\n",
    "plt.ylabel(\"AUROC\")\n",
    "plt.xticks(config[\"temperatures\"])\n",
    "plt.tight_layout()\n",
    "plt.show()"
   ],
   "id": "9af38dcd020ca6a9",
   "outputs": [
    {
     "data": {
      "text/plain": [
       "<Figure size 640x480 with 1 Axes>"
      ],
      "image/png": "[encoded data removed]"
     },
     "metadata": {},
     "output_type": "display_data"
    }
   ],
   "execution_count": 84
  },
  {
   "metadata": {},
   "cell_type": "markdown",
   "source": [
    "Same observation as in the paper: AUROC values highest for temperature 0.5\n",
    "\n",
    "For temperature 0.5 Average number of semantically distinct answers highest, but semantic entropy very close by.\n",
    "\n",
    "Paper shows result starting from the model with 2.7B parameters. There semantic entropy, predictive entropy and normalized entropy also almost equal (see Figure 2 b))"
   ],
   "id": "4fac1984eff24c0e"
  },
  {
   "metadata": {},
   "cell_type": "markdown",
   "source": "### Compare AUROC value for multinomial sampling (best temperature 0.5) and beam sampling",
   "id": "7718388331bfaedf"
  },
  {
   "metadata": {
    "ExecuteTime": {
     "end_time": "2024-06-18T15:42:51.802867Z",
     "start_time": "2024-06-18T15:42:51.776867Z"
    }
   },
   "cell_type": "code",
   "source": [
    "# Data preprocessing\n",
    "auroc_pred_entropy[\"uncertainty_measure\"] = \"Predictive Entropy\"\n",
    "auroc_length_normalized_entropy[\"uncertainty_measure\"] = \"Length-normalized predictive entropy\"\n",
    "auroc_n_semantically_distrinct[\"uncertainty_measure\"] = \"Average # of semantically distinct answers\"\n",
    "auroc_semantically_entropy[\"uncertainty_measure\"] = \"Semantic Entropy\"\n",
    "uncertainty_combined = pd.concat([auroc_pred_entropy, auroc_length_normalized_entropy,\n",
    "                                  auroc_n_semantically_distrinct, auroc_semantically_entropy])\n",
    "uncertainty_combined[\"group\"] = uncertainty_combined[\"group\"].str.replace(\"group_\", \"\").astype(int)\n",
    "uncertainty_combined = uncertainty_combined[[\"group\", \"temperature_0.5\", \"beam_20\", \"uncertainty_measure\"]]\n",
    "uncertainty_combined = pd.melt(uncertainty_combined, id_vars=[\"group\", \"uncertainty_measure\"], value_name=\"auroc\",\n",
    "                               var_name=\"sampling_method\", value_vars=[\"temperature_0.5\", \"beam_20\"])\n",
    "uncertainty_combined[\"sampling_method\"] = uncertainty_combined[\"sampling_method\"].map({\n",
    "    \"temperature_0.5\": \"Multinomial sampling (temp=0.5)\",\n",
    "    \"beam_20\": \"Multinomial beam sampling (#beams=20)\"})\n",
    "mean_auroc = uncertainty_combined.groupby([\"uncertainty_measure\", \"sampling_method\"])[\"auroc\"].mean().reset_index()\n",
    "mean_auroc = mean_auroc.rename(columns={\"auroc\": \"mean_auroc\"})\n",
    "uncertainty_combined = uncertainty_combined.merge(mean_auroc, on=[\"uncertainty_measure\", \"sampling_method\"],\n",
    "                                                  how=\"left\").sort_values(by=\"mean_auroc\", ascending=False)"
   ],
   "id": "15cf83ecde578208",
   "outputs": [],
   "execution_count": 156
  },
  {
   "metadata": {
    "ExecuteTime": {
     "end_time": "2024-06-18T15:42:53.457888Z",
     "start_time": "2024-06-18T15:42:52.727673Z"
    }
   },
   "cell_type": "code",
   "source": [
    "plt.figure(figsize=(12, 6))\n",
    "sns.barplot(data=uncertainty_combined, x=\"uncertainty_measure\", y=\"auroc\", hue=\"sampling_method\")\n",
    "plt.xlabel(\"Uncertainty Measure\")\n",
    "plt.ylabel(\"AUROC\")\n",
    "plt.legend(title=\"Sampling Method\")\n",
    "plt.tight_layout()\n",
    "plt.show()"
   ],
   "id": "b9bbd5fecd3343ca",
   "outputs": [
    {
     "data": {
      "text/plain": [
       "<Figure size 1200x600 with 1 Axes>"
      ],
      "image/png": "[encoded data removed]"
     },
     "metadata": {},
     "output_type": "display_data"
    }
   ],
   "execution_count": 157
  },
  {
   "metadata": {},
   "cell_type": "markdown",
   "source": [
    "Observations:\n",
    "- AUROC scores for multinomial sampling (temp=0.5) almost equally high\n",
    "- Multinomial sampling higher AUROC score than multinomial beam sampling"
   ],
   "id": "f12023e3fefcf240"
  },
  {
   "metadata": {},
   "cell_type": "markdown",
   "source": [
    "### Overall comparison using the best sampling parameters\n",
    "Paper: Figure 1a)"
   ],
   "id": "75f1cf80dc691c33"
  },
  {
   "metadata": {
    "ExecuteTime": {
     "end_time": "2024-06-18T15:48:44.221892Z",
     "start_time": "2024-06-18T15:48:43.970077Z"
    }
   },
   "cell_type": "code",
   "source": [
    "uncertainty_combined_multinomial = uncertainty_combined[\n",
    "    uncertainty_combined[\"sampling_method\"] == \"Multinomial sampling (temp=0.5)\"]\n",
    "plt.figure(figsize=(12, 6))\n",
    "sns.barplot(data=uncertainty_combined_multinomial, x=\"uncertainty_measure\", y=\"auroc\")\n",
    "plt.xlabel(\"Uncertainty Measure\")\n",
    "plt.ylabel(\"AUROC\")\n",
    "plt.ylim([0.65, None])\n",
    "plt.tight_layout()\n",
    "plt.show()"
   ],
   "id": "d2e8c44a69ab61b8",
   "outputs": [
    {
     "data": {
      "text/plain": [
       "<Figure size 1200x600 with 1 Axes>"
      ],
      "image/png": "[encoded data removed]"
     },
     "metadata": {},
     "output_type": "display_data"
    }
   ],
   "execution_count": 163
  },
  {
   "metadata": {},
   "cell_type": "markdown",
   "source": [
    "### Incorrectly answered questions have more semantically distinct answers than correct ones\n",
    "Reproduce Table 2 for TriviaQA\n",
    "\n",
    "Use multinomial sampling with temperature 0.5"
   ],
   "id": "29b60c26d042bcc4"
  },
  {
   "metadata": {
    "ExecuteTime": {
     "end_time": "2024-06-18T15:48:59.032214Z",
     "start_time": "2024-06-18T15:48:59.018722Z"
    }
   },
   "cell_type": "code",
   "source": [
    "print(\"AUROC\")\n",
    "print(f\"\\tSemantic entropy: {np.mean(auroc_pred_entropy['temperature_0.5'])}\")\n",
    "print(f\"\\t# distinct answers: {np.mean(auroc_n_semantically_distrinct['temperature_0.5'])}\")"
   ],
   "id": "43940efe79ea49da",
   "outputs": [
    {
     "name": "stdout",
     "output_type": "stream",
     "text": [
      "AUROC\n",
      "\tSemantic entropy: 0.7497556838464557\n",
      "\t# distinct answers: 0.7531116631940266\n"
     ]
    }
   ],
   "execution_count": 164
  },
  {
   "metadata": {
    "ExecuteTime": {
     "end_time": "2024-06-18T16:01:22.107287Z",
     "start_time": "2024-06-18T16:01:22.100286Z"
    }
   },
   "cell_type": "code",
   "source": [
    "print(\"Average # of semantically distinct answers\")\n",
    "correct_answers = results.loc[results[\"label_by_hand\"] == True, \"n_semantically_distinct_temperature_0.5\"].mean()\n",
    "incorrect_answers = results.loc[results[\"label_by_hand\"] == False, \"n_semantically_distinct_temperature_0.5\"].mean()\n",
    "print(f\"\\tCorrectly answered: {correct_answers}\")\n",
    "print(f\"\\tIncorrectly answered: {incorrect_answers}\")"
   ],
   "id": "c08b2717242f9bb7",
   "outputs": [
    {
     "name": "stdout",
     "output_type": "stream",
     "text": [
      "Average # of semantically distinct answers\n",
      "\tCorrectly answered: 2.9576158940397352\n",
      "\tIncorrectly answered: 5.208716136631331\n"
     ]
    }
   ],
   "execution_count": 167
  },
  {
   "metadata": {},
   "cell_type": "markdown",
   "source": [
    "### Compare AUROC for different # samples used to estimate entropy\n",
    "Reproduce Figure 3 a)\n",
    "\n",
    "Use multinomial sampling using temperature 0.5"
   ],
   "id": "43dcf3c4e3cc7a85"
  },
  {
   "metadata": {
    "ExecuteTime": {
     "end_time": "2024-06-18T16:57:14.010381Z",
     "start_time": "2024-06-18T16:57:13.996371Z"
    }
   },
   "cell_type": "code",
   "source": [
    "general_columns = [\"question_id\", \"group\"]\n",
    "correct_columns = [\"label_by_hand\"]\n",
    "predictive_entropy_columns = [f\"pred_entropy_n_samples_{i}\" for i in range(1, 11)]\n",
    "length_normalized_entropy_columns = [f\"length_normalized_pred_entropy_n_samples_{i}\" for i in range(1, 11)]\n",
    "n_semantically_distinct_columns = [f\"n_semantically_distinct_n_samples_{i}\" for i in range(1, 11)]\n",
    "semantic_entropy_columns = [f\"sem_entropy_n_samples_{i}\" for i in range(1, 11)]\n",
    "\n",
    "auroc_n_samples = pd.DataFrame(\n",
    "    columns=general_columns + correct_columns + predictive_entropy_columns + length_normalized_entropy_columns + n_semantically_distinct_columns + semantic_entropy_columns)"
   ],
   "id": "fc11ccbfa9496136",
   "outputs": [],
   "execution_count": 177
  },
  {
   "metadata": {
    "ExecuteTime": {
     "end_time": "2024-06-18T17:05:57.801344Z",
     "start_time": "2024-06-18T16:57:21.267240Z"
    }
   },
   "cell_type": "code",
   "source": [
    "data_groups = load_pickle_files(save_path)\n",
    "with open(os.path.join(save_path, \"greedy_answers.pkl\"), \"rb\") as f:\n",
    "    greedy_answers = pickle.load(f)\n",
    "\n",
    "# Load question_id, group\n",
    "for group_nr, group_info in enumerate(data_groups):\n",
    "    for question_idx in tqdm(group_info.keys()):\n",
    "        new_row = {\"question_id\": question_idx, \"group\": group_nr}\n",
    "        auroc_n_samples = pd.concat([auroc_n_samples, pd.DataFrame([new_row])], ignore_index=True)\n",
    "\n",
    "# Load label by hand\n",
    "for question_idx, info in greedy_answers.items():\n",
    "    auroc_n_samples.loc[auroc_n_samples[\"question_id\"] == question_idx, \"label_by_hand\"] = info[\"label_by_hand\"]"
   ],
   "id": "56106942544333df",
   "outputs": [
    {
     "name": "stderr",
     "output_type": "stream",
     "text": [
      "100%|██████████| 1000/1000 [00:21<00:00, 46.20it/s]\n",
      "100%|██████████| 1000/1000 [01:07<00:00, 14.72it/s]\n",
      "100%|██████████| 1000/1000 [01:41<00:00,  9.83it/s]\n",
      "100%|██████████| 1000/1000 [02:24<00:00,  6.92it/s]\n",
      "100%|██████████| 1000/1000 [02:57<00:00,  5.63it/s]\n"
     ]
    }
   ],
   "execution_count": 178
  },
  {
   "metadata": {
    "ExecuteTime": {
     "end_time": "2024-06-18T17:13:09.448714Z",
     "start_time": "2024-06-18T17:09:57.549686Z"
    }
   },
   "cell_type": "code",
   "source": [
    "# Calculate metrics\n",
    "for group_nr, group_info in enumerate(data_groups):\n",
    "    for question_idx in tqdm(group_info.keys()):\n",
    "        for i in range(1, 11):\n",
    "            key_string_pred_entropy = f\"pred_entropy_n_samples_{i}\"\n",
    "            key_string_length_normalized_entropy = f\"length_normalized_pred_entropy_n_samples_{i}\"\n",
    "            key_string_semantically_distict = f\"n_semantically_distinct_n_samples_{i}\"\n",
    "            key_string_semantic_entropy = f\"sem_entropy_n_samples_{i}\"\n",
    "\n",
    "            probabilities = group_info[question_idx][\"temperature_0.5\"][\"probabilities\"][:i]\n",
    "            length_sequences = group_info[question_idx][\"temperature_0.5\"][\"length_sequences\"][:i]\n",
    "            sem_eq_classes = group_info[question_idx][\"temperature_0.5\"][\"semantic_eq_groups\"][:i]\n",
    "            lexical_eq_classes = group_info[question_idx][\"temperature_0.5\"][\"lexical_eq_groups\"][:i]\n",
    "\n",
    "            auroc_n_samples.loc[\n",
    "                (auroc_n_samples[\"question_id\"] == question_idx) & (\n",
    "                        auroc_n_samples[\"group\"] == group_nr), key_string_pred_entropy] = predictive_entropy(\n",
    "                probabilities)\n",
    "\n",
    "            auroc_n_samples.loc[\n",
    "                (auroc_n_samples[\"question_id\"] == question_idx) & (\n",
    "                        auroc_n_samples[\n",
    "                            \"group\"] == group_nr), key_string_length_normalized_entropy] = length_normalized_predictive_entropy(\n",
    "                probabilities, length_sequences)\n",
    "\n",
    "            auroc_n_samples.loc[\n",
    "                (auroc_n_samples[\"question_id\"] == question_idx) & (\n",
    "                        auroc_n_samples[\"group\"] == group_nr), key_string_semantically_distict] = len(\n",
    "                set(sem_eq_classes))\n",
    "\n",
    "            auroc_n_samples.loc[\n",
    "                (auroc_n_samples[\"question_id\"] == question_idx) & (\n",
    "                        auroc_n_samples[\"group\"] == group_nr), key_string_semantic_entropy] = semantic_entropy(\n",
    "                probabilities, lexical_eq_classes, sem_eq_classes)\n",
    "\n",
    "auroc_n_samples"
   ],
   "id": "70bab1ba8a77a36c",
   "outputs": [
    {
     "name": "stderr",
     "output_type": "stream",
     "text": [
      "100%|██████████| 1000/1000 [00:37<00:00, 26.41it/s]\n",
      "100%|██████████| 1000/1000 [00:38<00:00, 26.24it/s]\n",
      "100%|██████████| 1000/1000 [00:38<00:00, 26.12it/s]\n",
      "100%|██████████| 1000/1000 [00:38<00:00, 25.92it/s]\n",
      "100%|██████████| 1000/1000 [00:39<00:00, 25.63it/s]\n"
     ]
    },
    {
     "data": {
      "text/plain": [
       "     question_id group label_by_hand pred_entropy_n_samples_1  \\\n",
       "0          12261     0         False                 0.602521   \n",
       "1          12934     0         False                 1.249652   \n",
       "2          15472     0         False                 0.094343   \n",
       "3            253     0         False                 0.427121   \n",
       "4          13785     0         False                 4.131798   \n",
       "...          ...   ...           ...                      ...   \n",
       "4995       15676     4         False                 1.110143   \n",
       "4996        1432     4         False                 0.435271   \n",
       "4997       11691     4         False                     -0.0   \n",
       "4998       10833     4          True                     -0.0   \n",
       "4999       16871     4         False                 2.347512   \n",
       "\n",
       "     pred_entropy_n_samples_2 pred_entropy_n_samples_3  \\\n",
       "0                    0.697667                 0.729382   \n",
       "1                    1.249652                 1.249652   \n",
       "2                    0.094343                 0.094343   \n",
       "3                    0.427121                 1.369471   \n",
       "4                    5.271733                 5.075591   \n",
       "...                       ...                      ...   \n",
       "4995                 2.008833                 2.308396   \n",
       "4996                 1.059138                 0.851182   \n",
       "4997                     -0.0                     -0.0   \n",
       "4998                     -0.0                     -0.0   \n",
       "4999                 3.243948                 4.362558   \n",
       "\n",
       "     pred_entropy_n_samples_4 pred_entropy_n_samples_5  \\\n",
       "0                    0.697667                 0.678638   \n",
       "1                    1.249652                 1.712698   \n",
       "2                    0.094343                 0.094343   \n",
       "3                    1.133883                 0.992531   \n",
       "4                    4.076769                 3.477476   \n",
       "...                       ...                      ...   \n",
       "4995                  2.18365                 1.968949   \n",
       "4996                 0.747204                 0.684817   \n",
       "4997                     -0.0                     -0.0   \n",
       "4998                     -0.0                     -0.0   \n",
       "4999                 4.890692                 4.932448   \n",
       "\n",
       "     pred_entropy_n_samples_6 pred_entropy_n_samples_7  ...  \\\n",
       "0                    0.665951                 0.684074  ...   \n",
       "1                    1.779375                 1.686672  ...   \n",
       "2                    0.094343                 0.094343  ...   \n",
       "3                    1.418377                 1.536785  ...   \n",
       "4                    3.834192                  3.92937  ...   \n",
       "...                       ...                      ...  ...   \n",
       "4995                 1.825814                 1.867381  ...   \n",
       "4996                 0.643226                 0.613518  ...   \n",
       "4997                     -0.0                     -0.0  ...   \n",
       "4998                     -0.0                     -0.0  ...   \n",
       "4999                 4.772993                 4.426496  ...   \n",
       "\n",
       "     sem_entropy_n_samples_1 sem_entropy_n_samples_2 sem_entropy_n_samples_3  \\\n",
       "0                   0.602521                    -0.0                    -0.0   \n",
       "1                   1.249652                1.249652                1.249652   \n",
       "2                   0.094343                0.094343                0.094343   \n",
       "3                   0.427121                0.427121                0.369619   \n",
       "4                   4.131798                5.271733                5.075591   \n",
       "...                      ...                     ...                     ...   \n",
       "4995                1.110143                0.956793                0.956793   \n",
       "4996                0.435271                0.182836                0.182836   \n",
       "4997                    -0.0                    -0.0                    -0.0   \n",
       "4998                    -0.0                    -0.0                    -0.0   \n",
       "4999                2.347512                3.243948                4.362558   \n",
       "\n",
       "     sem_entropy_n_samples_4 sem_entropy_n_samples_5 sem_entropy_n_samples_6  \\\n",
       "0                       -0.0                    -0.0                    -0.0   \n",
       "1                   1.249652                2.407268                2.309098   \n",
       "2                   0.094343                0.094343                0.094343   \n",
       "3                   0.369619                0.369619                1.958614   \n",
       "4                   4.076769                4.076769                3.993941   \n",
       "...                      ...                     ...                     ...   \n",
       "4995                1.383102                1.383102                1.383102   \n",
       "4996                0.182836                0.182836                0.182836   \n",
       "4997                    -0.0                    -0.0                    -0.0   \n",
       "4998                    -0.0                    -0.0                    -0.0   \n",
       "4999                4.890692                4.932448                4.772993   \n",
       "\n",
       "     sem_entropy_n_samples_7 sem_entropy_n_samples_8 sem_entropy_n_samples_9  \\\n",
       "0                       -0.0                    -0.0                    -0.0   \n",
       "1                   2.014436                2.014436                2.014436   \n",
       "2                   0.094343                0.094343                0.094343   \n",
       "3                    2.05482                 2.05482                2.043283   \n",
       "4                   4.095241                4.095241                 4.08499   \n",
       "...                      ...                     ...                     ...   \n",
       "4995                1.246758                1.246758                1.246758   \n",
       "4996                0.182836                0.182836                0.182836   \n",
       "4997                    -0.0                    -0.0                    -0.0   \n",
       "4998                    -0.0                    -0.0                    -0.0   \n",
       "4999                4.772993                4.680332                 4.56864   \n",
       "\n",
       "     sem_entropy_n_samples_10  \n",
       "0                        -0.0  \n",
       "1                    2.014436  \n",
       "2                    0.094343  \n",
       "3                    2.043283  \n",
       "4                     4.08499  \n",
       "...                       ...  \n",
       "4995                 1.246758  \n",
       "4996                 0.182836  \n",
       "4997                     -0.0  \n",
       "4998                     -0.0  \n",
       "4999                  4.56864  \n",
       "\n",
       "[5000 rows x 43 columns]"
      ],
      "text/html": [
       "<div>\n",
       "<style scoped>\n",
       "    .dataframe tbody tr th:only-of-type {\n",
       "        vertical-align: middle;\n",
       "    }\n",
       "\n",
       "    .dataframe tbody tr th {\n",
       "        vertical-align: top;\n",
       "    }\n",
       "\n",
       "    .dataframe thead th {\n",
       "        text-align: right;\n",
       "    }\n",
       "</style>\n",
       "<table border=\"1\" class=\"dataframe\">\n",
       "  <thead>\n",
       "    <tr style=\"text-align: right;\">\n",
       "      <th></th>\n",
       "      <th>question_id</th>\n",
       "      <th>group</th>\n",
       "      <th>label_by_hand</th>\n",
       "      <th>pred_entropy_n_samples_1</th>\n",
       "      <th>pred_entropy_n_samples_2</th>\n",
       "      <th>pred_entropy_n_samples_3</th>\n",
       "      <th>pred_entropy_n_samples_4</th>\n",
       "      <th>pred_entropy_n_samples_5</th>\n",
       "      <th>pred_entropy_n_samples_6</th>\n",
       "      <th>pred_entropy_n_samples_7</th>\n",
       "      <th>...</th>\n",
       "      <th>sem_entropy_n_samples_1</th>\n",
       "      <th>sem_entropy_n_samples_2</th>\n",
       "      <th>sem_entropy_n_samples_3</th>\n",
       "      <th>sem_entropy_n_samples_4</th>\n",
       "      <th>sem_entropy_n_samples_5</th>\n",
       "      <th>sem_entropy_n_samples_6</th>\n",
       "      <th>sem_entropy_n_samples_7</th>\n",
       "      <th>sem_entropy_n_samples_8</th>\n",
       "      <th>sem_entropy_n_samples_9</th>\n",
       "      <th>sem_entropy_n_samples_10</th>\n",
       "    </tr>\n",
       "  </thead>\n",
       "  <tbody>\n",
       "    <tr>\n",
       "      <th>0</th>\n",
       "      <td>12261</td>\n",
       "      <td>0</td>\n",
       "      <td>False</td>\n",
       "      <td>0.602521</td>\n",
       "      <td>0.697667</td>\n",
       "      <td>0.729382</td>\n",
       "      <td>0.697667</td>\n",
       "      <td>0.678638</td>\n",
       "      <td>0.665951</td>\n",
       "      <td>0.684074</td>\n",
       "      <td>...</td>\n",
       "      <td>0.602521</td>\n",
       "      <td>-0.0</td>\n",
       "      <td>-0.0</td>\n",
       "      <td>-0.0</td>\n",
       "      <td>-0.0</td>\n",
       "      <td>-0.0</td>\n",
       "      <td>-0.0</td>\n",
       "      <td>-0.0</td>\n",
       "      <td>-0.0</td>\n",
       "      <td>-0.0</td>\n",
       "    </tr>\n",
       "    <tr>\n",
       "      <th>1</th>\n",
       "      <td>12934</td>\n",
       "      <td>0</td>\n",
       "      <td>False</td>\n",
       "      <td>1.249652</td>\n",
       "      <td>1.249652</td>\n",
       "      <td>1.249652</td>\n",
       "      <td>1.249652</td>\n",
       "      <td>1.712698</td>\n",
       "      <td>1.779375</td>\n",
       "      <td>1.686672</td>\n",
       "      <td>...</td>\n",
       "      <td>1.249652</td>\n",
       "      <td>1.249652</td>\n",
       "      <td>1.249652</td>\n",
       "      <td>1.249652</td>\n",
       "      <td>2.407268</td>\n",
       "      <td>2.309098</td>\n",
       "      <td>2.014436</td>\n",
       "      <td>2.014436</td>\n",
       "      <td>2.014436</td>\n",
       "      <td>2.014436</td>\n",
       "    </tr>\n",
       "    <tr>\n",
       "      <th>2</th>\n",
       "      <td>15472</td>\n",
       "      <td>0</td>\n",
       "      <td>False</td>\n",
       "      <td>0.094343</td>\n",
       "      <td>0.094343</td>\n",
       "      <td>0.094343</td>\n",
       "      <td>0.094343</td>\n",
       "      <td>0.094343</td>\n",
       "      <td>0.094343</td>\n",
       "      <td>0.094343</td>\n",
       "      <td>...</td>\n",
       "      <td>0.094343</td>\n",
       "      <td>0.094343</td>\n",
       "      <td>0.094343</td>\n",
       "      <td>0.094343</td>\n",
       "      <td>0.094343</td>\n",
       "      <td>0.094343</td>\n",
       "      <td>0.094343</td>\n",
       "      <td>0.094343</td>\n",
       "      <td>0.094343</td>\n",
       "      <td>0.094343</td>\n",
       "    </tr>\n",
       "    <tr>\n",
       "      <th>3</th>\n",
       "      <td>253</td>\n",
       "      <td>0</td>\n",
       "      <td>False</td>\n",
       "      <td>0.427121</td>\n",
       "      <td>0.427121</td>\n",
       "      <td>1.369471</td>\n",
       "      <td>1.133883</td>\n",
       "      <td>0.992531</td>\n",
       "      <td>1.418377</td>\n",
       "      <td>1.536785</td>\n",
       "      <td>...</td>\n",
       "      <td>0.427121</td>\n",
       "      <td>0.427121</td>\n",
       "      <td>0.369619</td>\n",
       "      <td>0.369619</td>\n",
       "      <td>0.369619</td>\n",
       "      <td>1.958614</td>\n",
       "      <td>2.05482</td>\n",
       "      <td>2.05482</td>\n",
       "      <td>2.043283</td>\n",
       "      <td>2.043283</td>\n",
       "    </tr>\n",
       "    <tr>\n",
       "      <th>4</th>\n",
       "      <td>13785</td>\n",
       "      <td>0</td>\n",
       "      <td>False</td>\n",
       "      <td>4.131798</td>\n",
       "      <td>5.271733</td>\n",
       "      <td>5.075591</td>\n",
       "      <td>4.076769</td>\n",
       "      <td>3.477476</td>\n",
       "      <td>3.834192</td>\n",
       "      <td>3.92937</td>\n",
       "      <td>...</td>\n",
       "      <td>4.131798</td>\n",
       "      <td>5.271733</td>\n",
       "      <td>5.075591</td>\n",
       "      <td>4.076769</td>\n",
       "      <td>4.076769</td>\n",
       "      <td>3.993941</td>\n",
       "      <td>4.095241</td>\n",
       "      <td>4.095241</td>\n",
       "      <td>4.08499</td>\n",
       "      <td>4.08499</td>\n",
       "    </tr>\n",
       "    <tr>\n",
       "      <th>...</th>\n",
       "      <td>...</td>\n",
       "      <td>...</td>\n",
       "      <td>...</td>\n",
       "      <td>...</td>\n",
       "      <td>...</td>\n",
       "      <td>...</td>\n",
       "      <td>...</td>\n",
       "      <td>...</td>\n",
       "      <td>...</td>\n",
       "      <td>...</td>\n",
       "      <td>...</td>\n",
       "      <td>...</td>\n",
       "      <td>...</td>\n",
       "      <td>...</td>\n",
       "      <td>...</td>\n",
       "      <td>...</td>\n",
       "      <td>...</td>\n",
       "      <td>...</td>\n",
       "      <td>...</td>\n",
       "      <td>...</td>\n",
       "      <td>...</td>\n",
       "    </tr>\n",
       "    <tr>\n",
       "      <th>4995</th>\n",
       "      <td>15676</td>\n",
       "      <td>4</td>\n",
       "      <td>False</td>\n",
       "      <td>1.110143</td>\n",
       "      <td>2.008833</td>\n",
       "      <td>2.308396</td>\n",
       "      <td>2.18365</td>\n",
       "      <td>1.968949</td>\n",
       "      <td>1.825814</td>\n",
       "      <td>1.867381</td>\n",
       "      <td>...</td>\n",
       "      <td>1.110143</td>\n",
       "      <td>0.956793</td>\n",
       "      <td>0.956793</td>\n",
       "      <td>1.383102</td>\n",
       "      <td>1.383102</td>\n",
       "      <td>1.383102</td>\n",
       "      <td>1.246758</td>\n",
       "      <td>1.246758</td>\n",
       "      <td>1.246758</td>\n",
       "      <td>1.246758</td>\n",
       "    </tr>\n",
       "    <tr>\n",
       "      <th>4996</th>\n",
       "      <td>1432</td>\n",
       "      <td>4</td>\n",
       "      <td>False</td>\n",
       "      <td>0.435271</td>\n",
       "      <td>1.059138</td>\n",
       "      <td>0.851182</td>\n",
       "      <td>0.747204</td>\n",
       "      <td>0.684817</td>\n",
       "      <td>0.643226</td>\n",
       "      <td>0.613518</td>\n",
       "      <td>...</td>\n",
       "      <td>0.435271</td>\n",
       "      <td>0.182836</td>\n",
       "      <td>0.182836</td>\n",
       "      <td>0.182836</td>\n",
       "      <td>0.182836</td>\n",
       "      <td>0.182836</td>\n",
       "      <td>0.182836</td>\n",
       "      <td>0.182836</td>\n",
       "      <td>0.182836</td>\n",
       "      <td>0.182836</td>\n",
       "    </tr>\n",
       "    <tr>\n",
       "      <th>4997</th>\n",
       "      <td>11691</td>\n",
       "      <td>4</td>\n",
       "      <td>False</td>\n",
       "      <td>-0.0</td>\n",
       "      <td>-0.0</td>\n",
       "      <td>-0.0</td>\n",
       "      <td>-0.0</td>\n",
       "      <td>-0.0</td>\n",
       "      <td>-0.0</td>\n",
       "      <td>-0.0</td>\n",
       "      <td>...</td>\n",
       "      <td>-0.0</td>\n",
       "      <td>-0.0</td>\n",
       "      <td>-0.0</td>\n",
       "      <td>-0.0</td>\n",
       "      <td>-0.0</td>\n",
       "      <td>-0.0</td>\n",
       "      <td>-0.0</td>\n",
       "      <td>-0.0</td>\n",
       "      <td>-0.0</td>\n",
       "      <td>-0.0</td>\n",
       "    </tr>\n",
       "    <tr>\n",
       "      <th>4998</th>\n",
       "      <td>10833</td>\n",
       "      <td>4</td>\n",
       "      <td>True</td>\n",
       "      <td>-0.0</td>\n",
       "      <td>-0.0</td>\n",
       "      <td>-0.0</td>\n",
       "      <td>-0.0</td>\n",
       "      <td>-0.0</td>\n",
       "      <td>-0.0</td>\n",
       "      <td>-0.0</td>\n",
       "      <td>...</td>\n",
       "      <td>-0.0</td>\n",
       "      <td>-0.0</td>\n",
       "      <td>-0.0</td>\n",
       "      <td>-0.0</td>\n",
       "      <td>-0.0</td>\n",
       "      <td>-0.0</td>\n",
       "      <td>-0.0</td>\n",
       "      <td>-0.0</td>\n",
       "      <td>-0.0</td>\n",
       "      <td>-0.0</td>\n",
       "    </tr>\n",
       "    <tr>\n",
       "      <th>4999</th>\n",
       "      <td>16871</td>\n",
       "      <td>4</td>\n",
       "      <td>False</td>\n",
       "      <td>2.347512</td>\n",
       "      <td>3.243948</td>\n",
       "      <td>4.362558</td>\n",
       "      <td>4.890692</td>\n",
       "      <td>4.932448</td>\n",
       "      <td>4.772993</td>\n",
       "      <td>4.426496</td>\n",
       "      <td>...</td>\n",
       "      <td>2.347512</td>\n",
       "      <td>3.243948</td>\n",
       "      <td>4.362558</td>\n",
       "      <td>4.890692</td>\n",
       "      <td>4.932448</td>\n",
       "      <td>4.772993</td>\n",
       "      <td>4.772993</td>\n",
       "      <td>4.680332</td>\n",
       "      <td>4.56864</td>\n",
       "      <td>4.56864</td>\n",
       "    </tr>\n",
       "  </tbody>\n",
       "</table>\n",
       "<p>5000 rows × 43 columns</p>\n",
       "</div>"
      ]
     },
     "execution_count": 179,
     "metadata": {},
     "output_type": "execute_result"
    }
   ],
   "execution_count": 179
  },
  {
   "metadata": {
    "ExecuteTime": {
     "end_time": "2024-06-18T17:17:06.160913Z",
     "start_time": "2024-06-18T17:17:05.973047Z"
    }
   },
   "cell_type": "code",
   "source": "auroc_n_samples.to_csv(os.path.join(save_path, \"results_samples.csv\"), index=False)",
   "id": "b7fe6de45e661be4",
   "outputs": [],
   "execution_count": 180
  },
  {
   "metadata": {
    "ExecuteTime": {
     "end_time": "2024-06-18T17:53:17.561595Z",
     "start_time": "2024-06-18T17:53:17.548560Z"
    }
   },
   "cell_type": "code",
   "source": [
    "# Compute AUROC\n",
    "auroc_pred_entropy_samples = {i: [] for i in range(1, 11)}\n",
    "auroc_length_normalized_entropy_samples = {i: [] for i in range(1, 11)}\n",
    "auroc_n_semantically_distinct_samples = {i: [] for i in range(1, 11)}\n",
    "auroc_semantically_entropy_samples = {i: [] for i in range(1, 11)}"
   ],
   "id": "55aeb1dba622a484",
   "outputs": [],
   "execution_count": 191
  },
  {
   "metadata": {
    "ExecuteTime": {
     "end_time": "2024-06-18T17:53:21.422765Z",
     "start_time": "2024-06-18T17:53:20.767289Z"
    }
   },
   "cell_type": "code",
   "source": [
    "for group_nr in range(len(data_groups)):\n",
    "    label_correct = auroc_n_samples.loc[auroc_n_samples[\"group\"] == group_nr, \"label_by_hand\"].astype(bool)\n",
    "    for i in range(1, 11):\n",
    "        pred_entropy = auroc_n_samples.loc[auroc_n_samples[\"group\"] == group_nr, f\"pred_entropy_n_samples_{i}\"]\n",
    "        length_normalized_pred_entropy = auroc_n_samples.loc[\n",
    "            auroc_n_samples[\"group\"] == group_nr, f\"length_normalized_pred_entropy_n_samples_{i}\"]\n",
    "        n_semantically_distinct = auroc_n_samples.loc[\n",
    "            auroc_n_samples[\"group\"] == group_nr, f\"n_semantically_distinct_n_samples_{i}\"]\n",
    "        sem_entropy = auroc_n_samples.loc[auroc_n_samples[\"group\"] == group_nr, f\"sem_entropy_n_samples_{i}\"]\n",
    "\n",
    "        auroc_pred_entropy_samples[i].append(roc_auc_score(~label_correct, pred_entropy))\n",
    "        auroc_length_normalized_entropy_samples[i].append(roc_auc_score(~label_correct, length_normalized_pred_entropy))\n",
    "        auroc_n_semantically_distinct_samples[i].append(roc_auc_score(~label_correct, n_semantically_distinct))\n",
    "        auroc_semantically_entropy_samples[i].append(roc_auc_score(~label_correct, sem_entropy))"
   ],
   "id": "6f0722074f7b5317",
   "outputs": [],
   "execution_count": 192
  },
  {
   "metadata": {
    "ExecuteTime": {
     "end_time": "2024-06-18T17:53:25.797314Z",
     "start_time": "2024-06-18T17:53:25.771289Z"
    }
   },
   "cell_type": "code",
   "source": [
    "# Convert to df\n",
    "auroc_pred_entropy_samples = convert_to_df(auroc_pred_entropy_samples)\n",
    "auroc_length_normalized_entropy_samples = convert_to_df(auroc_length_normalized_entropy_samples)\n",
    "auroc_n_semantically_distinct_samples = convert_to_df(auroc_n_semantically_distinct_samples)\n",
    "auroc_semantically_entropy_samples = convert_to_df(auroc_semantically_entropy_samples)"
   ],
   "id": "5900dc436526adf7",
   "outputs": [],
   "execution_count": 193
  },
  {
   "metadata": {
    "ExecuteTime": {
     "end_time": "2024-06-18T17:54:07.519526Z",
     "start_time": "2024-06-18T17:54:07.500497Z"
    }
   },
   "cell_type": "code",
   "source": [
    "def preprocess_n_samples(df):\n",
    "    df_new = pd.melt(df, id_vars=[\"group\"], value_name=\"auroc\", var_name=\"n_samples\")\n",
    "    df_new[\"group\"] = df_new[\"group\"].str.replace(\"group_\", \"\").astype(int)\n",
    "    return df_new\n",
    "\n",
    "\n",
    "auroc_pred_entropy_samples = preprocess_n_samples(auroc_pred_entropy_samples)\n",
    "auroc_length_normalized_entropy_samples = preprocess_n_samples(auroc_length_normalized_entropy_samples)\n",
    "auroc_n_semantically_distinct_samples = preprocess_n_samples(auroc_n_semantically_distinct_samples)\n",
    "auroc_semantically_entropy_samples = preprocess_n_samples(auroc_semantically_entropy_samples)"
   ],
   "id": "da9c566706f3231e",
   "outputs": [],
   "execution_count": 194
  },
  {
   "metadata": {
    "ExecuteTime": {
     "end_time": "2024-06-18T17:57:14.313900Z",
     "start_time": "2024-06-18T17:57:13.937680Z"
    }
   },
   "cell_type": "code",
   "source": [
    "plt.figure()\n",
    "sns.lineplot(data=auroc_pred_entropy_samples, x=\"n_samples\", y=\"auroc\", errorbar=\"pi\", estimator=\"mean\", marker=\"o\",\n",
    "             err_style=\"bars\", err_kws={\"capsize\": 4}, linewidth=1.5, label=\"Predictive Entropy\")\n",
    "sns.lineplot(data=auroc_length_normalized_entropy_samples, x=\"n_samples\", y=\"auroc\", errorbar=\"pi\", estimator=\"mean\",\n",
    "             marker=\"o\", err_style=\"bars\", err_kws={\"capsize\": 4}, linewidth=1.5,\n",
    "             label=\"Length-normalized predictive entropy\")\n",
    "sns.lineplot(data=auroc_n_semantically_distinct_samples, x=\"n_samples\", y=\"auroc\", errorbar=\"pi\", estimator=\"mean\",\n",
    "             marker=\"o\", err_style=\"bars\", err_kws={\"capsize\": 4}, linewidth=1.5,\n",
    "             label=\"Average # of semantically distinct answers\")\n",
    "sns.lineplot(data=auroc_semantically_entropy_samples, x=\"n_samples\", y=\"auroc\", errorbar=\"pi\", estimator=\"mean\",\n",
    "             marker=\"o\", err_style=\"bars\", err_kws={\"capsize\": 4}, linewidth=1.5, label=\"Semantic Entropy\")\n",
    "\n",
    "plt.xlabel(\"#samples used to estimate entropy\")\n",
    "plt.ylabel(\"AUROC\")\n",
    "plt.xticks(range(1, 11))\n",
    "plt.tight_layout()\n",
    "plt.show()"
   ],
   "id": "d7a3dc1209dd2e08",
   "outputs": [
    {
     "data": {
      "text/plain": [
       "<Figure size 640x480 with 1 Axes>"
      ],
      "image/png": "[encoded data removed]"
     },
     "metadata": {},
     "output_type": "display_data"
    }
   ],
   "execution_count": 195
  },
  {
   "metadata": {},
   "cell_type": "markdown",
   "source": "Or like in the paper without the average number of semantically distinct answers and leaving out the error bounds to make it look more comprehensive:",
   "id": "56a40b5b942cfa24"
  },
  {
   "metadata": {
    "ExecuteTime": {
     "end_time": "2024-06-18T18:07:26.902245Z",
     "start_time": "2024-06-18T18:07:26.623709Z"
    }
   },
   "cell_type": "code",
   "source": [
    "plt.figure()\n",
    "sns.lineplot(data=auroc_pred_entropy_samples, x=\"n_samples\", y=\"auroc\", estimator=\"mean\", marker=\"o\", linewidth=1.5,\n",
    "             label=\"Predictive Entropy\", errorbar=None)\n",
    "sns.lineplot(data=auroc_length_normalized_entropy_samples, x=\"n_samples\", y=\"auroc\", errorbar=None, estimator=\"mean\",\n",
    "             marker=\"o\", linewidth=1.5,\n",
    "             label=\"Length-normalized predictive entropy\")\n",
    "sns.lineplot(data=auroc_semantically_entropy_samples, x=\"n_samples\", y=\"auroc\", errorbar=None, estimator=\"mean\",\n",
    "             marker=\"o\", linewidth=1.5, label=\"Semantic Entropy\")\n",
    "\n",
    "plt.xlabel(\"#samples used to estimate entropy\")\n",
    "plt.ylabel(\"AUROC\")\n",
    "plt.xticks(range(1, 11))\n",
    "plt.tight_layout()\n",
    "plt.show()"
   ],
   "id": "55c88fa1f00e14a5",
   "outputs": [
    {
     "data": {
      "text/plain": [
       "<Figure size 640x480 with 1 Axes>"
      ],
      "image/png": "[encoded data removed]"
     },
     "metadata": {},
     "output_type": "display_data"
    }
   ],
   "execution_count": 200
  },
  {
   "metadata": {},
   "cell_type": "markdown",
   "source": [
    "### Compare different accuracy metrics for the free-form QA\n",
    "Paper: page 17\n",
    "\n",
    "Used temperature 0.5 (multinomial sampling)"
   ],
   "id": "5363a2135bab6691"
  },
  {
   "metadata": {
    "ExecuteTime": {
     "end_time": "2024-06-18T18:47:37.915908Z",
     "start_time": "2024-06-18T18:47:37.902901Z"
    }
   },
   "cell_type": "code",
   "source": "compare_acc_metrics = pd.DataFrame(columns=[\"Metric\", \"AUROC Semantic Entropy\", \"AUROC Normalized Entropy\", \"Accuracy\"])\n",
   "id": "ac797288be8b6363",
   "outputs": [],
   "execution_count": 205
  },
  {
   "metadata": {
    "ExecuteTime": {
     "end_time": "2024-06-18T18:22:39.557979Z",
     "start_time": "2024-06-18T18:22:39.531952Z"
    }
   },
   "cell_type": "code",
   "source": "results_acc_metrics = results[[\"group\", \"rougel_0.3\", \"rougel_0.5\", \"rouge1_0.5\", \"entailment\", \"label_by_hand\", \"pred_entropy_temperature_0.5\", ]]",
   "id": "9d4f20a14aa7d563",
   "outputs": [
    {
     "data": {
      "text/plain": [
       "     question_id group rougel_0.3 rougel_0.5 rouge1_0.5 entailment  \\\n",
       "0          12261     0      False      False      False      False   \n",
       "1          12934     0      False      False      False      False   \n",
       "2          15472     0      False      False      False      False   \n",
       "3            253     0      False      False      False      False   \n",
       "4          13785     0      False      False      False      False   \n",
       "...          ...   ...        ...        ...        ...        ...   \n",
       "4995       15676     4      False      False      False      False   \n",
       "4996        1432     4      False      False      False      False   \n",
       "4997       11691     4       True      False      False      False   \n",
       "4998       10833     4       True       True       True       True   \n",
       "4999       16871     4      False      False      False      False   \n",
       "\n",
       "     label_by_hand pred_entropy_temperature_0.25 pred_entropy_temperature_0.5  \\\n",
       "0            False                      0.787262                     0.678638   \n",
       "1            False                      0.719115                     1.555566   \n",
       "2            False                          -0.0                     0.094343   \n",
       "3            False                          -0.0                     1.815461   \n",
       "4            False                      1.020136                     3.711187   \n",
       "...            ...                           ...                          ...   \n",
       "4995         False                      0.730172                     1.889874   \n",
       "4996         False                          -0.0                     0.809591   \n",
       "4997         False                          -0.0                         -0.0   \n",
       "4998          True                          -0.0                         -0.0   \n",
       "4999         False                      0.802603                       4.3021   \n",
       "\n",
       "     pred_entropy_temperature_1  ... n_semantically_distinct_temperature_0.25  \\\n",
       "0                      2.916345  ...                                        1   \n",
       "1                      5.286997  ...                                        3   \n",
       "2                      2.827992  ...                                        1   \n",
       "3                      8.920714  ...                                        1   \n",
       "4                      6.013853  ...                                        3   \n",
       "...                         ...  ...                                      ...   \n",
       "4995                   6.800092  ...                                        2   \n",
       "4996                   6.074966  ...                                        1   \n",
       "4997                   2.909188  ...                                        1   \n",
       "4998                   0.937312  ...                                        1   \n",
       "4999                   5.516015  ...                                        3   \n",
       "\n",
       "     n_semantically_distinct_temperature_0.5  \\\n",
       "0                                          1   \n",
       "1                                          4   \n",
       "2                                          1   \n",
       "3                                          3   \n",
       "4                                          5   \n",
       "...                                      ...   \n",
       "4995                                       2   \n",
       "4996                                       1   \n",
       "4997                                       1   \n",
       "4998                                       1   \n",
       "4999                                       8   \n",
       "\n",
       "     n_semantically_distinct_temperature_1  \\\n",
       "0                                        1   \n",
       "1                                        8   \n",
       "2                                        6   \n",
       "3                                        8   \n",
       "4                                        8   \n",
       "...                                    ...   \n",
       "4995                                    10   \n",
       "4996                                     6   \n",
       "4997                                     5   \n",
       "4998                                     2   \n",
       "4999                                     9   \n",
       "\n",
       "     n_semantically_distinct_temperature_1.5 n_semantically_distinct_beam_20  \\\n",
       "0                                          6                               6   \n",
       "1                                         10                               5   \n",
       "2                                          7                              10   \n",
       "3                                          9                               6   \n",
       "4                                         10                               7   \n",
       "...                                      ...                             ...   \n",
       "4995                                       9                               8   \n",
       "4996                                       9                               5   \n",
       "4997                                       8                               8   \n",
       "4998                                       6                               8   \n",
       "4999                                      10                               5   \n",
       "\n",
       "     sem_entropy_temperature_0.25 sem_entropy_temperature_0.5  \\\n",
       "0                             0.0                        -0.0   \n",
       "1                          1.4053                    2.014436   \n",
       "2                            -0.0                    0.094343   \n",
       "3                            -0.0                    2.043283   \n",
       "4                        1.708608                     4.08499   \n",
       "...                           ...                         ...   \n",
       "4995                      0.93559                    1.246758   \n",
       "4996                         -0.0                    0.182836   \n",
       "4997                         -0.0                        -0.0   \n",
       "4998                         -0.0                        -0.0   \n",
       "4999                      1.57687                     4.56864   \n",
       "\n",
       "     sem_entropy_temperature_1 sem_entropy_temperature_1.5 sem_entropy_beam_20  \n",
       "0                     0.402256                    22.13713           11.926092  \n",
       "1                     6.025461                   20.472071            4.580726  \n",
       "2                     4.155961                   18.636313            3.617069  \n",
       "3                    10.780203                   11.559571            4.808289  \n",
       "4                     6.667688                   10.542027            5.337102  \n",
       "...                        ...                         ...                 ...  \n",
       "4995                  6.800092                   18.252882            8.107785  \n",
       "4996                   8.25494                   19.096029            15.84294  \n",
       "4997                  5.141495                   12.975993           16.871106  \n",
       "4998                  1.552354                   11.134598           17.015387  \n",
       "4999                  5.700829                    9.382876           19.026886  \n",
       "\n",
       "[5000 rows x 27 columns]"
      ],
      "text/html": [
       "<div>\n",
       "<style scoped>\n",
       "    .dataframe tbody tr th:only-of-type {\n",
       "        vertical-align: middle;\n",
       "    }\n",
       "\n",
       "    .dataframe tbody tr th {\n",
       "        vertical-align: top;\n",
       "    }\n",
       "\n",
       "    .dataframe thead th {\n",
       "        text-align: right;\n",
       "    }\n",
       "</style>\n",
       "<table border=\"1\" class=\"dataframe\">\n",
       "  <thead>\n",
       "    <tr style=\"text-align: right;\">\n",
       "      <th></th>\n",
       "      <th>question_id</th>\n",
       "      <th>group</th>\n",
       "      <th>rougel_0.3</th>\n",
       "      <th>rougel_0.5</th>\n",
       "      <th>rouge1_0.5</th>\n",
       "      <th>entailment</th>\n",
       "      <th>label_by_hand</th>\n",
       "      <th>pred_entropy_temperature_0.25</th>\n",
       "      <th>pred_entropy_temperature_0.5</th>\n",
       "      <th>pred_entropy_temperature_1</th>\n",
       "      <th>...</th>\n",
       "      <th>n_semantically_distinct_temperature_0.25</th>\n",
       "      <th>n_semantically_distinct_temperature_0.5</th>\n",
       "      <th>n_semantically_distinct_temperature_1</th>\n",
       "      <th>n_semantically_distinct_temperature_1.5</th>\n",
       "      <th>n_semantically_distinct_beam_20</th>\n",
       "      <th>sem_entropy_temperature_0.25</th>\n",
       "      <th>sem_entropy_temperature_0.5</th>\n",
       "      <th>sem_entropy_temperature_1</th>\n",
       "      <th>sem_entropy_temperature_1.5</th>\n",
       "      <th>sem_entropy_beam_20</th>\n",
       "    </tr>\n",
       "  </thead>\n",
       "  <tbody>\n",
       "    <tr>\n",
       "      <th>0</th>\n",
       "      <td>12261</td>\n",
       "      <td>0</td>\n",
       "      <td>False</td>\n",
       "      <td>False</td>\n",
       "      <td>False</td>\n",
       "      <td>False</td>\n",
       "      <td>False</td>\n",
       "      <td>0.787262</td>\n",
       "      <td>0.678638</td>\n",
       "      <td>2.916345</td>\n",
       "      <td>...</td>\n",
       "      <td>1</td>\n",
       "      <td>1</td>\n",
       "      <td>1</td>\n",
       "      <td>6</td>\n",
       "      <td>6</td>\n",
       "      <td>0.0</td>\n",
       "      <td>-0.0</td>\n",
       "      <td>0.402256</td>\n",
       "      <td>22.13713</td>\n",
       "      <td>11.926092</td>\n",
       "    </tr>\n",
       "    <tr>\n",
       "      <th>1</th>\n",
       "      <td>12934</td>\n",
       "      <td>0</td>\n",
       "      <td>False</td>\n",
       "      <td>False</td>\n",
       "      <td>False</td>\n",
       "      <td>False</td>\n",
       "      <td>False</td>\n",
       "      <td>0.719115</td>\n",
       "      <td>1.555566</td>\n",
       "      <td>5.286997</td>\n",
       "      <td>...</td>\n",
       "      <td>3</td>\n",
       "      <td>4</td>\n",
       "      <td>8</td>\n",
       "      <td>10</td>\n",
       "      <td>5</td>\n",
       "      <td>1.4053</td>\n",
       "      <td>2.014436</td>\n",
       "      <td>6.025461</td>\n",
       "      <td>20.472071</td>\n",
       "      <td>4.580726</td>\n",
       "    </tr>\n",
       "    <tr>\n",
       "      <th>2</th>\n",
       "      <td>15472</td>\n",
       "      <td>0</td>\n",
       "      <td>False</td>\n",
       "      <td>False</td>\n",
       "      <td>False</td>\n",
       "      <td>False</td>\n",
       "      <td>False</td>\n",
       "      <td>-0.0</td>\n",
       "      <td>0.094343</td>\n",
       "      <td>2.827992</td>\n",
       "      <td>...</td>\n",
       "      <td>1</td>\n",
       "      <td>1</td>\n",
       "      <td>6</td>\n",
       "      <td>7</td>\n",
       "      <td>10</td>\n",
       "      <td>-0.0</td>\n",
       "      <td>0.094343</td>\n",
       "      <td>4.155961</td>\n",
       "      <td>18.636313</td>\n",
       "      <td>3.617069</td>\n",
       "    </tr>\n",
       "    <tr>\n",
       "      <th>3</th>\n",
       "      <td>253</td>\n",
       "      <td>0</td>\n",
       "      <td>False</td>\n",
       "      <td>False</td>\n",
       "      <td>False</td>\n",
       "      <td>False</td>\n",
       "      <td>False</td>\n",
       "      <td>-0.0</td>\n",
       "      <td>1.815461</td>\n",
       "      <td>8.920714</td>\n",
       "      <td>...</td>\n",
       "      <td>1</td>\n",
       "      <td>3</td>\n",
       "      <td>8</td>\n",
       "      <td>9</td>\n",
       "      <td>6</td>\n",
       "      <td>-0.0</td>\n",
       "      <td>2.043283</td>\n",
       "      <td>10.780203</td>\n",
       "      <td>11.559571</td>\n",
       "      <td>4.808289</td>\n",
       "    </tr>\n",
       "    <tr>\n",
       "      <th>4</th>\n",
       "      <td>13785</td>\n",
       "      <td>0</td>\n",
       "      <td>False</td>\n",
       "      <td>False</td>\n",
       "      <td>False</td>\n",
       "      <td>False</td>\n",
       "      <td>False</td>\n",
       "      <td>1.020136</td>\n",
       "      <td>3.711187</td>\n",
       "      <td>6.013853</td>\n",
       "      <td>...</td>\n",
       "      <td>3</td>\n",
       "      <td>5</td>\n",
       "      <td>8</td>\n",
       "      <td>10</td>\n",
       "      <td>7</td>\n",
       "      <td>1.708608</td>\n",
       "      <td>4.08499</td>\n",
       "      <td>6.667688</td>\n",
       "      <td>10.542027</td>\n",
       "      <td>5.337102</td>\n",
       "    </tr>\n",
       "    <tr>\n",
       "      <th>...</th>\n",
       "      <td>...</td>\n",
       "      <td>...</td>\n",
       "      <td>...</td>\n",
       "      <td>...</td>\n",
       "      <td>...</td>\n",
       "      <td>...</td>\n",
       "      <td>...</td>\n",
       "      <td>...</td>\n",
       "      <td>...</td>\n",
       "      <td>...</td>\n",
       "      <td>...</td>\n",
       "      <td>...</td>\n",
       "      <td>...</td>\n",
       "      <td>...</td>\n",
       "      <td>...</td>\n",
       "      <td>...</td>\n",
       "      <td>...</td>\n",
       "      <td>...</td>\n",
       "      <td>...</td>\n",
       "      <td>...</td>\n",
       "      <td>...</td>\n",
       "    </tr>\n",
       "    <tr>\n",
       "      <th>4995</th>\n",
       "      <td>15676</td>\n",
       "      <td>4</td>\n",
       "      <td>False</td>\n",
       "      <td>False</td>\n",
       "      <td>False</td>\n",
       "      <td>False</td>\n",
       "      <td>False</td>\n",
       "      <td>0.730172</td>\n",
       "      <td>1.889874</td>\n",
       "      <td>6.800092</td>\n",
       "      <td>...</td>\n",
       "      <td>2</td>\n",
       "      <td>2</td>\n",
       "      <td>10</td>\n",
       "      <td>9</td>\n",
       "      <td>8</td>\n",
       "      <td>0.93559</td>\n",
       "      <td>1.246758</td>\n",
       "      <td>6.800092</td>\n",
       "      <td>18.252882</td>\n",
       "      <td>8.107785</td>\n",
       "    </tr>\n",
       "    <tr>\n",
       "      <th>4996</th>\n",
       "      <td>1432</td>\n",
       "      <td>4</td>\n",
       "      <td>False</td>\n",
       "      <td>False</td>\n",
       "      <td>False</td>\n",
       "      <td>False</td>\n",
       "      <td>False</td>\n",
       "      <td>-0.0</td>\n",
       "      <td>0.809591</td>\n",
       "      <td>6.074966</td>\n",
       "      <td>...</td>\n",
       "      <td>1</td>\n",
       "      <td>1</td>\n",
       "      <td>6</td>\n",
       "      <td>9</td>\n",
       "      <td>5</td>\n",
       "      <td>-0.0</td>\n",
       "      <td>0.182836</td>\n",
       "      <td>8.25494</td>\n",
       "      <td>19.096029</td>\n",
       "      <td>15.84294</td>\n",
       "    </tr>\n",
       "    <tr>\n",
       "      <th>4997</th>\n",
       "      <td>11691</td>\n",
       "      <td>4</td>\n",
       "      <td>True</td>\n",
       "      <td>False</td>\n",
       "      <td>False</td>\n",
       "      <td>False</td>\n",
       "      <td>False</td>\n",
       "      <td>-0.0</td>\n",
       "      <td>-0.0</td>\n",
       "      <td>2.909188</td>\n",
       "      <td>...</td>\n",
       "      <td>1</td>\n",
       "      <td>1</td>\n",
       "      <td>5</td>\n",
       "      <td>8</td>\n",
       "      <td>8</td>\n",
       "      <td>-0.0</td>\n",
       "      <td>-0.0</td>\n",
       "      <td>5.141495</td>\n",
       "      <td>12.975993</td>\n",
       "      <td>16.871106</td>\n",
       "    </tr>\n",
       "    <tr>\n",
       "      <th>4998</th>\n",
       "      <td>10833</td>\n",
       "      <td>4</td>\n",
       "      <td>True</td>\n",
       "      <td>True</td>\n",
       "      <td>True</td>\n",
       "      <td>True</td>\n",
       "      <td>True</td>\n",
       "      <td>-0.0</td>\n",
       "      <td>-0.0</td>\n",
       "      <td>0.937312</td>\n",
       "      <td>...</td>\n",
       "      <td>1</td>\n",
       "      <td>1</td>\n",
       "      <td>2</td>\n",
       "      <td>6</td>\n",
       "      <td>8</td>\n",
       "      <td>-0.0</td>\n",
       "      <td>-0.0</td>\n",
       "      <td>1.552354</td>\n",
       "      <td>11.134598</td>\n",
       "      <td>17.015387</td>\n",
       "    </tr>\n",
       "    <tr>\n",
       "      <th>4999</th>\n",
       "      <td>16871</td>\n",
       "      <td>4</td>\n",
       "      <td>False</td>\n",
       "      <td>False</td>\n",
       "      <td>False</td>\n",
       "      <td>False</td>\n",
       "      <td>False</td>\n",
       "      <td>0.802603</td>\n",
       "      <td>4.3021</td>\n",
       "      <td>5.516015</td>\n",
       "      <td>...</td>\n",
       "      <td>3</td>\n",
       "      <td>8</td>\n",
       "      <td>9</td>\n",
       "      <td>10</td>\n",
       "      <td>5</td>\n",
       "      <td>1.57687</td>\n",
       "      <td>4.56864</td>\n",
       "      <td>5.700829</td>\n",
       "      <td>9.382876</td>\n",
       "      <td>19.026886</td>\n",
       "    </tr>\n",
       "  </tbody>\n",
       "</table>\n",
       "<p>5000 rows × 27 columns</p>\n",
       "</div>"
      ]
     },
     "execution_count": 201,
     "metadata": {},
     "output_type": "execute_result"
    }
   ],
   "execution_count": 201
  },
  {
   "metadata": {
    "ExecuteTime": {
     "end_time": "2024-06-18T18:47:40.241943Z",
     "start_time": "2024-06-18T18:47:40.224941Z"
    }
   },
   "cell_type": "code",
   "source": [
    "row0 = {\"Metric\": \"ROUGE-L(y, y') > 0.3\", \"AUROC Semantic Entropy\": None, \"AUROC Normalized Entropy\": None, \"Accuracy\": None}\n",
    "row1 = {\"Metric\": \"ROUGE-L(y, y') > 0.5\", \"AUROC Semantic Entropy\": None, \"AUROC Normalized Entropy\": None, \"Accuracy\": None}\n",
    "row2 = {\"Metric\": \"ROUGE-1(y, y') > 0.5\", \"AUROC Semantic Entropy\": None, \"AUROC Normalized Entropy\": None, \"Accuracy\": None}\n",
    "row3 = {\"Metric\": \"Bidirectional Entailment\", \"AUROC Semantic Entropy\": None, \"AUROC Normalized Entropy\": None, \"Accuracy\": None}\n",
    "row4 = {\"Metric\": \"Label manually\", \"AUROC Semantic Entropy\": None, \"AUROC Normalized Entropy\": None, \"Accuracy\": None}\n",
    "rows = [row0, row1, row2, row3, row4]\n",
    "\n",
    "compare_acc_metrics = pd.concat([compare_acc_metrics, pd.DataFrame(rows)], ignore_index=True)\n",
    "\n",
    "compare_acc_metrics"
   ],
   "id": "328940a58004fbd1",
   "outputs": [
    {
     "data": {
      "text/plain": [
       "                     Metric AUROC Semantic Entropy AUROC Normalized Entropy  \\\n",
       "0      ROUGE-L(y, y') > 0.3                   None                     None   \n",
       "1      ROUGE-L(y, y') > 0.5                   None                     None   \n",
       "2      ROUGE-1(y, y') > 0.5                   None                     None   \n",
       "3  Bidirectional Entailment                   None                     None   \n",
       "4            Label manually                   None                     None   \n",
       "\n",
       "  Accuracy  \n",
       "0     None  \n",
       "1     None  \n",
       "2     None  \n",
       "3     None  \n",
       "4     None  "
      ],
      "text/html": [
       "<div>\n",
       "<style scoped>\n",
       "    .dataframe tbody tr th:only-of-type {\n",
       "        vertical-align: middle;\n",
       "    }\n",
       "\n",
       "    .dataframe tbody tr th {\n",
       "        vertical-align: top;\n",
       "    }\n",
       "\n",
       "    .dataframe thead th {\n",
       "        text-align: right;\n",
       "    }\n",
       "</style>\n",
       "<table border=\"1\" class=\"dataframe\">\n",
       "  <thead>\n",
       "    <tr style=\"text-align: right;\">\n",
       "      <th></th>\n",
       "      <th>Metric</th>\n",
       "      <th>AUROC Semantic Entropy</th>\n",
       "      <th>AUROC Normalized Entropy</th>\n",
       "      <th>Accuracy</th>\n",
       "    </tr>\n",
       "  </thead>\n",
       "  <tbody>\n",
       "    <tr>\n",
       "      <th>0</th>\n",
       "      <td>ROUGE-L(y, y') &gt; 0.3</td>\n",
       "      <td>None</td>\n",
       "      <td>None</td>\n",
       "      <td>None</td>\n",
       "    </tr>\n",
       "    <tr>\n",
       "      <th>1</th>\n",
       "      <td>ROUGE-L(y, y') &gt; 0.5</td>\n",
       "      <td>None</td>\n",
       "      <td>None</td>\n",
       "      <td>None</td>\n",
       "    </tr>\n",
       "    <tr>\n",
       "      <th>2</th>\n",
       "      <td>ROUGE-1(y, y') &gt; 0.5</td>\n",
       "      <td>None</td>\n",
       "      <td>None</td>\n",
       "      <td>None</td>\n",
       "    </tr>\n",
       "    <tr>\n",
       "      <th>3</th>\n",
       "      <td>Bidirectional Entailment</td>\n",
       "      <td>None</td>\n",
       "      <td>None</td>\n",
       "      <td>None</td>\n",
       "    </tr>\n",
       "    <tr>\n",
       "      <th>4</th>\n",
       "      <td>Label manually</td>\n",
       "      <td>None</td>\n",
       "      <td>None</td>\n",
       "      <td>None</td>\n",
       "    </tr>\n",
       "  </tbody>\n",
       "</table>\n",
       "</div>"
      ]
     },
     "execution_count": 206,
     "metadata": {},
     "output_type": "execute_result"
    }
   ],
   "execution_count": 206
  },
  {
   "metadata": {},
   "cell_type": "code",
   "outputs": [],
   "execution_count": null,
   "source": "",
   "id": "b5f38d1cd1fefe74"
  }
 ],
 "metadata": {
  "kernelspec": {
   "display_name": "Python 3",
   "language": "python",
   "name": "python3"
  },
  "language_info": {
   "codemirror_mode": {
    "name": "ipython",
    "version": 2
   },
   "file_extension": ".py",
   "mimetype": "text/x-python",
   "name": "python",
   "nbconvert_exporter": "python",
   "pygments_lexer": "ipython2",
   "version": "2.7.6"
  }
 },
 "nbformat": 4,
 "nbformat_minor": 5
}
