{
 "cells": [
  {
   "metadata": {},
   "cell_type": "markdown",
   "source": [
    "# Evaulate uncertainty measure\n",
    "- To evaluate different uncertainty measure, use AUROC. \n",
    "- Uncertainty measure expected to be higher for incorrect answers and lower for correct answers. As we want to show the relationship incorrect answer -> High uncertainty, incorrect answers are encoded with label 1, correct answers with label 0 \n",
    "- Compute AUROC score for each uncertainty measure with sklearn.metrics.roc_auc_score([0, 0, 0, 1, 1, 0, ...], [semantic entropy scores of the answers])\n",
    "\n",
    "\n",
    "Page 17: They compare Rouge-L > 0.3, Rouge-L > 0.5, exact matching, semantic matching \n"
   ],
   "id": "29c486761075e36e"
  },
  {
   "metadata": {},
   "cell_type": "markdown",
   "source": [
    "## Predictive Entropy\n",
    "\n",
    "The predictive entropy is defined as:\n",
    "$$PE(x) = H[p(y \\mid x)] = - \\sum_{y} p(y \\mid x) \\ln p(y \\mid x)$$\n",
    "\n",
    "Since this is the expected value of $\\ln p(y \\mid x)$, Monte Carlo sampling approximates it by averaging log-probabilities from sampled outcomes. Thus, the Monte Carlo estimator is:\n",
    "$$PE(x) \\approx - \\frac{1}{n}  \\sum_{i = 1}^{n} \\ln p(y_i \\mid x)$$ where $n$ is the number of sampled answers for the question $x$."
   ],
   "id": "9ba879e09bf27a93"
  },
  {
   "cell_type": "code",
   "execution_count": null,
   "id": "initial_id",
   "metadata": {
    "collapsed": true
   },
   "outputs": [],
   "source": [
    ""
   ]
  },
  {
   "metadata": {},
   "cell_type": "markdown",
   "source": "## Number of semantically distinct answers",
   "id": "755ebd5ab90b8e04"
  },
  {
   "metadata": {},
   "cell_type": "code",
   "outputs": [],
   "execution_count": null,
   "source": "",
   "id": "e3d189ea8bff3ee0"
  },
  {
   "metadata": {},
   "cell_type": "markdown",
   "source": "## Semantic Entropy",
   "id": "3c829e3fa022a789"
  },
  {
   "metadata": {},
   "cell_type": "code",
   "outputs": [],
   "execution_count": null,
   "source": "",
   "id": "5c1a62ea906946e5"
  },
  {
   "metadata": {},
   "cell_type": "markdown",
   "source": [
    "## Plots\n",
    "- Bar plot: x-axis Semantic entropy, normalised entropy, entropy; y-axis: AUROC (page 2)\n",
    "- "
   ],
   "id": "2050a3b6c87b5977"
  }
 ],
 "metadata": {
  "kernelspec": {
   "display_name": "Python 3",
   "language": "python",
   "name": "python3"
  },
  "language_info": {
   "codemirror_mode": {
    "name": "ipython",
    "version": 2
   },
   "file_extension": ".py",
   "mimetype": "text/x-python",
   "name": "python",
   "nbconvert_exporter": "python",
   "pygments_lexer": "ipython2",
   "version": "2.7.6"
  }
 },
 "nbformat": 4,
 "nbformat_minor": 5
}
