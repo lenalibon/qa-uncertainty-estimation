{
 "cells": [
  {
   "metadata": {},
   "cell_type": "markdown",
   "source": [
    "# Evaulate uncertainty measure\n",
    "- To evaluate different uncertainty measure, use AUROC. \n",
    "- Uncertainty measure expected to be higher for incorrect answers and lower for correct answers. As we want to show the relationship incorrect answer -> High uncertainty, incorrect answers are encoded with label 1, correct answers with label 0 \n",
    "- Compute AUROC score for each uncertainty measure with sklearn.metrics.roc_auc_score([0, 0, 0, 1, 1, 0, ...], [semantic entropy scores of the answers])\n",
    "\n"
   ],
   "id": "29c486761075e36e"
  },
  {
   "metadata": {
    "ExecuteTime": {
     "end_time": "2024-06-16T19:34:35.609508Z",
     "start_time": "2024-06-16T19:34:35.588427Z"
    }
   },
   "cell_type": "code",
   "source": [
    "import numpy as np\n",
    "import yaml\n",
    "import glob\n",
    "import pickle\n",
    "import pandas as pd\n",
    "import os\n",
    "from sklearn.metrics import roc_auc_score\n",
    "import seaborn as sns\n",
    "import matplotlib.pyplot as plt\n",
    "import warnings\n",
    "\n",
    "warnings.simplefilter(action='ignore', category=FutureWarning)\n",
    "\n",
    "with open(\"config.yaml\", \"r\") as f:\n",
    "    config = yaml.safe_load(f)"
   ],
   "id": "98f78f76fad19b6a",
   "outputs": [],
   "execution_count": 83
  },
  {
   "metadata": {
    "ExecuteTime": {
     "end_time": "2024-06-15T17:16:37.773457Z",
     "start_time": "2024-06-15T17:16:37.758443Z"
    }
   },
   "cell_type": "code",
   "source": [
    "def load_pickle_files(folder):\n",
    "    data_groups = []\n",
    "    pickle_files = glob.glob(f\"{folder}/group*.pkl\")\n",
    "    for pickle_file in pickle_files:\n",
    "        with open(pickle_file, \"rb\") as f:\n",
    "            data_groups.append(pickle.load(f))\n",
    "\n",
    "    return data_groups"
   ],
   "id": "875b17d3b889fcb1",
   "outputs": [],
   "execution_count": 2
  },
  {
   "metadata": {
    "ExecuteTime": {
     "end_time": "2024-06-15T17:16:38.661334Z",
     "start_time": "2024-06-15T17:16:38.490743Z"
    }
   },
   "cell_type": "code",
   "source": [
    "save_path = config[\"path_to_saved_generations\"]\n",
    "data_groups = load_pickle_files(save_path)\n",
    "keys_data = [f\"temperature_{temp}\" for temp in config[\"temperatures\"]] + [f\"beam_{beam}\" for beam in config[\"n_beams\"]]"
   ],
   "id": "cafc0a497c6212d2",
   "outputs": [],
   "execution_count": 3
  },
  {
   "metadata": {},
   "cell_type": "markdown",
   "source": "## Save results",
   "id": "8aaa263579425297"
  },
  {
   "metadata": {
    "ExecuteTime": {
     "end_time": "2024-06-15T17:16:39.879139Z",
     "start_time": "2024-06-15T17:16:39.862155Z"
    }
   },
   "cell_type": "code",
   "source": [
    "general_columns = [\"question_id\", \"group\"]\n",
    "correct_columns = [\"rougel_0.3\", \"rougel_0.5\", \"rouge1_0.5\", \"entailment\", \"label_by_hand\"]\n",
    "predictive_entropy_columns = [f\"pred_entropy_temperature_{s}\" for s in config[\"temperatures\"]] + [\n",
    "    f\"pred_entropy_beam_{s}\" for s in config[\"n_beams\"]]\n",
    "length_normalized_entropy_columns = [f\"length_normalized_pred_entropy_temperature_{s}\" for s in\n",
    "                                     config[\"temperatures\"]] + [\n",
    "                                        f\"length_normalized_pred_entropy_beam_{s}\" for s in config[\"n_beams\"]]\n",
    "n_semantically_distinct_columns = [f\"n_semantically_distinct_temperature_{s}\" for s in config[\"temperatures\"]] + [\n",
    "    f\"n_semantically_distinct_beam_{s}\" for s in config[\"n_beams\"]]\n",
    "semantic_entropy_columns = [f\"sem_entropy_temperature_{s}\" for s in config[\"temperatures\"]] + [\n",
    "    f\"sem_entropy_beam_{s}\" for s in config[\"n_beams\"]]\n",
    "\n",
    "results = pd.DataFrame(\n",
    "    columns=general_columns + correct_columns + predictive_entropy_columns + length_normalized_entropy_columns + n_semantically_distinct_columns + semantic_entropy_columns)"
   ],
   "id": "1401ba857af09627",
   "outputs": [],
   "execution_count": 4
  },
  {
   "metadata": {
    "ExecuteTime": {
     "end_time": "2024-06-15T17:20:45.368059Z",
     "start_time": "2024-06-15T17:16:45.402602Z"
    }
   },
   "cell_type": "code",
   "source": [
    "data_groups = load_pickle_files(save_path)\n",
    "\n",
    "for group_nr, group_info in enumerate(data_groups):\n",
    "    for question_idx in group_info.keys():\n",
    "        new_row = {\"question_id\": question_idx, \"group\": group_nr}\n",
    "        results = pd.concat([results, pd.DataFrame([new_row])], ignore_index=True)"
   ],
   "id": "6032d4dfde013a05",
   "outputs": [],
   "execution_count": 5
  },
  {
   "metadata": {
    "ExecuteTime": {
     "end_time": "2024-06-15T17:22:31.310066Z",
     "start_time": "2024-06-15T17:22:31.265940Z"
    }
   },
   "cell_type": "code",
   "source": [
    "# Store it for now\n",
    "results.to_csv(os.path.join(save_path, \"results.csv\"), index=False)"
   ],
   "id": "102c405292699b5b",
   "outputs": [],
   "execution_count": 8
  },
  {
   "metadata": {
    "ExecuteTime": {
     "end_time": "2024-06-15T17:44:43.173595Z",
     "start_time": "2024-06-15T17:44:29.788542Z"
    }
   },
   "cell_type": "code",
   "source": [
    "# Fill in correct_columns\n",
    "with open(os.path.join(save_path, \"greedy_answers.pkl\"), \"rb\") as f:\n",
    "    greedy_answers = pickle.load(f)\n",
    "\n",
    "for question_idx, info in greedy_answers.items():\n",
    "    results.loc[results[\"question_id\"] == question_idx, \"rougel_0.3\"] = info[\"rouge_l_score\"] > 0.3\n",
    "    results.loc[results[\"question_id\"] == question_idx, \"rougel_0.5\"] = info[\"rouge_l_score\"] > 0.5\n",
    "    results.loc[results[\"question_id\"] == question_idx, \"rouge1_0.5\"] = info[\"rouge_1_score\"] > 0.5\n",
    "    results.loc[results[\"question_id\"] == question_idx, \"entailment\"] = info[\"result_entail\"]\n",
    "    results.loc[results[\"question_id\"] == question_idx, \"label_by_hand\"] = info[\"label_by_hand\"]"
   ],
   "id": "e96cf617c1b67dca",
   "outputs": [],
   "execution_count": 14
  },
  {
   "metadata": {
    "ExecuteTime": {
     "end_time": "2024-06-15T17:44:50.850353Z",
     "start_time": "2024-06-15T17:44:50.818359Z"
    }
   },
   "cell_type": "code",
   "source": [
    "# Store it for now\n",
    "results.to_csv(os.path.join(save_path, \"results.csv\"), index=False)"
   ],
   "id": "cd95cdcd232dfe4d",
   "outputs": [],
   "execution_count": 15
  },
  {
   "metadata": {},
   "cell_type": "markdown",
   "source": [
    "## Predictive Entropy\n",
    "\n",
    "The predictive entropy is defined as:\n",
    "$$PE(x) = H[p(s \\mid x)] = - \\sum_{s} p(s \\mid x) \\ln p(s \\mid x)$$\n",
    "\n",
    "Since this is the expected value of $\\ln p(s \\mid x)$, Monte Carlo sampling approximates it by averaging log-probabilities from sampled outcomes. Thus, the Monte Carlo estimator is:\n",
    "$$PE(x) \\approx - \\frac{1}{n}  \\sum_{i = 1}^{n} \\ln p(s_i \\mid x)$$ where $n$ is the number of sampled answers for the question $x$."
   ],
   "id": "9ba879e09bf27a93"
  },
  {
   "cell_type": "code",
   "id": "initial_id",
   "metadata": {
    "collapsed": true,
    "ExecuteTime": {
     "end_time": "2024-06-15T20:53:11.068927Z",
     "start_time": "2024-06-15T20:53:11.049926Z"
    }
   },
   "source": [
    "def predictive_entropy(probabilities):\n",
    "    return -1 / len(probabilities) * np.sum(np.log(probabilities))"
   ],
   "outputs": [],
   "execution_count": 27
  },
  {
   "metadata": {
    "ExecuteTime": {
     "end_time": "2024-06-15T20:53:35.917619Z",
     "start_time": "2024-06-15T20:53:11.882295Z"
    }
   },
   "cell_type": "code",
   "source": [
    "data_groups = load_pickle_files(save_path)\n",
    "for group_nr, group_info in enumerate(data_groups):\n",
    "    for question_idx in group_info.keys():\n",
    "        for key in keys_data:\n",
    "            key_string = f\"pred_entropy_{key}\"\n",
    "            probabilities = group_info[question_idx][key][\"probabilities\"]\n",
    "            results.loc[\n",
    "                (results[\"question_id\"] == question_idx) & (\n",
    "                        results[\"group\"] == group_nr), key_string] = predictive_entropy(\n",
    "                probabilities)"
   ],
   "id": "5cfaa1845b0d6a2d",
   "outputs": [],
   "execution_count": 28
  },
  {
   "metadata": {
    "ExecuteTime": {
     "end_time": "2024-06-15T20:55:31.396885Z",
     "start_time": "2024-06-15T20:55:31.343327Z"
    }
   },
   "cell_type": "code",
   "source": "results.to_csv(os.path.join(save_path, \"results.csv\"), index=False)",
   "id": "4b7731c49f1de79a",
   "outputs": [],
   "execution_count": 32
  },
  {
   "metadata": {},
   "cell_type": "markdown",
   "source": [
    "## Length-normalized predictive entropy\n",
    "Paper (page 8): \"Length-normalised predictive entropy divides the joint log-probability of each sequence by the length of the sequence\""
   ],
   "id": "73b6ff75d925ac5f"
  },
  {
   "metadata": {
    "ExecuteTime": {
     "end_time": "2024-06-16T09:32:28.456581Z",
     "start_time": "2024-06-16T09:32:28.441561Z"
    }
   },
   "cell_type": "code",
   "source": [
    "def length_normalized_predictive_entropy(probabilities, sequence_length):\n",
    "    return -1 / len(probabilities) * np.sum(np.log(probabilities) / sequence_length)"
   ],
   "id": "2f881f2f180676",
   "outputs": [],
   "execution_count": 53
  },
  {
   "metadata": {
    "ExecuteTime": {
     "end_time": "2024-06-16T09:33:02.582603Z",
     "start_time": "2024-06-16T09:32:38.576462Z"
    }
   },
   "cell_type": "code",
   "source": [
    "data_groups = load_pickle_files(save_path)\n",
    "for group_nr, group_info in enumerate(data_groups):\n",
    "    for question_idx in group_info.keys():\n",
    "        for key in keys_data:\n",
    "            key_string = f\"length_normalized_pred_entropy_{key}\"\n",
    "            probabilities = group_info[question_idx][key][\"probabilities\"]\n",
    "            length_sequences = group_info[question_idx][key][\"length_sequences\"]\n",
    "            results.loc[\n",
    "                (results[\"question_id\"] == question_idx) & (\n",
    "                        results[\"group\"] == group_nr), key_string] = length_normalized_predictive_entropy(\n",
    "                probabilities, length_sequences)"
   ],
   "id": "442b412f03a79e42",
   "outputs": [],
   "execution_count": 54
  },
  {
   "metadata": {
    "ExecuteTime": {
     "end_time": "2024-06-16T09:34:49.601381Z",
     "start_time": "2024-06-16T09:34:49.525732Z"
    }
   },
   "cell_type": "code",
   "source": "results.to_csv(os.path.join(save_path, \"results.csv\"), index=False)",
   "id": "253374903535562a",
   "outputs": [],
   "execution_count": 56
  },
  {
   "metadata": {},
   "cell_type": "markdown",
   "source": "## Number of semantically distinct answers",
   "id": "755ebd5ab90b8e04"
  },
  {
   "metadata": {
    "ExecuteTime": {
     "end_time": "2024-06-16T11:33:05.913406Z",
     "start_time": "2024-06-16T11:32:41.168132Z"
    }
   },
   "cell_type": "code",
   "source": [
    "data_groups = load_pickle_files(save_path)\n",
    "for group_nr, group_info in enumerate(data_groups):\n",
    "    for question_idx in group_info.keys():\n",
    "        for key in keys_data:\n",
    "            key_string = f\"n_semantically_distinct_{key}\"\n",
    "            sem_eq_groups = group_info[question_idx][key][\"semantic_eq_groups\"]\n",
    "            results.loc[\n",
    "                (results[\"question_id\"] == question_idx) & (\n",
    "                        results[\"group\"] == group_nr), key_string] = len(set(sem_eq_groups))"
   ],
   "id": "e3d189ea8bff3ee0",
   "outputs": [],
   "execution_count": 58
  },
  {
   "metadata": {
    "ExecuteTime": {
     "end_time": "2024-06-16T11:36:50.323846Z",
     "start_time": "2024-06-16T11:36:50.201661Z"
    }
   },
   "cell_type": "code",
   "source": "results.to_csv(os.path.join(save_path, \"results.csv\"), index=False)",
   "id": "9518f629a483f5c",
   "outputs": [],
   "execution_count": 60
  },
  {
   "metadata": {},
   "cell_type": "markdown",
   "source": [
    "## Semantic Entropy\n",
    "\n",
    "The semantic entropy is defined as (see equation 3):\n",
    "$$SE(x) = - \\sum_{c} p(c \\mid x) \\ln p(c \\mid x) = -\\sum_{c} \\left( \\left( \\sum_{s \\in c} p(s \\mid x) \\right) \\log \\left( \\sum_{s \\in c} p(s \\mid x) \\right) \\right)$$\n",
    "\n",
    "where c stand for the semantic equivalence classes. By sampling from the possible semantic equivalence classes, the Monte Carlo estimator is given by:\n",
    "$$SE(x) \\approx - \\frac{1}{n}  \\sum_{i = 1}^{n} \\ln p(c_i \\mid x)$$ where $n$ is the number of sampled semantic equivalence classes for the question $x$."
   ],
   "id": "3c829e3fa022a789"
  },
  {
   "metadata": {
    "ExecuteTime": {
     "end_time": "2024-06-16T13:10:12.905863Z",
     "start_time": "2024-06-16T13:10:12.893864Z"
    }
   },
   "cell_type": "code",
   "source": [
    "def semantic_entropy(probabilities, lexical_eq_classes, semantic_eq_classes):\n",
    "    prob_sem_class = np.zeros(len(set(semantic_eq_classes)))\n",
    "    lexical_contained = {sem_class: set() for sem_class in set(semantic_eq_classes)}\n",
    "\n",
    "    for i in range(len(probabilities)):\n",
    "        sem_class = semantic_eq_classes[i]\n",
    "        lex_class = lexical_eq_classes[i]\n",
    "        if lex_class not in lexical_contained[sem_class]:\n",
    "            prob_sem_class[sem_class] += probabilities[i]\n",
    "            lexical_contained[sem_class].add(lex_class)\n",
    "\n",
    "    return -1 / len(prob_sem_class) * np.sum(np.log(prob_sem_class))"
   ],
   "id": "1011b74181cbb023",
   "outputs": [],
   "execution_count": 63
  },
  {
   "metadata": {
    "ExecuteTime": {
     "end_time": "2024-06-16T13:15:03.488608Z",
     "start_time": "2024-06-16T13:14:40.431807Z"
    }
   },
   "cell_type": "code",
   "source": [
    "data_groups = load_pickle_files(save_path)\n",
    "for group_nr, group_info in enumerate(data_groups):\n",
    "    for question_idx in group_info.keys():\n",
    "        for key in keys_data:\n",
    "            key_string = f\"sem_entropy_{key}\"\n",
    "            probabilities = group_info[question_idx][key][\"probabilities\"]\n",
    "            lexical_eq_classes = group_info[question_idx][key][\"lexical_eq_groups\"]\n",
    "            sem_eq_classes = group_info[question_idx][key][\"semantic_eq_groups\"]\n",
    "            results.loc[\n",
    "                (results[\"question_id\"] == question_idx) & (\n",
    "                        results[\"group\"] == group_nr), key_string] = semantic_entropy(probabilities, lexical_eq_classes,\n",
    "                                                                                      sem_eq_classes)"
   ],
   "id": "5c1a62ea906946e5",
   "outputs": [],
   "execution_count": 65
  },
  {
   "metadata": {
    "ExecuteTime": {
     "end_time": "2024-06-16T13:20:17.756782Z",
     "start_time": "2024-06-16T13:20:17.659883Z"
    }
   },
   "cell_type": "code",
   "source": "results.to_csv(os.path.join(save_path, \"results.csv\"), index=False)",
   "id": "e1ec6464c5393d8e",
   "outputs": [],
   "execution_count": 67
  },
  {
   "metadata": {},
   "cell_type": "markdown",
   "source": [
    "## Compute AUROC\n",
    "### Compare AUROC value for different temperature scores and uncertainty measures\n",
    "Paper: Figure 3 (b); Use label_by_hand to label answers as correct/false."
   ],
   "id": "3414dca290c63cf8"
  },
  {
   "metadata": {
    "ExecuteTime": {
     "end_time": "2024-06-16T15:52:33.551081Z",
     "start_time": "2024-06-16T15:52:33.476188Z"
    }
   },
   "cell_type": "code",
   "source": [
    "auroc_pred_entropy = {k: [] for k in keys_data}\n",
    "auroc_length_normalized_entropy = {k: [] for k in keys_data}\n",
    "auroc_n_semantically_distrinct = {k: [] for k in keys_data}\n",
    "auroc_semantically_entropy = {k: [] for k in keys_data}"
   ],
   "id": "4b0515836958e3be",
   "outputs": [],
   "execution_count": 68
  },
  {
   "metadata": {
    "ExecuteTime": {
     "end_time": "2024-06-16T17:41:03.288221Z",
     "start_time": "2024-06-16T17:41:03.036666Z"
    }
   },
   "cell_type": "code",
   "source": [
    "for group_nr in range(len(data_groups)):\n",
    "    label_correct = results.loc[results[\"group\"] == group_nr, \"label_by_hand\"].astype(bool)\n",
    "    for k in keys_data:\n",
    "        pred_entropy = results.loc[results[\"group\"] == group_nr, f\"pred_entropy_{k}\"]\n",
    "        length_normalized_pred_entropy = results.loc[\n",
    "            results[\"group\"] == group_nr, f\"length_normalized_pred_entropy_{k}\"]\n",
    "        n_semantically_distinct = results.loc[results[\"group\"] == group_nr, f\"n_semantically_distinct_{k}\"]\n",
    "        sem_entropy = results.loc[results[\"group\"] == group_nr, f\"sem_entropy_{k}\"]\n",
    "\n",
    "        auroc_pred_entropy[k].append(roc_auc_score(~label_correct, pred_entropy))\n",
    "        auroc_length_normalized_entropy[k].append(roc_auc_score(~label_correct, length_normalized_pred_entropy))\n",
    "        auroc_n_semantically_distrinct[k].append(roc_auc_score(~label_correct, n_semantically_distinct))\n",
    "        auroc_semantically_entropy[k].append(roc_auc_score(~label_correct, sem_entropy))"
   ],
   "id": "924f739c1f7c7720",
   "outputs": [],
   "execution_count": 72
  },
  {
   "metadata": {
    "ExecuteTime": {
     "end_time": "2024-06-16T18:23:35.386105Z",
     "start_time": "2024-06-16T18:23:35.373593Z"
    }
   },
   "cell_type": "code",
   "source": [
    "# Preprocessing\n",
    "def convert_to_df(dictionary_auroc):\n",
    "    temp = pd.DataFrame(dictionary_auroc, index=pd.Index([f\"group_{i}\" for i in range(len(data_groups))], name=\"group\"))\n",
    "    temp.reset_index(inplace=True)\n",
    "    return temp\n",
    "\n",
    "\n",
    "auroc_pred_entropy = convert_to_df(auroc_pred_entropy)\n",
    "auroc_length_normalized_entropy = convert_to_df(auroc_length_normalized_entropy)\n",
    "auroc_n_semantically_distrinct = convert_to_df(auroc_n_semantically_distrinct)\n",
    "auroc_semantically_entropy = convert_to_df(auroc_semantically_entropy)"
   ],
   "id": "1e09f2992ba88c98",
   "outputs": [],
   "execution_count": 79
  },
  {
   "metadata": {
    "ExecuteTime": {
     "end_time": "2024-06-16T19:31:27.362666Z",
     "start_time": "2024-06-16T19:31:27.332667Z"
    }
   },
   "cell_type": "code",
   "source": [
    "# Plot temperature\n",
    "def preprocess_df_temperature(df):\n",
    "    df_new = df.drop(columns=df.filter(like=\"beam_\").columns)\n",
    "    df_new = pd.melt(df_new, id_vars=[\"group\"], value_name=\"auroc\", var_name=\"temperature\")\n",
    "    df_new[\"group\"] = df_new[\"group\"].str.replace(\"group_\", \"\").astype(int)\n",
    "    df_new[\"temperature\"] = df_new[\"temperature\"].str.replace(\"temperature_\", \"\").astype(float)\n",
    "    return df_new\n",
    "\n",
    "\n",
    "auroc_pred_entropy_temp = preprocess_df_temperature(auroc_pred_entropy)\n",
    "auroc_length_normalized_entropy_temp = preprocess_df_temperature(auroc_length_normalized_entropy)\n",
    "auroc_n_semantically_distrinct_temp = preprocess_df_temperature(auroc_n_semantically_distrinct)\n",
    "auroc_semantically_entropy_temp = preprocess_df_temperature(auroc_semantically_entropy)"
   ],
   "id": "37c0b8af1b6107d0",
   "outputs": [],
   "execution_count": 81
  },
  {
   "metadata": {
    "ExecuteTime": {
     "end_time": "2024-06-16T19:37:34.088050Z",
     "start_time": "2024-06-16T19:37:33.799658Z"
    }
   },
   "cell_type": "code",
   "source": [
    "plt.figure()\n",
    "sns.lineplot(data=auroc_pred_entropy_temp, x=\"temperature\", y=\"auroc\", errorbar=\"pi\", estimator=\"mean\", marker=\"o\",\n",
    "             err_style=\"bars\", err_kws={\"capsize\": 4}, linewidth=1.5, label=\"Predictive Entropy\")\n",
    "sns.lineplot(data=auroc_length_normalized_entropy_temp, x=\"temperature\", y=\"auroc\", errorbar=\"pi\", estimator=\"mean\",\n",
    "             marker=\"o\", err_style=\"bars\", err_kws={\"capsize\": 4}, linewidth=1.5,\n",
    "             label=\"Length-normalized predictive entropy\")\n",
    "sns.lineplot(data=auroc_n_semantically_distrinct_temp, x=\"temperature\", y=\"auroc\", errorbar=\"pi\", estimator=\"mean\",\n",
    "             marker=\"o\", err_style=\"bars\", err_kws={\"capsize\": 4}, linewidth=1.5,\n",
    "             label=\"Average # of semantically distinct answers\")\n",
    "sns.lineplot(data=auroc_semantically_entropy_temp, x=\"temperature\", y=\"auroc\", errorbar=\"pi\", estimator=\"mean\",\n",
    "             marker=\"o\", err_style=\"bars\", err_kws={\"capsize\": 4}, linewidth=1.5, label=\"Semantic Entropy\")\n",
    "\n",
    "plt.xlabel(\"Temperature\")\n",
    "plt.ylabel(\"AUROC\")\n",
    "plt.xticks(config[\"temperatures\"])\n",
    "plt.tight_layout()\n",
    "plt.show()"
   ],
   "id": "9af38dcd020ca6a9",
   "outputs": [
    {
     "data": {
      "text/plain": [
       "<Figure size 640x480 with 1 Axes>"
      ],
      "image/png": "[encoded data removed]"
     },
     "metadata": {},
     "output_type": "display_data"
    }
   ],
   "execution_count": 84
  },
  {
   "metadata": {},
   "cell_type": "markdown",
   "source": [
    "Same observation as in the paper: AUROC values highest for temperature 0.5\n",
    "\n",
    "For temperature 0.5 Average number of semantically distinct answers highest, but semantic entropy very close by.\n",
    "\n",
    "Paper shows result starting from the model with 2.7B parameters. There semantic entropy, predictive entropy and normalized entropy also almost equal (see Figure 2 b))"
   ],
   "id": "4fac1984eff24c0e"
  },
  {
   "metadata": {},
   "cell_type": "markdown",
   "source": "### Compare AUROC value for best temperature (TODO) and beam",
   "id": "7718388331bfaedf"
  },
  {
   "metadata": {},
   "cell_type": "markdown",
   "source": [
    "### Compare different accuracy metrics for the free-form QA\n",
    "Paper: page 17\n",
    "\n",
    "Used best temperature/beam"
   ],
   "id": "5363a2135bab6691"
  },
  {
   "metadata": {},
   "cell_type": "code",
   "outputs": [],
   "execution_count": null,
   "source": [
    "auroc_pred_entropy = {k: [] for k in keys_data}\n",
    "auroc_length_normalized_entropy = {k: [] for k in keys_data}\n",
    "auroc_n_semantically_distrinct = {k: [] for k in keys_data}\n",
    "auroc_"
   ],
   "id": "ac797288be8b6363"
  },
  {
   "metadata": {},
   "cell_type": "markdown",
   "source": [
    "## Plots\n",
    "- Bar plot: x-axis Semantic entropy, normalised entropy, entropy; y-axis: AUROC (page 2)\n",
    "- Table 2\n",
    "- x-axis Temperature, y-axis AUROC (2 lines: semantic entropy, length-normalised entropy)\n"
   ],
   "id": "2050a3b6c87b5977"
  },
  {
   "metadata": {},
   "cell_type": "markdown",
   "source": [
    "TODO: Compare multiple number of samples used to estimate entropy\n",
    "- x-axis number samples used to estimate entropy, y-axis AUROC; lines: Semantic entropy, length-normalised entropy, entropy"
   ],
   "id": "4fc4bd251a21b774"
  },
  {
   "metadata": {},
   "cell_type": "code",
   "outputs": [],
   "execution_count": null,
   "source": "# TODO",
   "id": "4e2d2469d40a2cc8"
  }
 ],
 "metadata": {
  "kernelspec": {
   "display_name": "Python 3",
   "language": "python",
   "name": "python3"
  },
  "language_info": {
   "codemirror_mode": {
    "name": "ipython",
    "version": 2
   },
   "file_extension": ".py",
   "mimetype": "text/x-python",
   "name": "python",
   "nbconvert_exporter": "python",
   "pygments_lexer": "ipython2",
   "version": "2.7.6"
  }
 },
 "nbformat": 4,
 "nbformat_minor": 5
}
