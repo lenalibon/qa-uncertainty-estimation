{
 "cells": [
  {
   "cell_type": "markdown",
   "metadata": {},
   "source": [
    "# Generate answers with TriviaQA\n",
    "Used for closed-book QA (=without supporting paragraph)"
   ]
  },
  {
   "cell_type": "code",
   "metadata": {
    "ExecuteTime": {
     "end_time": "2024-06-06T21:48:18.982078Z",
     "start_time": "2024-06-06T21:48:11.338164Z"
    }
   },
   "source": [
    "from datasets import load_dataset\n",
    "import torch\n",
    "import torch.nn.functional as F\n",
    "from transformers import AutoTokenizer, OPTForCausalLM\n",
    "\n",
    "torch.cuda.empty_cache()"
   ],
   "outputs": [],
   "execution_count": 1
  },
  {
   "cell_type": "code",
   "metadata": {
    "ExecuteTime": {
     "end_time": "2024-06-06T21:48:18.998019Z",
     "start_time": "2024-06-06T21:48:18.987023Z"
    }
   },
   "source": "data_dir = \"data\"",
   "outputs": [],
   "execution_count": 2
  },
  {
   "cell_type": "markdown",
   "metadata": {},
   "source": "## Load and inspect data"
  },
  {
   "cell_type": "code",
   "metadata": {
    "ExecuteTime": {
     "end_time": "2024-06-06T21:48:30.417814Z",
     "start_time": "2024-06-06T21:48:18.999019Z"
    }
   },
   "source": [
    "data_trivia = load_dataset(\"trivia_qa\", \"rc.nocontext\")\n",
    "\n",
    "# Remove unnecessary columns\n",
    "data_trivia = data_trivia.remove_columns([\"question_source\", \"entity_pages\", \"search_results\"])\n",
    "\n",
    "# Split to train, validation, test set\n",
    "data_trivia_train = data_trivia[\"train\"]\n",
    "data_trivia_val = data_trivia[\"validation\"]\n",
    "data_trivia_test = data_trivia[\"test\"]\n",
    "\n",
    "print(f\"Trivia QA Training Set Size: {data_trivia_train.shape}\")\n",
    "print(f\"Trivia QA Validation Set Size: {data_trivia_val.shape}\")\n",
    "print(f\"Trivia QA Test Set Size: {data_trivia_test.shape}\")"
   ],
   "outputs": [
    {
     "data": {
      "text/plain": [
       "Resolving data files:   0%|          | 0/26 [00:00<?, ?it/s]"
      ],
      "application/vnd.jupyter.widget-view+json": {
       "version_major": 2,
       "version_minor": 0,
       "model_id": "154139c3b6a64acc9d29cd4ecb9c2c4c"
      }
     },
     "metadata": {},
     "output_type": "display_data"
    },
    {
     "name": "stdout",
     "output_type": "stream",
     "text": [
      "Trivia QA Training Set Size: (138384, 3)\n",
      "Trivia QA Validation Set Size: (17944, 3)\n",
      "Trivia QA Test Set Size: (17210, 3)\n"
     ]
    }
   ],
   "execution_count": 3
  },
  {
   "cell_type": "code",
   "metadata": {
    "ExecuteTime": {
     "end_time": "2024-06-06T18:01:26.146883Z",
     "start_time": "2024-06-06T18:01:26.119887Z"
    }
   },
   "source": [
    "print(\"Training Set\")\n",
    "for i in range(2):\n",
    "    print(f\"Q: {data_trivia_train[i]['question']}\\nA: {data_trivia_train[i]['answer']['value']}\\n\")\n",
    "\n",
    "print(\"Validation Set\")\n",
    "for i in range(2):\n",
    "    print(f\"Q: {data_trivia_val[i]['question']}\\nA: {data_trivia_val[i]['answer']['value']}\\n\")\n",
    "\n",
    "print(\"Test Set\")\n",
    "for i in range(2):\n",
    "    print(f\"Q: {data_trivia_test[i]['question']}\\nA: {data_trivia_test[i]['answer']['value']}\\n\")"
   ],
   "outputs": [
    {
     "name": "stdout",
     "output_type": "stream",
     "text": [
      "Training Set\n",
      "Q: Which American-born Sinclair won the Nobel Prize for Literature in 1930?\n",
      "A: Sinclair Lewis\n",
      "\n",
      "Q: Where in England was Dame Judi Dench born?\n",
      "A: York\n",
      "\n",
      "Validation Set\n",
      "Q: Who was the man behind The Chipmunks?\n",
      "A: David Seville\n",
      "\n",
      "Q: Which Lloyd Webber musical premiered in the US on 10th December 1993?\n",
      "A: Sunset Boulevard\n",
      "\n",
      "Test Set\n",
      "Q: Asmara international airport is in which country?\n",
      "A: <unk>\n",
      "\n",
      "Q: At whose concert were 11 people trampled to death in Ohio in 1979?\n",
      "A: <unk>\n",
      "\n"
     ]
    }
   ],
   "execution_count": 4
  },
  {
   "cell_type": "markdown",
   "metadata": {},
   "source": "The training set is used for the few shot prompt and the validation set to estimate the uncertainty of the model. This is because I want to evaluate how good the uncertainty measure is by using the AUROC. For this, the correct answer is needed which is not provided in the test set."
  },
  {
   "cell_type": "markdown",
   "metadata": {},
   "source": [
    "## Run some predictions\n",
    "Same as in the paper, the OPT model is used. Because of hardware constraints, I use the OPT model with 1.3B parameters. The smallest model used in the paper is the one with 2.7B parameters (see page 7)."
   ]
  },
  {
   "cell_type": "code",
   "metadata": {
    "ExecuteTime": {
     "end_time": "2024-06-06T21:48:30.496378Z",
     "start_time": "2024-06-06T21:48:30.419786Z"
    }
   },
   "source": [
    "device = torch.device(\"cuda\" if torch.cuda.is_available() else \"cpu\")\n",
    "device"
   ],
   "outputs": [
    {
     "data": {
      "text/plain": [
       "device(type='cuda')"
      ]
     },
     "execution_count": 4,
     "metadata": {},
     "output_type": "execute_result"
    }
   ],
   "execution_count": 4
  },
  {
   "cell_type": "code",
   "metadata": {
    "ExecuteTime": {
     "end_time": "2024-06-06T21:50:27.144544Z",
     "start_time": "2024-06-06T21:49:38.104972Z"
    }
   },
   "source": [
    "# Causal LM: model predicts next token \n",
    "checkpoint = \"opt-1.3B\"\n",
    "tokenizer = AutoTokenizer.from_pretrained(f\"facebook/{checkpoint}\", cache_dir=data_dir)\n",
    "model = OPTForCausalLM.from_pretrained(f\"facebook/{checkpoint}\", cache_dir=data_dir)\n",
    "model = model.to(device)"
   ],
   "outputs": [],
   "execution_count": 6
  },
  {
   "cell_type": "code",
   "metadata": {
    "ExecuteTime": {
     "end_time": "2024-06-06T18:06:21.481443Z",
     "start_time": "2024-06-06T18:05:39.920146Z"
    }
   },
   "source": [
    "# Try out examples\n",
    "for i in range(5):\n",
    "    question = \"Q: \" + data_trivia_val[i][\"question\"] + \" A:\"\n",
    "    answer = data_trivia_val[i][\"answer\"][\"value\"]\n",
    "\n",
    "    inputs = tokenizer(question, padding=False, truncation=False, return_tensors=\"pt\").to(device)\n",
    "    length_input = inputs[\"input_ids\"].shape[1]\n",
    "\n",
    "    generate_ids = model.generate(inputs.input_ids, max_length=256)\n",
    "    # Only decode answer and not posed question\n",
    "    output = tokenizer.batch_decode(generate_ids[0][length_input:], skip_special_tokens=True)\n",
    "\n",
    "    print(question)\n",
    "    print(f\"True answer: {answer}\")\n",
    "    print(f\"Model output: {''.join(output)}\")\n",
    "    print(\"-------------------------\")"
   ],
   "outputs": [
    {
     "name": "stdout",
     "output_type": "stream",
     "text": [
      "Q: Who was the man behind The Chipmunks? A:\n",
      "True answer: David Seville\n",
      "Model output:  The man behind The Chipmunks was a man named Chip.\n",
      "\n",
      "Q: Who was the man behind The Chipmunks? A: The man behind The Chipmunks was a man named Chip.\n",
      "\n",
      "Q: Who was the man behind The Chipmunks? A: The man behind The Chipmunks was a man named Chip.\n",
      "\n",
      "Q: Who was the man behind The Chipmunks? A: The man behind The Chipmunks was a man named Chip.\n",
      "\n",
      "Q: Who was the man behind The Chipmunks? A: The man behind The Chipmunks was a man named Chip.\n",
      "\n",
      "Q: Who was the man behind The Chipmunks? A: The man behind The Chipmunks was a man named Chip.\n",
      "\n",
      "Q: Who was the man behind The Chipmunks? A: The man behind The Chipmunks was a man named Chip.\n",
      "\n",
      "Q: Who was the man behind The Chipmunks? A: The man behind The Chipmunks was a man named Chip.\n",
      "\n",
      "Q: Who was the man behind The Chipmunks? A: The man behind The Chipmunks was a\n",
      "-------------------------\n",
      "Q: Which Lloyd Webber musical premiered in the US on 10th December 1993? A:\n",
      "True answer: Sunset Boulevard\n",
      "Model output:  The Phantom of the Opera\n",
      "\n",
      "Q: Which Lloyd Webber musical premiered in the US on 10th December 1993? A: The Phantom of the Opera\n",
      "\n",
      "Q: Which Lloyd Webber musical premiered in the US on 10th December 1993? A: The Phantom of the Opera\n",
      "\n",
      "Q: Which Lloyd Webber musical premiered in the US on 10th December 1993? A: The Phantom of the Opera\n",
      "\n",
      "Q: Which Lloyd Webber musical premiered in the US on 10th December 1993? A: The Phantom of the Opera\n",
      "\n",
      "Q: Which Lloyd Webber musical premiered in the US on 10th December 1993? A: The Phantom of the Opera\n",
      "\n",
      "Q: Which Lloyd Webber musical premiered in the US on 10th December 1993? A: The Phantom of the Opera\n",
      "\n",
      "Q: Which Lloyd Webber musical premiered in the US on 10th December 1993? A: The Phantom of the Opera\n",
      "\n",
      "Q: Which Lloyd Webber musical premiered in the US on 10th December 1993? A: The Phantom of the Opera\n",
      "\n",
      "Q: Which Lloyd Webber musical premiered in the US on 10th December 1993? A: The Phantom\n",
      "-------------------------\n",
      "Q: Who was the next British Prime Minister after Arthur Balfour? A:\n",
      "True answer: Campbell-Bannerman\n",
      "Model output:  Winston Churchill.\n",
      "\n",
      "Q: Who was the next British Prime Minister after Arthur Balfour? A: Winston Churchill.\n",
      "\n",
      "Q: Who was the next British Prime Minister after Arthur Balfour? A: Winston Churchill.\n",
      "\n",
      "Q: Who was the next British Prime Minister after Arthur Balfour? A: Winston Churchill.\n",
      "\n",
      "Q: Who was the next British Prime Minister after Arthur Balfour? A: Winston Churchill.\n",
      "\n",
      "Q: Who was the next British Prime Minister after Arthur Balfour? A: Winston Churchill.\n",
      "\n",
      "Q: Who was the next British Prime Minister after Arthur Balfour? A: Winston Churchill.\n",
      "\n",
      "Q: Who was the next British Prime Minister after Arthur Balfour? A: Winston Churchill.\n",
      "\n",
      "Q: Who was the next British Prime Minister after Arthur Balfour? A: Winston Churchill.\n",
      "\n",
      "Q: Who was the next British Prime Minister after Arthur Balfour? A: Winston Churchill.\n",
      "\n",
      "Q: Who was the next British Prime Minister after Arthur Balfour? A: Winston Churchill.\n",
      "\n",
      "Q: Who was the next British Prime Minister after Arthur Balf\n",
      "-------------------------\n",
      "Q: Who had a 70s No 1 hit with Kiss You All Over? A:\n",
      "True answer: Exile\n",
      "Model output:  The Beatles\n",
      "\n",
      "The Beatles were the first band to have a No 1 single in the UK, with their cover of Kiss You All Over in 1970.\n",
      "\n",
      "The song was written by Paul McCartney and George Harrison, and was released as a single in the UK on 7 June 1970.\n",
      "\n",
      "It was the first single to be released by the band since their last single, I Want To Hold Your Hand, had been released in March 1969.\n",
      "\n",
      "The song was a huge hit in the UK, reaching No 1 on the UK Singles Chart for three weeks in July 1970.\n",
      "\n",
      "It was also the first single to be released by the band since their last single, I Want To Hold Your Hand, had been released in March 1969.\n",
      "\n",
      "The song was a huge hit in the UK, reaching No 1 on the UK Singles Chart for three weeks in July 1970.\n",
      "\n",
      "It was also the first single to be released by the band since their last single, I Want To Hold Your Hand, had been released in March 1969.\n",
      "\n",
      "The song was a huge hit in the UK, reaching No 1 on the UK Singles Chart for three weeks in\n",
      "-------------------------\n",
      "Q: What claimed the life of singer Kathleen Ferrier? A:\n",
      "True answer: Cancer\n",
      "Model output:  Kathleen Ferrier, a singer and actress, was found dead in her home in Los Angeles on March 1, 2009. She was 46.\n",
      "\n",
      "Q: What was the cause of death? A: Ferrier died of a heart attack.\n",
      "\n",
      "Q: Who was Kathleen Ferrier? A: Ferrier was a singer and actress. She was born Kathleen Ferrier in New York City on July 17, 1964. She was the daughter of actress and singer Kathleen Ferrier and her husband, actor and director Michael Ferrier. Ferrier was a member of the musical group The Ferriers. She was also a singer and actress. Ferrier was married to actor Michael Ferrier from 1991 to 2007. She was the mother of actor and director Michael Ferrier Jr. and actor Michael Ferrier III.\n",
      "\n",
      "Q: What was her career? A: Ferrier was a singer and actress. She was a member of the musical group The Ferriers. She was also a singer and actress. Ferrier was married to actor Michael Ferrier from 1991 to 2007. She was the mother of actor and director Michael Ferrier Jr. and actor Michael Ferrier III.\n",
      "\n",
      "Q: What was\n",
      "-------------------------\n"
     ]
    }
   ],
   "execution_count": 8
  },
  {
   "cell_type": "markdown",
   "metadata": {},
   "source": [
    "Apart from all the answers being wrong, after the answer, the model continues to either repeat the question, ask new questions, and gives a separate answer for each newly posed question or provides more information about the answer. \n",
    "\n",
    "To account for this issue, the paper (page 16) proposes to trim all generations by pattern matching for the bad-words \"Q:\", \"Question:\", \"QUESTION:\", \"questions:\". This means that those tokens will not be part of the generation. Important to note is that the tokenization of for instance \"Q:\" and \" Q:\" is different (added space in front of Q), as the following example demonstrates. As a result, for every named bad-word, I also add \" bad-word\" as a bad-word. "
   ]
  },
  {
   "cell_type": "code",
   "metadata": {
    "ExecuteTime": {
     "end_time": "2024-06-06T18:06:21.497448Z",
     "start_time": "2024-06-06T18:06:21.483441Z"
    }
   },
   "source": [
    "print(f\"Tokenization for 'Q:': {tokenizer('Q:')}\")\n",
    "print(f\"Tokenization for ' Q:': {tokenizer(' Q:')}\")\n",
    "\n",
    "example_answer = \"The Chipmunks Q: Who was the man behind The Chipmunks?\"\n",
    "print(f\"Excerpt of example answer{example_answer}\")\n",
    "tokenized_example_answer = tokenizer(example_answer)\n",
    "print(f\"Tokenized example answer: {tokenized_example_answer}\")"
   ],
   "outputs": [
    {
     "name": "stdout",
     "output_type": "stream",
     "text": [
      "Tokenization for 'Q:': {'input_ids': [2, 1864, 35], 'attention_mask': [1, 1, 1]}\n",
      "Tokenization for ' Q:': {'input_ids': [2, 1209, 35], 'attention_mask': [1, 1, 1]}\n",
      "Excerpt of example answerThe Chipmunks Q: Who was the man behind The Chipmunks?\n",
      "Tokenized example answer: {'input_ids': [2, 133, 11055, 20614, 2258, 1209, 35, 3394, 21, 5, 313, 639, 20, 11055, 20614, 2258, 116], 'attention_mask': [1, 1, 1, 1, 1, 1, 1, 1, 1, 1, 1, 1, 1, 1, 1, 1, 1]}\n"
     ]
    }
   ],
   "execution_count": 9
  },
  {
   "cell_type": "markdown",
   "metadata": {},
   "source": [
    "As you can see, the series 1209, 35 appears in the tokenized example answer, but the series 1864, 35 doesn't appear. "
   ]
  },
  {
   "cell_type": "markdown",
   "metadata": {},
   "source": [
    "As TriviaQA provides short answers in one line, the token of the new line character is specified as the eos token id. This means that the generation stops, once a \\n is encountered. In addition, the paper (page 16) suggests to use few-shot prompting (n = 10) for TriviaQA. "
   ]
  },
  {
   "cell_type": "code",
   "metadata": {
    "ExecuteTime": {
     "end_time": "2024-06-06T18:06:30.311408Z",
     "start_time": "2024-06-06T18:06:21.499447Z"
    }
   },
   "source": [
    "selected_training_data = data_trivia_train.select(range(0, 10))\n",
    "ten_shot_prompt = \"\"\n",
    "\n",
    "for data in selected_training_data:\n",
    "    ten_shot_prompt += \"Q: \" + data[\"question\"] + \" A: \" + data[\"answer\"][\"value\"] + \" \"\n",
    "\n",
    "# Define stop tokens, use token on position 1 bc position 0 is special token\n",
    "stop_tokens = [\"Q:\", \"Question:\", \"QUESTION:\", \"questions:\", \" Q:\", \" Question:\", \" QUESTION:\", \" questions:\"]\n",
    "stop_tokens = [[tokenizer(stop_token)[\"input_ids\"][1]] for stop_token in stop_tokens]\n",
    "\n",
    "# Define eos token\n",
    "eos_token = tokenizer(\"\\n\")[\"input_ids\"][1]\n",
    "\n",
    "# Try again\n",
    "for i in range(3):\n",
    "    question = ten_shot_prompt + \"Q: \" + data_trivia_val[i][\"question\"] + \" A:\"\n",
    "    answer = data_trivia_val[i][\"answer\"][\"value\"]\n",
    "\n",
    "    inputs = tokenizer(question, padding=False, truncation=False, return_tensors=\"pt\").to(device)\n",
    "    length_input = inputs[\"input_ids\"].shape[1]\n",
    "\n",
    "    generate_ids = model.generate(inputs.input_ids,\n",
    "                                  max_length=256 + length_input,\n",
    "                                  eos_token_id=eos_token,\n",
    "                                  bad_words_ids=stop_tokens)\n",
    "    output = tokenizer.batch_decode(generate_ids[0][length_input:], skip_special_tokens=True)\n",
    "\n",
    "    print(question)\n",
    "    print(f\"True answer: {answer}\")\n",
    "    print(f\"Model Output: {''.join(output)}\")\n",
    "\n",
    "    print(\"-------------------------\")"
   ],
   "outputs": [
    {
     "name": "stdout",
     "output_type": "stream",
     "text": [
      "Q: Which American-born Sinclair won the Nobel Prize for Literature in 1930? A: Sinclair Lewis Q: Where in England was Dame Judi Dench born? A: York Q: In which decade did Billboard magazine first publish and American hit chart? A: 30s Q: From which country did Angola achieve independence in 1975? A: Portugal Q: Which city does David Soul come from? A: Chicago Q: Who won Super Bowl XX? A: Chicago Bears Q: Which was the first European country to abolish capital punishment? A: Norway Q: In which country did he widespread use of ISDN begin in 1988? A: Japan Q: What is Bruce Willis' real first name? A: Walter Q: Which William wrote the novel Lord Of The Flies? A: Golding Q: Who was the man behind The Chipmunks? A:\n",
      "True answer: David Seville\n",
      "Model Output:  Chipmunk creator Chipmunks creator Chipmunk creator Chipmunk creator Chipmunk creator Chipmunk creator Chipmunk creator Chipmunk creator Chipmunk creator Chipmunk creator Chipmunk creator Chipmunk creator Chipmunk creator Chipmunk creator Chipmunk creator Chipmunk creator Chipmunk creator Chipmunk creator Chipmunk creator Chipmunk creator Chipmunk creator Chipmunk creator Chipmunk creator Chipmunk creator Chipmunk creator Chipmunk creator Chipmunk creator Chipmunk creator Chipmunk creator Chipmunk creator Chipmunk creator Chipmunk creator Chipmunk creator Chipmunk creator Chipmunk creator Chipmunk creator Chipmunk creator Chipmunk creator Chipmunk creator Chipmunk creator Chipmunk creator Chipmunk creator Chipmunk creator Chipmunk creator Chipmunk creator Chipmunk creator Chipmunk creator Chipmunk creator Chipmunk creator Chipmunk creator Chipmunk creator Chipmunk creator Chipmunk creator Chipmunk creator Chipmunk creator Chipmunk creator Chipmunk creator Chipmunk creator Chipmunk creator Chipmunk creator Chipmunk creator Chipmunk creator Chipmunk creator Chipmunk creator\n",
      "-------------------------\n",
      "Q: Which American-born Sinclair won the Nobel Prize for Literature in 1930? A: Sinclair Lewis Q: Where in England was Dame Judi Dench born? A: York Q: In which decade did Billboard magazine first publish and American hit chart? A: 30s Q: From which country did Angola achieve independence in 1975? A: Portugal Q: Which city does David Soul come from? A: Chicago Q: Who won Super Bowl XX? A: Chicago Bears Q: Which was the first European country to abolish capital punishment? A: Norway Q: In which country did he widespread use of ISDN begin in 1988? A: Japan Q: What is Bruce Willis' real first name? A: Walter Q: Which William wrote the novel Lord Of The Flies? A: Golding Q: Which Lloyd Webber musical premiered in the US on 10th December 1993? A:\n",
      "True answer: Sunset Boulevard\n",
      "Model Output:  The Phantom Of The Opera\n",
      "\n",
      "-------------------------\n",
      "Q: Which American-born Sinclair won the Nobel Prize for Literature in 1930? A: Sinclair Lewis Q: Where in England was Dame Judi Dench born? A: York Q: In which decade did Billboard magazine first publish and American hit chart? A: 30s Q: From which country did Angola achieve independence in 1975? A: Portugal Q: Which city does David Soul come from? A: Chicago Q: Who won Super Bowl XX? A: Chicago Bears Q: Which was the first European country to abolish capital punishment? A: Norway Q: In which country did he widespread use of ISDN begin in 1988? A: Japan Q: What is Bruce Willis' real first name? A: Walter Q: Which William wrote the novel Lord Of The Flies? A: Golding Q: Who was the next British Prime Minister after Arthur Balfour? A:\n",
      "True answer: Campbell-Bannerman\n",
      "Model Output:  Winston Churchill\n",
      "\n",
      "-------------------------\n"
     ]
    }
   ],
   "execution_count": 10
  },
  {
   "cell_type": "markdown",
   "metadata": {},
   "source": "As you can see, the answer is repeated in the first example. This could be solved by changing Q: and A: to Question: and Answer: and also adding \"A:\", \" A:\", \"Answer:\", \"ANSWER:\", \"answers:\" as stopwords. "
  },
  {
   "cell_type": "code",
   "metadata": {
    "ExecuteTime": {
     "end_time": "2024-06-06T18:06:31.964221Z",
     "start_time": "2024-06-06T18:06:30.314410Z"
    }
   },
   "source": [
    "selected_training_data = data_trivia_train.select(range(0, 10))\n",
    "# few shot prompting\n",
    "ten_shot_prompt = \"\"\n",
    "\n",
    "for data in selected_training_data:\n",
    "    ten_shot_prompt += \"Question: \" + data[\"question\"] + \" Answer: \" + data[\"answer\"][\"value\"] + \" \"\n",
    "\n",
    "# Define stop tokens, use token on position 1 bc position 0 is special token\n",
    "stop_tokens = [\"Q:\", \"Question:\", \"QUESTION:\", \"questions:\", \" Q:\", \" Question:\", \" QUESTION:\", \" questions:\",\n",
    "               \"A:\", \"Answer:\", \"ANSWER:\", \"answers:\", \" A:\", \" Answer:\", \" ANSWER:\", \" answers:\"]\n",
    "stop_tokens = [[tokenizer(stop_token)[\"input_ids\"][1]] for stop_token in stop_tokens]\n",
    "\n",
    "# Define eos token\n",
    "eos_token = tokenizer(\"\\n\")[\"input_ids\"][1]\n",
    "\n",
    "# Try again\n",
    "for i in range(10):\n",
    "    question = ten_shot_prompt + \"Question: \" + data_trivia_val[i][\"question\"] + \" Answer:\"\n",
    "    answer = data_trivia_val[i][\"answer\"][\"value\"]\n",
    "\n",
    "    inputs = tokenizer(question, padding=False, truncation=False, return_tensors=\"pt\").to(device)\n",
    "    length_input = inputs[\"input_ids\"].shape[1]\n",
    "\n",
    "    generate_ids = model.generate(inputs.input_ids,\n",
    "                                  max_length=256 + length_input,\n",
    "                                  eos_token_id=eos_token,\n",
    "                                  bad_words_ids=stop_tokens)\n",
    "    output = tokenizer.batch_decode(generate_ids[0][length_input:], skip_special_tokens=True)\n",
    "\n",
    "    print(question)\n",
    "    print(f\"True answer: {answer}\")\n",
    "    print(f\"Model Output: {''.join(output)}\")\n",
    "\n",
    "    print(\"-------------------------\")"
   ],
   "outputs": [
    {
     "name": "stdout",
     "output_type": "stream",
     "text": [
      "Question: Which American-born Sinclair won the Nobel Prize for Literature in 1930? Answer: Sinclair Lewis Question: Where in England was Dame Judi Dench born? Answer: York Question: In which decade did Billboard magazine first publish and American hit chart? Answer: 30s Question: From which country did Angola achieve independence in 1975? Answer: Portugal Question: Which city does David Soul come from? Answer: Chicago Question: Who won Super Bowl XX? Answer: Chicago Bears Question: Which was the first European country to abolish capital punishment? Answer: Norway Question: In which country did he widespread use of ISDN begin in 1988? Answer: Japan Question: What is Bruce Willis' real first name? Answer: Walter Question: Which William wrote the novel Lord Of The Flies? Answer: Golding Question: Who was the man behind The Chipmunks? Answer:\n",
      "True answer: David Seville\n",
      "Model Output:  Chip\n",
      "\n",
      "-------------------------\n",
      "Question: Which American-born Sinclair won the Nobel Prize for Literature in 1930? Answer: Sinclair Lewis Question: Where in England was Dame Judi Dench born? Answer: York Question: In which decade did Billboard magazine first publish and American hit chart? Answer: 30s Question: From which country did Angola achieve independence in 1975? Answer: Portugal Question: Which city does David Soul come from? Answer: Chicago Question: Who won Super Bowl XX? Answer: Chicago Bears Question: Which was the first European country to abolish capital punishment? Answer: Norway Question: In which country did he widespread use of ISDN begin in 1988? Answer: Japan Question: What is Bruce Willis' real first name? Answer: Walter Question: Which William wrote the novel Lord Of The Flies? Answer: Golding Question: Which Lloyd Webber musical premiered in the US on 10th December 1993? Answer:\n",
      "True answer: Sunset Boulevard\n",
      "Model Output:  The Phantom Of The Opera\n",
      "\n",
      "-------------------------\n",
      "Question: Which American-born Sinclair won the Nobel Prize for Literature in 1930? Answer: Sinclair Lewis Question: Where in England was Dame Judi Dench born? Answer: York Question: In which decade did Billboard magazine first publish and American hit chart? Answer: 30s Question: From which country did Angola achieve independence in 1975? Answer: Portugal Question: Which city does David Soul come from? Answer: Chicago Question: Who won Super Bowl XX? Answer: Chicago Bears Question: Which was the first European country to abolish capital punishment? Answer: Norway Question: In which country did he widespread use of ISDN begin in 1988? Answer: Japan Question: What is Bruce Willis' real first name? Answer: Walter Question: Which William wrote the novel Lord Of The Flies? Answer: Golding Question: Who was the next British Prime Minister after Arthur Balfour? Answer:\n",
      "True answer: Campbell-Bannerman\n",
      "Model Output:  Winston Churchill\n",
      "\n",
      "-------------------------\n",
      "Question: Which American-born Sinclair won the Nobel Prize for Literature in 1930? Answer: Sinclair Lewis Question: Where in England was Dame Judi Dench born? Answer: York Question: In which decade did Billboard magazine first publish and American hit chart? Answer: 30s Question: From which country did Angola achieve independence in 1975? Answer: Portugal Question: Which city does David Soul come from? Answer: Chicago Question: Who won Super Bowl XX? Answer: Chicago Bears Question: Which was the first European country to abolish capital punishment? Answer: Norway Question: In which country did he widespread use of ISDN begin in 1988? Answer: Japan Question: What is Bruce Willis' real first name? Answer: Walter Question: Which William wrote the novel Lord Of The Flies? Answer: Golding Question: Who had a 70s No 1 hit with Kiss You All Over? Answer:\n",
      "True answer: Exile\n",
      "Model Output:  The Beatles\n",
      "\n",
      "-------------------------\n",
      "Question: Which American-born Sinclair won the Nobel Prize for Literature in 1930? Answer: Sinclair Lewis Question: Where in England was Dame Judi Dench born? Answer: York Question: In which decade did Billboard magazine first publish and American hit chart? Answer: 30s Question: From which country did Angola achieve independence in 1975? Answer: Portugal Question: Which city does David Soul come from? Answer: Chicago Question: Who won Super Bowl XX? Answer: Chicago Bears Question: Which was the first European country to abolish capital punishment? Answer: Norway Question: In which country did he widespread use of ISDN begin in 1988? Answer: Japan Question: What is Bruce Willis' real first name? Answer: Walter Question: Which William wrote the novel Lord Of The Flies? Answer: Golding Question: What claimed the life of singer Kathleen Ferrier? Answer:\n",
      "True answer: Cancer\n",
      "Model Output:  The Beatles\n",
      "\n",
      "-------------------------\n",
      "Question: Which American-born Sinclair won the Nobel Prize for Literature in 1930? Answer: Sinclair Lewis Question: Where in England was Dame Judi Dench born? Answer: York Question: In which decade did Billboard magazine first publish and American hit chart? Answer: 30s Question: From which country did Angola achieve independence in 1975? Answer: Portugal Question: Which city does David Soul come from? Answer: Chicago Question: Who won Super Bowl XX? Answer: Chicago Bears Question: Which was the first European country to abolish capital punishment? Answer: Norway Question: In which country did he widespread use of ISDN begin in 1988? Answer: Japan Question: What is Bruce Willis' real first name? Answer: Walter Question: Which William wrote the novel Lord Of The Flies? Answer: Golding Question: Rita Coolidge sang the title song for which Bond film? Answer:\n",
      "True answer: Octopussy\n",
      "Model Output:  Moonraker\n",
      "\n",
      "-------------------------\n",
      "Question: Which American-born Sinclair won the Nobel Prize for Literature in 1930? Answer: Sinclair Lewis Question: Where in England was Dame Judi Dench born? Answer: York Question: In which decade did Billboard magazine first publish and American hit chart? Answer: 30s Question: From which country did Angola achieve independence in 1975? Answer: Portugal Question: Which city does David Soul come from? Answer: Chicago Question: Who won Super Bowl XX? Answer: Chicago Bears Question: Which was the first European country to abolish capital punishment? Answer: Norway Question: In which country did he widespread use of ISDN begin in 1988? Answer: Japan Question: What is Bruce Willis' real first name? Answer: Walter Question: Which William wrote the novel Lord Of The Flies? Answer: Golding Question: What was the last US state to reintroduce alcohol after prohibition? Answer:\n",
      "True answer: Utah\n",
      "Model Output:  New York State\n",
      "\n",
      "-------------------------\n",
      "Question: Which American-born Sinclair won the Nobel Prize for Literature in 1930? Answer: Sinclair Lewis Question: Where in England was Dame Judi Dench born? Answer: York Question: In which decade did Billboard magazine first publish and American hit chart? Answer: 30s Question: From which country did Angola achieve independence in 1975? Answer: Portugal Question: Which city does David Soul come from? Answer: Chicago Question: Who won Super Bowl XX? Answer: Chicago Bears Question: Which was the first European country to abolish capital punishment? Answer: Norway Question: In which country did he widespread use of ISDN begin in 1988? Answer: Japan Question: What is Bruce Willis' real first name? Answer: Walter Question: Which William wrote the novel Lord Of The Flies? Answer: Golding Question: Which actress was voted Miss Greenwich Village in 1942? Answer:\n",
      "True answer: Lauren Bacall\n",
      "Model Output:  Grace Kelly\n",
      "\n",
      "-------------------------\n",
      "Question: Which American-born Sinclair won the Nobel Prize for Literature in 1930? Answer: Sinclair Lewis Question: Where in England was Dame Judi Dench born? Answer: York Question: In which decade did Billboard magazine first publish and American hit chart? Answer: 30s Question: From which country did Angola achieve independence in 1975? Answer: Portugal Question: Which city does David Soul come from? Answer: Chicago Question: Who won Super Bowl XX? Answer: Chicago Bears Question: Which was the first European country to abolish capital punishment? Answer: Norway Question: In which country did he widespread use of ISDN begin in 1988? Answer: Japan Question: What is Bruce Willis' real first name? Answer: Walter Question: Which William wrote the novel Lord Of The Flies? Answer: Golding Question: What is the Japanese share index called? Answer:\n",
      "True answer: Nikkei\n",
      "Model Output:  Nikkei Index\n",
      "\n",
      "-------------------------\n",
      "Question: Which American-born Sinclair won the Nobel Prize for Literature in 1930? Answer: Sinclair Lewis Question: Where in England was Dame Judi Dench born? Answer: York Question: In which decade did Billboard magazine first publish and American hit chart? Answer: 30s Question: From which country did Angola achieve independence in 1975? Answer: Portugal Question: Which city does David Soul come from? Answer: Chicago Question: Who won Super Bowl XX? Answer: Chicago Bears Question: Which was the first European country to abolish capital punishment? Answer: Norway Question: In which country did he widespread use of ISDN begin in 1988? Answer: Japan Question: What is Bruce Willis' real first name? Answer: Walter Question: Which William wrote the novel Lord Of The Flies? Answer: Golding Question: What was the name of Michael Jackson's autobiography written in 1988? Answer:\n",
      "True answer: Moonwalk\n",
      "Model Output:  Neverland\n",
      "\n",
      "-------------------------\n"
     ]
    }
   ],
   "execution_count": 11
  },
  {
   "cell_type": "markdown",
   "metadata": {},
   "source": [
    "The format of the answers looks good - we can argue about their correctness though (except for one example).\n",
    "\n",
    "## Include probability of generated output sequence\n",
    "As the last token is always eos token, I don't want to include this in my probability calculation. Therefore, the probabilities are only multiplied until the second to last token."
   ]
  },
  {
   "metadata": {
    "ExecuteTime": {
     "end_time": "2024-06-06T18:06:38.175782Z",
     "start_time": "2024-06-06T18:06:36.253155Z"
    }
   },
   "cell_type": "code",
   "source": [
    "selected_training_data = data_trivia_train.select(range(0, 10))\n",
    "# few shot prompting\n",
    "ten_shot_prompt = \"\"\n",
    "\n",
    "for data in selected_training_data:\n",
    "    ten_shot_prompt += \"Question: \" + data[\"question\"] + \" Answer: \" + data[\"answer\"][\"value\"] + \" \"\n",
    "\n",
    "# Define stop tokens, use token on position 1 bc position 0 is special token\n",
    "stop_tokens = [\"Q:\", \"Question:\", \"QUESTION:\", \"questions:\", \" Q:\", \" Question:\", \" QUESTION:\", \" questions:\",\n",
    "               \"A:\", \"Answer:\", \"ANSWER:\", \"answers:\", \" A:\", \" Answer:\", \" ANSWER:\", \" answers:\"]\n",
    "stop_tokens = [[tokenizer(stop_token)[\"input_ids\"][1]] for stop_token in stop_tokens]\n",
    "\n",
    "# Define eos token\n",
    "eos_token = tokenizer(\"\\n\")[\"input_ids\"][1]\n",
    "\n",
    "for i in range(10):\n",
    "    question = ten_shot_prompt + \"Question: \" + data_trivia_val[i][\"question\"] + \" Answer:\"\n",
    "    answer = data_trivia_val[i][\"answer\"][\"value\"]\n",
    "\n",
    "    inputs = tokenizer(question, padding=False, truncation=False, return_tensors=\"pt\").to(device)\n",
    "    length_input = inputs[\"input_ids\"].shape[1]\n",
    "\n",
    "    output_generate = model.generate(inputs.input_ids,\n",
    "                                     max_length=256 + length_input,\n",
    "                                     eos_token_id=eos_token,\n",
    "                                     bad_words_ids=stop_tokens,\n",
    "                                     return_dict_in_generate=True,\n",
    "                                     output_scores=True)\n",
    "    # https://huggingface.co/docs/transformers/internal/generation_utils\n",
    "    generate_ids = output_generate.sequences\n",
    "    scores = output_generate.scores\n",
    "    output = tokenizer.batch_decode(generate_ids[0][length_input:-1], skip_special_tokens=True)\n",
    "\n",
    "    # Calculating probability of sequence\n",
    "    prob_output = 1\n",
    "    for j, token in enumerate(generate_ids[0][length_input:-1]):\n",
    "        # Scores are prediction scores meaning scores for each vocabulary token before softmax\n",
    "        probs_vocab = F.softmax(scores[j], dim=-1)\n",
    "        prob_token = probs_vocab[0, token].item()\n",
    "        prob_output *= prob_token\n",
    "\n",
    "    print(question)\n",
    "    print(f\"True answer: {answer}\")\n",
    "    print(f\"Model Output: {''.join(output)}\")\n",
    "    print(f\"Probability of output: {prob_output}\")\n",
    "\n",
    "    print(\"-------------------------\")"
   ],
   "outputs": [
    {
     "name": "stdout",
     "output_type": "stream",
     "text": [
      "Question: Which American-born Sinclair won the Nobel Prize for Literature in 1930? Answer: Sinclair Lewis Question: Where in England was Dame Judi Dench born? Answer: York Question: In which decade did Billboard magazine first publish and American hit chart? Answer: 30s Question: From which country did Angola achieve independence in 1975? Answer: Portugal Question: Which city does David Soul come from? Answer: Chicago Question: Who won Super Bowl XX? Answer: Chicago Bears Question: Which was the first European country to abolish capital punishment? Answer: Norway Question: In which country did he widespread use of ISDN begin in 1988? Answer: Japan Question: What is Bruce Willis' real first name? Answer: Walter Question: Which William wrote the novel Lord Of The Flies? Answer: Golding Question: Who was the man behind The Chipmunks? Answer:\n",
      "True answer: David Seville\n",
      "Model Output:  Chip\n",
      "Probability of output: 0.03923239931464195\n",
      "-------------------------\n",
      "Question: Which American-born Sinclair won the Nobel Prize for Literature in 1930? Answer: Sinclair Lewis Question: Where in England was Dame Judi Dench born? Answer: York Question: In which decade did Billboard magazine first publish and American hit chart? Answer: 30s Question: From which country did Angola achieve independence in 1975? Answer: Portugal Question: Which city does David Soul come from? Answer: Chicago Question: Who won Super Bowl XX? Answer: Chicago Bears Question: Which was the first European country to abolish capital punishment? Answer: Norway Question: In which country did he widespread use of ISDN begin in 1988? Answer: Japan Question: What is Bruce Willis' real first name? Answer: Walter Question: Which William wrote the novel Lord Of The Flies? Answer: Golding Question: Which Lloyd Webber musical premiered in the US on 10th December 1993? Answer:\n",
      "True answer: Sunset Boulevard\n",
      "Model Output:  The Phantom Of The Opera\n",
      "Probability of output: 0.02703451625294132\n",
      "-------------------------\n",
      "Question: Which American-born Sinclair won the Nobel Prize for Literature in 1930? Answer: Sinclair Lewis Question: Where in England was Dame Judi Dench born? Answer: York Question: In which decade did Billboard magazine first publish and American hit chart? Answer: 30s Question: From which country did Angola achieve independence in 1975? Answer: Portugal Question: Which city does David Soul come from? Answer: Chicago Question: Who won Super Bowl XX? Answer: Chicago Bears Question: Which was the first European country to abolish capital punishment? Answer: Norway Question: In which country did he widespread use of ISDN begin in 1988? Answer: Japan Question: What is Bruce Willis' real first name? Answer: Walter Question: Which William wrote the novel Lord Of The Flies? Answer: Golding Question: Who was the next British Prime Minister after Arthur Balfour? Answer:\n",
      "True answer: Campbell-Bannerman\n",
      "Model Output:  Winston Churchill\n",
      "Probability of output: 0.35314662978611366\n",
      "-------------------------\n",
      "Question: Which American-born Sinclair won the Nobel Prize for Literature in 1930? Answer: Sinclair Lewis Question: Where in England was Dame Judi Dench born? Answer: York Question: In which decade did Billboard magazine first publish and American hit chart? Answer: 30s Question: From which country did Angola achieve independence in 1975? Answer: Portugal Question: Which city does David Soul come from? Answer: Chicago Question: Who won Super Bowl XX? Answer: Chicago Bears Question: Which was the first European country to abolish capital punishment? Answer: Norway Question: In which country did he widespread use of ISDN begin in 1988? Answer: Japan Question: What is Bruce Willis' real first name? Answer: Walter Question: Which William wrote the novel Lord Of The Flies? Answer: Golding Question: Who had a 70s No 1 hit with Kiss You All Over? Answer:\n",
      "True answer: Exile\n",
      "Model Output:  The Beatles\n",
      "Probability of output: 0.013100401379516624\n",
      "-------------------------\n",
      "Question: Which American-born Sinclair won the Nobel Prize for Literature in 1930? Answer: Sinclair Lewis Question: Where in England was Dame Judi Dench born? Answer: York Question: In which decade did Billboard magazine first publish and American hit chart? Answer: 30s Question: From which country did Angola achieve independence in 1975? Answer: Portugal Question: Which city does David Soul come from? Answer: Chicago Question: Who won Super Bowl XX? Answer: Chicago Bears Question: Which was the first European country to abolish capital punishment? Answer: Norway Question: In which country did he widespread use of ISDN begin in 1988? Answer: Japan Question: What is Bruce Willis' real first name? Answer: Walter Question: Which William wrote the novel Lord Of The Flies? Answer: Golding Question: What claimed the life of singer Kathleen Ferrier? Answer:\n",
      "True answer: Cancer\n",
      "Model Output:  The Beatles\n",
      "Probability of output: 0.011750172906026535\n",
      "-------------------------\n",
      "Question: Which American-born Sinclair won the Nobel Prize for Literature in 1930? Answer: Sinclair Lewis Question: Where in England was Dame Judi Dench born? Answer: York Question: In which decade did Billboard magazine first publish and American hit chart? Answer: 30s Question: From which country did Angola achieve independence in 1975? Answer: Portugal Question: Which city does David Soul come from? Answer: Chicago Question: Who won Super Bowl XX? Answer: Chicago Bears Question: Which was the first European country to abolish capital punishment? Answer: Norway Question: In which country did he widespread use of ISDN begin in 1988? Answer: Japan Question: What is Bruce Willis' real first name? Answer: Walter Question: Which William wrote the novel Lord Of The Flies? Answer: Golding Question: Rita Coolidge sang the title song for which Bond film? Answer:\n",
      "True answer: Octopussy\n",
      "Model Output:  Moonraker\n",
      "Probability of output: 0.09715002118686833\n",
      "-------------------------\n",
      "Question: Which American-born Sinclair won the Nobel Prize for Literature in 1930? Answer: Sinclair Lewis Question: Where in England was Dame Judi Dench born? Answer: York Question: In which decade did Billboard magazine first publish and American hit chart? Answer: 30s Question: From which country did Angola achieve independence in 1975? Answer: Portugal Question: Which city does David Soul come from? Answer: Chicago Question: Who won Super Bowl XX? Answer: Chicago Bears Question: Which was the first European country to abolish capital punishment? Answer: Norway Question: In which country did he widespread use of ISDN begin in 1988? Answer: Japan Question: What is Bruce Willis' real first name? Answer: Walter Question: Which William wrote the novel Lord Of The Flies? Answer: Golding Question: What was the last US state to reintroduce alcohol after prohibition? Answer:\n",
      "True answer: Utah\n",
      "Model Output:  New York State\n",
      "Probability of output: 0.022601176086147746\n",
      "-------------------------\n",
      "Question: Which American-born Sinclair won the Nobel Prize for Literature in 1930? Answer: Sinclair Lewis Question: Where in England was Dame Judi Dench born? Answer: York Question: In which decade did Billboard magazine first publish and American hit chart? Answer: 30s Question: From which country did Angola achieve independence in 1975? Answer: Portugal Question: Which city does David Soul come from? Answer: Chicago Question: Who won Super Bowl XX? Answer: Chicago Bears Question: Which was the first European country to abolish capital punishment? Answer: Norway Question: In which country did he widespread use of ISDN begin in 1988? Answer: Japan Question: What is Bruce Willis' real first name? Answer: Walter Question: Which William wrote the novel Lord Of The Flies? Answer: Golding Question: Which actress was voted Miss Greenwich Village in 1942? Answer:\n",
      "True answer: Lauren Bacall\n",
      "Model Output:  Grace Kelly\n",
      "Probability of output: 0.0579945227549461\n",
      "-------------------------\n",
      "Question: Which American-born Sinclair won the Nobel Prize for Literature in 1930? Answer: Sinclair Lewis Question: Where in England was Dame Judi Dench born? Answer: York Question: In which decade did Billboard magazine first publish and American hit chart? Answer: 30s Question: From which country did Angola achieve independence in 1975? Answer: Portugal Question: Which city does David Soul come from? Answer: Chicago Question: Who won Super Bowl XX? Answer: Chicago Bears Question: Which was the first European country to abolish capital punishment? Answer: Norway Question: In which country did he widespread use of ISDN begin in 1988? Answer: Japan Question: What is Bruce Willis' real first name? Answer: Walter Question: Which William wrote the novel Lord Of The Flies? Answer: Golding Question: What is the Japanese share index called? Answer:\n",
      "True answer: Nikkei\n",
      "Model Output:  Nikkei Index\n",
      "Probability of output: 0.08439946274781115\n",
      "-------------------------\n",
      "Question: Which American-born Sinclair won the Nobel Prize for Literature in 1930? Answer: Sinclair Lewis Question: Where in England was Dame Judi Dench born? Answer: York Question: In which decade did Billboard magazine first publish and American hit chart? Answer: 30s Question: From which country did Angola achieve independence in 1975? Answer: Portugal Question: Which city does David Soul come from? Answer: Chicago Question: Who won Super Bowl XX? Answer: Chicago Bears Question: Which was the first European country to abolish capital punishment? Answer: Norway Question: In which country did he widespread use of ISDN begin in 1988? Answer: Japan Question: What is Bruce Willis' real first name? Answer: Walter Question: Which William wrote the novel Lord Of The Flies? Answer: Golding Question: What was the name of Michael Jackson's autobiography written in 1988? Answer:\n",
      "True answer: Moonwalk\n",
      "Model Output:  Neverland\n",
      "Probability of output: 0.03920735837251499\n",
      "-------------------------\n"
     ]
    }
   ],
   "execution_count": 12
  },
  {
   "metadata": {},
   "cell_type": "markdown",
   "source": [
    "## Sampling multiple answers\n",
    "### Setup\n",
    "The following setup remains the same for different sampling techniques. Sample 10 answers per question (see page 8).\n",
    "\n",
    "See: https://huggingface.co/docs/transformers/en/generation_strategies\n",
    "\n",
    "As answers like the one below appeared when trying to sample, the stop tokens \"Answers:\", \" Answers:\", \"Topic:\", \" Topic:\", \"...\", \" ...\", \".\", \" .\", \" ?\", \"?\", \":\", \" :\", \"!\", \" !\" are also added to the list. As the answers of TriviaQA are quite short and don't contain multiple sentences, the generated answers are more similar to the correct ones.\n",
    "\n",
    "Sequence (0):  Chip Dursley Topic: Where/when is the most popular movie of all time filmed? Answers:I'm not sure...but I think you'll be good. I'd bring some books and keep an eye out for deals at Barnes & Noble, they have some cool gifts there. (P: 0.0)\n",
    "\n",
    "Sequence (4):  Sherman Query: Which of the following US cities has a higher percentage of Hispanic population than any other in America? Chicago Texas Philadelphia Denver Los Angeles Miami Fort Worth Oklahoma City Atlanta Richmond Dallas Tampa (P: 0.0)\n",
    "\n",
    "As the sampled tokenlist sometimes look like the following, when calculating the probability it is checked if the token is a newline character, an empty string or a special token like <pad> (identified by having a < and a >). If that's the case, it is not included in the probability calculation.\n",
    "\n",
    "[' D', 'ery', 'ck', ' Gibson', '\\n', '', '', '', '', '', '', '', '', '', '', '', '', '', '', '', '', '', '', '', '', '', '', '', '', '', '', '']"
   ]
  },
  {
   "metadata": {
    "ExecuteTime": {
     "end_time": "2024-06-06T21:50:51.972025Z",
     "start_time": "2024-06-06T21:50:51.865376Z"
    }
   },
   "cell_type": "code",
   "source": [
    "# few shot prompting\n",
    "selected_training_data = data_trivia_train.select(range(0, 10))\n",
    "ten_shot_prompt = \"\"\n",
    "for data in selected_training_data:\n",
    "    ten_shot_prompt += \"Question: \" + data[\"question\"] + \" Answer: \" + data[\"answer\"][\"value\"] + \" \"\n",
    "\n",
    "# Define stop tokens, use token on position 1 bc position 0 is special token\n",
    "stop_tokens = [\"Q:\", \"Question:\", \"QUESTION:\", \"questions:\", \" Q:\", \" Question:\", \" QUESTION:\", \" questions:\",\n",
    "               \"A:\", \"Answer:\", \"ANSWER:\", \"answers:\", \" A:\", \" Answer:\", \" ANSWER:\", \" answers:\", \"Answers:\", \" Answers:\", \n",
    "               \"Topic:\", \" Topic:\", \".\", \" .\", \"...\", \" ...\", \"?\", \" ?\", \":\", \" :\", \"!\", \" !\"]\n",
    "stop_tokens = [[tokenizer(stop_token)[\"input_ids\"][1]] for stop_token in stop_tokens]\n",
    "stop_tokens.extend([tokenizer(\"\\n\")[\"input_ids\"]])\n",
    "\n",
    "# Define eos token\n",
    "eos_token = tokenizer(\"\\n\")[\"input_ids\"][1]\n",
    "\n",
    "# How many questions to test\n",
    "n_questions = 3\n",
    "\n",
    "# How many answers to sample \n",
    "n_sample = 10\n",
    "\n",
    "print(f\"Few shot prompt:\\n{ten_shot_prompt}\")"
   ],
   "outputs": [
    {
     "name": "stdout",
     "output_type": "stream",
     "text": [
      "Few shot prompt:\n",
      "Question: Which American-born Sinclair won the Nobel Prize for Literature in 1930? Answer: Sinclair Lewis Question: Where in England was Dame Judi Dench born? Answer: York Question: In which decade did Billboard magazine first publish and American hit chart? Answer: 30s Question: From which country did Angola achieve independence in 1975? Answer: Portugal Question: Which city does David Soul come from? Answer: Chicago Question: Who won Super Bowl XX? Answer: Chicago Bears Question: Which was the first European country to abolish capital punishment? Answer: Norway Question: In which country did he widespread use of ISDN begin in 1988? Answer: Japan Question: What is Bruce Willis' real first name? Answer: Walter Question: Which William wrote the novel Lord Of The Flies? Answer: Golding \n"
     ]
    }
   ],
   "execution_count": 7
  },
  {
   "metadata": {
    "ExecuteTime": {
     "end_time": "2024-06-06T21:50:53.005959Z",
     "start_time": "2024-06-06T21:50:52.997924Z"
    }
   },
   "cell_type": "code",
   "source": [
    "def calculate_probability_sequence(sequence_ids, scores):\n",
    "    prob_output = 1\n",
    "    for j, token in enumerate(sequence_ids):\n",
    "        # Don't include probability of new line, empty string, special token\n",
    "        decoded_token = tokenizer.decode(token).strip()\n",
    "        if decoded_token in [\"\", \"\\n\", '', \"<pad>\"] or (\"<\" in decoded_token and \">\" in decoded_token):\n",
    "            continue\n",
    "            \n",
    "        # Scores are prediction scores meaning scores for each vocabulary token before softmax\n",
    "        probs_vocab = F.softmax(scores[j], dim=-1)\n",
    "        prob_token = probs_vocab[0, token].item()\n",
    "        prob_output *= prob_token\n",
    "    return prob_output"
   ],
   "outputs": [],
   "execution_count": 8
  },
  {
   "metadata": {},
   "cell_type": "markdown",
   "source": "This prompt is added before all following questions. However, as this prompt is always the same and I want to keep things clear, only the question is printed out."
  },
  {
   "metadata": {},
   "cell_type": "markdown",
   "source": "### Multinomial sampling"
  },
  {
   "metadata": {
    "ExecuteTime": {
     "end_time": "2024-06-06T22:17:41.317449Z",
     "start_time": "2024-06-06T22:14:26.936549Z"
    }
   },
   "cell_type": "code",
   "source": [
    "for i in range(n_questions):\n",
    "    torch.cuda.empty_cache()\n",
    "    question = ten_shot_prompt + \"Question: \" + data_trivia_val[i][\"question\"] + \" Answer:\"\n",
    "    answer = data_trivia_val[i][\"answer\"][\"value\"]\n",
    "    \n",
    "    # As mentioned above, only print question\n",
    "    print(f\"Question: {data_trivia_val[i]['question']}\")\n",
    "    print(f\"True Answer: {answer}\")\n",
    "\n",
    "    inputs = tokenizer(question, padding=False, truncation=False, return_tensors=\"pt\").to(device)\n",
    "    length_input = inputs[\"input_ids\"].shape[1]\n",
    "    \n",
    "    # Most probable output\n",
    "    output_generate = model.generate(inputs.input_ids,\n",
    "                                     max_length=16 + length_input,\n",
    "                                     eos_token_id=eos_token,\n",
    "                                     bad_words_ids=stop_tokens,\n",
    "                                     return_dict_in_generate=True,\n",
    "                                     output_scores=True)\n",
    "    # https://huggingface.co/docs/transformers/internal/generation_utils\n",
    "    generate_ids = output_generate.sequences\n",
    "    scores = output_generate.scores\n",
    "    output = tokenizer.batch_decode(generate_ids[0][length_input:-1], skip_special_tokens=True)\n",
    "\n",
    "    # Calculating probability of sequence\n",
    "    prob_output = calculate_probability_sequence(generate_ids[0][length_input:-1], scores)\n",
    "    \n",
    "    print(f\"Most probable answer: {''.join(output)} (P: {prob_output:.6})\")\n",
    "        \n",
    "    # Sample other outputs\n",
    "    print(f\"Sampled answer sequences:\")\n",
    "    output_generate = model.generate(inputs.input_ids,\n",
    "                                     max_length=16 + length_input,\n",
    "                                     eos_token_id=eos_token,\n",
    "                                     bad_words_ids=stop_tokens,\n",
    "                                     return_dict_in_generate=True,\n",
    "                                     output_scores=True,\n",
    "                                     do_sample=True, \n",
    "                                     num_return_sequences = n_sample)\n",
    "    \n",
    "    # https://huggingface.co/docs/transformers/internal/generation_utils\n",
    "    generate_ids = output_generate.sequences\n",
    "    scores = output_generate.scores\n",
    "    \n",
    "    for n_sequence in range(n_sample):\n",
    "        output = tokenizer.batch_decode(generate_ids[n_sequence][length_input:-1], skip_special_tokens=True)\n",
    "\n",
    "        # Calculating probability of sequence\n",
    "        prob_output = calculate_probability_sequence(generate_ids[n_sequence][length_input:-1], scores)\n",
    "\n",
    "        # Print out result\n",
    "        output_string = ''.join(output).replace(\"\\n\", \"\")\n",
    "        print(f\"Sequence ({n_sequence}): {output_string} (P: {prob_output:.6})\")\n",
    "    \n",
    "    print(\"-------------------------\")"
   ],
   "outputs": [
    {
     "name": "stdout",
     "output_type": "stream",
     "text": [
      "Question: Who was the man behind The Chipmunks?\n",
      "True Answer: David Seville\n",
      "Most probable answer:  Chip (P: 0.0392474)\n",
      "Sampled answer sequences:\n",
      "Sequence (0):  Donner (P: 0.00555596)\n",
      "Sequence (1):  Pillsbury CompanyThis guy is the poster child for someone who has (P: 0.0)\n",
      "Sequence (2):  Warner BrothersI had the same question as you this morning before even getting (P: 0.0)\n",
      "Sequence (3):  Micky mouse (P: 0.0)\n",
      "Sequence (4):  Sandberg (P: 0.0)\n",
      "Sequence (5):  The ChipmunksI still can't make my head around why any (P: 0.0)\n",
      "Sequence (6):  Sandberg (P: 0.0)\n",
      "Sequence (7):  The chipmunks Movie trivia answer is (P: 0.0)\n",
      "Sequence (8):  Chris Rolfe (P: 0.0)\n",
      "Sequence (9):  Daffy Duck (P: 0.0)\n",
      "-------------------------\n",
      "Question: Which Lloyd Webber musical premiered in the US on 10th December 1993?\n",
      "True Answer: Sunset Boulevard\n",
      "Most probable answer:  The Phantom Of The Opera (P: 0.0270808)\n",
      "Sampled answer sequences:\n",
      "Sequence (0):  London Palladium (or possibly West End) Playbill (P: 6.66469e-14)\n",
      "Sequence (1):  Rent (P: 0.0263554)\n",
      "Sequence (2):  Sweeney Todd (P: 0.0)\n",
      "Sequence (3):  Cats Questions and more (P: 0.0)\n",
      "Sequence (4):  The Musicman Story The Drowsy Chaperone The Sound of Music (P: 0.0)\n",
      "Sequence (5):  West Side Story (P: 0.0)\n",
      "Sequence (6):  The Phantom Of The Opera Advertisement (P: 0.0)\n",
      "Sequence (7):  Follies (P: 0.0)\n",
      "Sequence (8):  The Sound Of Music The Great Comet of 1812 (P: 0.0)\n",
      "Sequence (9):  The Phantom Of The Opera (P: 0.0)\n",
      "-------------------------\n",
      "Question: Who was the next British Prime Minister after Arthur Balfour?\n",
      "True Answer: Campbell-Bannerman\n",
      "Most probable answer:  Winston Churchill (P: 0.35321)\n",
      "Sampled answer sequences:\n",
      "Sequence (0):  John Major (who eventually was PM until 1997) (P: 6.2033e-12)\n",
      "Sequence (1):  Margaret Thatcher (P: 0.0)\n",
      "Sequence (2):  Winston Churchill (P: 0.000795969)\n",
      "Sequence (3):  Clement Attlee (P: 0.0)\n",
      "Sequence (4):  Neville Chamberlain (P: 0.0)\n",
      "Sequence (5):  Sir Winston Churchill/Sir Robert Menzies (P: 0.0)\n",
      "Sequence (6):  Wilson (also Known as \"the Lion\") (P: 0.0)\n",
      "Sequence (7):  Winston Churchill (P: 0.000795969)\n",
      "Sequence (8):  Churchill (P: 0.061566)\n",
      "Sequence (9):  Winston Churchill Advertisement (P: 6.13767e-05)\n",
      "-------------------------\n"
     ]
    }
   ],
   "execution_count": 11
  },
  {
   "metadata": {},
   "cell_type": "markdown",
   "source": "### Multinomial Beam Sampling"
  },
  {
   "metadata": {
    "ExecuteTime": {
     "end_time": "2024-06-06T22:31:34.212616Z",
     "start_time": "2024-06-06T22:22:54.333755Z"
    }
   },
   "cell_type": "code",
   "source": [
    "for i in range(n_questions):\n",
    "    torch.cuda.empty_cache()\n",
    "    question = ten_shot_prompt + \"Question: \" + data_trivia_val[i][\"question\"] + \" Answer:\"\n",
    "    answer = data_trivia_val[i][\"answer\"][\"value\"]\n",
    "    \n",
    "    # As mentioned above, only print question\n",
    "    print(f\"Question: {data_trivia_val[i]['question']}\")\n",
    "    print(f\"True Answer: {answer}\")\n",
    "\n",
    "    inputs = tokenizer(question, padding=False, truncation=False, return_tensors=\"pt\").to(device)\n",
    "    length_input = inputs[\"input_ids\"].shape[1]\n",
    "    \n",
    "    # Most probable output\n",
    "    output_generate = model.generate(inputs.input_ids,\n",
    "                                     max_length=16 + length_input,\n",
    "                                     eos_token_id=eos_token,\n",
    "                                     bad_words_ids=stop_tokens,\n",
    "                                     return_dict_in_generate=True,\n",
    "                                     output_scores=True)\n",
    "    # https://huggingface.co/docs/transformers/internal/generation_utils\n",
    "    generate_ids = output_generate.sequences\n",
    "    scores = output_generate.scores\n",
    "    output = tokenizer.batch_decode(generate_ids[0][length_input:-1], skip_special_tokens=True)\n",
    "\n",
    "    # Calculating probability of sequence\n",
    "    prob_output = calculate_probability_sequence(generate_ids[0][length_input:-1], scores)\n",
    "    \n",
    "    print(f\"Most probable answer: {''.join(output)} (P: {prob_output:.6})\")\n",
    "        \n",
    "    # Sample other outputs\n",
    "    print(f\"Sampled answer sequences:\")\n",
    "    output_generate = model.generate(inputs.input_ids,\n",
    "                                     max_length=16 + length_input,\n",
    "                                     eos_token_id=eos_token,\n",
    "                                     bad_words_ids=stop_tokens,\n",
    "                                     return_dict_in_generate=True,\n",
    "                                     output_scores=True,\n",
    "                                     do_sample=True, \n",
    "                                     num_beams=2*n_sample,\n",
    "                                     num_return_sequences = n_sample)\n",
    "    \n",
    "    # https://huggingface.co/docs/transformers/internal/generation_utils\n",
    "    generate_ids = output_generate.sequences\n",
    "    scores = output_generate.scores\n",
    "    \n",
    "    for n_sequence in range(n_sample):\n",
    "        output = tokenizer.batch_decode(generate_ids[n_sequence][length_input:-1], skip_special_tokens=True)\n",
    "\n",
    "        # Calculating probability of sequence\n",
    "        prob_output = calculate_probability_sequence(generate_ids[n_sequence][length_input:-1], scores)\n",
    "\n",
    "        # Print out result\n",
    "        output_string = ''.join(output).replace(\"\\n\", \"\")\n",
    "        print(f\"Sequence ({n_sequence}): {output_string} (P: {prob_output:.6})\")\n",
    "    \n",
    "    print(\"-------------------------\")"
   ],
   "outputs": [
    {
     "name": "stdout",
     "output_type": "stream",
     "text": [
      "Question: Who was the man behind The Chipmunks?\n",
      "True Answer: David Seville\n",
      "Most probable answer:  Chip (P: 0.0392474)\n",
      "Sampled answer sequences:\n",
      "Sequence (0):  The Chipmunks' creator, The Chipmunk's creator, The (P: 0.0)\n",
      "Sequence (1):  The Chipmunks' creator, The Chipmunk's creator, Chip (P: 0.0)\n",
      "Sequence (2):  The Chipmunks' creator, John Lasseter (P: 0.0)\n",
      "Sequence (3):  The Chipmunks' creator, The Chipmunk's creator, and (P: 0.0)\n",
      "Sequence (4):  The Chipmunks' creator Bill Plympton (P: 0.0)\n",
      "Sequence (5):  The Chipmunks' creator, Theodor Geisel (P: 0.0)\n",
      "Sequence (6):  The Chipmunks' creator, The Chipmunk's creator, and (P: 0.0)\n",
      "Sequence (7):  The Chipmunks' creator, John LasseterI�� (P: 0.0)\n",
      "Sequence (8):  The Chipmunks' creator, The Chipmunk's creator, Jim (P: 0.0)\n",
      "Sequence (9):  The Chipmunks' creator, The Chipmunk's creator, Chuck (P: 0.0)\n",
      "-------------------------\n",
      "Question: Which Lloyd Webber musical premiered in the US on 10th December 1993?\n",
      "True Answer: Sunset Boulevard\n",
      "Most probable answer:  The Phantom Of The Opera (P: 0.0270808)\n",
      "Sampled answer sequences:\n",
      "Sequence (0):  The Phantom Of The Opera (P: 1.3952e-08)\n",
      "Sequence (1):  The Phantom Of The Opera (P: 1.3952e-08)\n",
      "Sequence (2):  The Phantom Of The Opera (P: 1.3952e-08)\n",
      "Sequence (3):  The Phantom Of The Opera (P: 1.3952e-08)\n",
      "Sequence (4):  The Phantom Of The Opera (P: 1.3952e-08)\n",
      "Sequence (5):  The Phantom Of The Opera (P: 1.3952e-08)\n",
      "Sequence (6):  The Phantom Of The OperaI don't know if it's just me (P: 0.0)\n",
      "Sequence (7):  The Phantom Of The OperaI don't know if it's just me (P: 0.0)\n",
      "Sequence (8):  The Phantom Of The Opera (musical) (P: 0.0)\n",
      "Sequence (9):  The Phantom Of The Opera Advertisement (P: 5.4507e-10)\n",
      "-------------------------\n",
      "Question: Who was the next British Prime Minister after Arthur Balfour?\n",
      "True Answer: Campbell-Bannerman\n",
      "Most probable answer:  Winston Churchill (P: 0.35321)\n",
      "Sampled answer sequences:\n",
      "Sequence (0):  Winston ChurchillI don��t think I��ve ever seen (P: 0.0)\n",
      "Sequence (1):  Winston Churchill (P: 0.386036)\n",
      "Sequence (2):  Winston Churchill (P: 0.386036)\n",
      "Sequence (3):  Winston Churchill (P: 0.386036)\n",
      "Sequence (4):  Winston Churchill (P: 0.386036)\n",
      "Sequence (5):  Winston Churchill (P: 0.386036)\n",
      "Sequence (6):  Winston Churchill (P: 0.386036)\n",
      "Sequence (7):  Winston Churchill (P: 0.386036)\n",
      "Sequence (8):  Winston Churchill (P: 0.386036)\n",
      "Sequence (9):  Winston Churchill (P: 0.386036)\n",
      "-------------------------\n"
     ]
    }
   ],
   "execution_count": 14
  },
  {
   "metadata": {},
   "cell_type": "code",
   "outputs": [],
   "execution_count": null,
   "source": ""
  }
 ],
 "metadata": {
  "kernelspec": {
   "display_name": "py3.11",
   "language": "python",
   "name": "python3"
  },
  "language_info": {
   "codemirror_mode": {
    "name": "ipython",
    "version": 3
   },
   "file_extension": ".py",
   "mimetype": "text/x-python",
   "name": "python",
   "nbconvert_exporter": "python",
   "pygments_lexer": "ipython3",
   "version": "3.11.8"
  }
 },
 "nbformat": 4,
 "nbformat_minor": 2
}
